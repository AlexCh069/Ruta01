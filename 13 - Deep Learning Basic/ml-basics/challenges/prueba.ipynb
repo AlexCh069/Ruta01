{
 "cells": [
  {
   "cell_type": "code",
   "execution_count": 1,
   "metadata": {},
   "outputs": [],
   "source": [
    "a = 1"
   ]
  },
  {
   "cell_type": "code",
   "execution_count": 1,
   "metadata": {},
   "outputs": [
    {
     "data": {
      "text/html": [
       "<div>\n",
       "<style scoped>\n",
       "    .dataframe tbody tr th:only-of-type {\n",
       "        vertical-align: middle;\n",
       "    }\n",
       "\n",
       "    .dataframe tbody tr th {\n",
       "        vertical-align: top;\n",
       "    }\n",
       "\n",
       "    .dataframe thead th {\n",
       "        text-align: right;\n",
       "    }\n",
       "</style>\n",
       "<table border=\"1\" class=\"dataframe\">\n",
       "  <thead>\n",
       "    <tr style=\"text-align: right;\">\n",
       "      <th></th>\n",
       "      <th>transaction_date</th>\n",
       "      <th>house_age</th>\n",
       "      <th>transit_distance</th>\n",
       "      <th>local_convenience_stores</th>\n",
       "      <th>latitude</th>\n",
       "      <th>longitude</th>\n",
       "      <th>price_per_unit</th>\n",
       "    </tr>\n",
       "  </thead>\n",
       "  <tbody>\n",
       "    <tr>\n",
       "      <th>0</th>\n",
       "      <td>2012.917</td>\n",
       "      <td>32.0</td>\n",
       "      <td>84.87882</td>\n",
       "      <td>10</td>\n",
       "      <td>24.98298</td>\n",
       "      <td>121.54024</td>\n",
       "      <td>37.9</td>\n",
       "    </tr>\n",
       "    <tr>\n",
       "      <th>1</th>\n",
       "      <td>2012.917</td>\n",
       "      <td>19.5</td>\n",
       "      <td>306.59470</td>\n",
       "      <td>9</td>\n",
       "      <td>24.98034</td>\n",
       "      <td>121.53951</td>\n",
       "      <td>42.2</td>\n",
       "    </tr>\n",
       "    <tr>\n",
       "      <th>2</th>\n",
       "      <td>2013.583</td>\n",
       "      <td>13.3</td>\n",
       "      <td>561.98450</td>\n",
       "      <td>5</td>\n",
       "      <td>24.98746</td>\n",
       "      <td>121.54391</td>\n",
       "      <td>47.3</td>\n",
       "    </tr>\n",
       "    <tr>\n",
       "      <th>3</th>\n",
       "      <td>2013.500</td>\n",
       "      <td>13.3</td>\n",
       "      <td>561.98450</td>\n",
       "      <td>5</td>\n",
       "      <td>24.98746</td>\n",
       "      <td>121.54391</td>\n",
       "      <td>54.8</td>\n",
       "    </tr>\n",
       "    <tr>\n",
       "      <th>4</th>\n",
       "      <td>2012.833</td>\n",
       "      <td>5.0</td>\n",
       "      <td>390.56840</td>\n",
       "      <td>5</td>\n",
       "      <td>24.97937</td>\n",
       "      <td>121.54245</td>\n",
       "      <td>43.1</td>\n",
       "    </tr>\n",
       "  </tbody>\n",
       "</table>\n",
       "</div>"
      ],
      "text/plain": [
       "   transaction_date  house_age  transit_distance  local_convenience_stores  \\\n",
       "0          2012.917       32.0          84.87882                        10   \n",
       "1          2012.917       19.5         306.59470                         9   \n",
       "2          2013.583       13.3         561.98450                         5   \n",
       "3          2013.500       13.3         561.98450                         5   \n",
       "4          2012.833        5.0         390.56840                         5   \n",
       "\n",
       "   latitude  longitude  price_per_unit  \n",
       "0  24.98298  121.54024            37.9  \n",
       "1  24.98034  121.53951            42.2  \n",
       "2  24.98746  121.54391            47.3  \n",
       "3  24.98746  121.54391            54.8  \n",
       "4  24.97937  121.54245            43.1  "
      ]
     },
     "execution_count": 1,
     "metadata": {},
     "output_type": "execute_result"
    }
   ],
   "source": [
    "import pandas as pd\n",
    "import recursos as rc\n",
    "\n",
    "# load the training dataset\n",
    "data = pd.read_csv('data/real_estate.csv')\n",
    "data.head()"
   ]
  },
  {
   "cell_type": "code",
   "execution_count": 3,
   "metadata": {},
   "outputs": [
    {
     "name": "stdout",
     "output_type": "stream",
     "text": [
      "Help on function mapa_correlaciones in module recursos:\n",
      "\n",
      "mapa_correlaciones(data, corr_type: str)\n",
      "    Muestra la correlacion entre variables generando un mapa de calor y\n",
      "    ademas muestra el valor de correlacion entre variables\n",
      "    \n",
      "    data[Dataframe]     : Set de datos tipo pandas\n",
      "    corr_type[String]   : tipo de correlacion que usaremos (tenemos 3 opciones)\n",
      "                                - pearson\n",
      "                                - kendall\n",
      "                                - spearman\n",
      "    \n",
      "    Default:\n",
      "        corr_type = 'pearson\n",
      "\n"
     ]
    }
   ],
   "source": [
    "help(rc.mapa_correlaciones)"
   ]
  },
  {
   "cell_type": "code",
   "execution_count": 4,
   "metadata": {},
   "outputs": [
    {
     "data": {
      "image/png": "[encoded data removed]",
      "text/plain": [
       "<Figure size 640x480 with 2 Axes>"
      ]
     },
     "metadata": {},
     "output_type": "display_data"
    }
   ],
   "source": [
    "rc.mapa_correlaciones(data,'kendall')"
   ]
  },
  {
   "cell_type": "code",
   "execution_count": 14,
   "metadata": {},
   "outputs": [
    {
     "data": {
      "text/html": [
       "<div>\n",
       "<style scoped>\n",
       "    .dataframe tbody tr th:only-of-type {\n",
       "        vertical-align: middle;\n",
       "    }\n",
       "\n",
       "    .dataframe tbody tr th {\n",
       "        vertical-align: top;\n",
       "    }\n",
       "\n",
       "    .dataframe thead th {\n",
       "        text-align: right;\n",
       "    }\n",
       "</style>\n",
       "<table border=\"1\" class=\"dataframe\">\n",
       "  <thead>\n",
       "    <tr style=\"text-align: right;\">\n",
       "      <th></th>\n",
       "      <th>transaction_date</th>\n",
       "      <th>house_age</th>\n",
       "      <th>transit_distance</th>\n",
       "      <th>local_convenience_stores</th>\n",
       "      <th>latitude</th>\n",
       "      <th>longitude</th>\n",
       "      <th>price_per_unit</th>\n",
       "    </tr>\n",
       "  </thead>\n",
       "  <tbody>\n",
       "    <tr>\n",
       "      <th>0.00</th>\n",
       "      <td>2012.667</td>\n",
       "      <td>0.000</td>\n",
       "      <td>23.38284</td>\n",
       "      <td>0.0</td>\n",
       "      <td>24.932070</td>\n",
       "      <td>121.473530</td>\n",
       "      <td>7.600</td>\n",
       "    </tr>\n",
       "    <tr>\n",
       "      <th>0.15</th>\n",
       "      <td>2012.833</td>\n",
       "      <td>4.895</td>\n",
       "      <td>187.48230</td>\n",
       "      <td>0.0</td>\n",
       "      <td>24.954678</td>\n",
       "      <td>121.514531</td>\n",
       "      <td>23.195</td>\n",
       "    </tr>\n",
       "    <tr>\n",
       "      <th>0.30</th>\n",
       "      <td>2012.917</td>\n",
       "      <td>11.890</td>\n",
       "      <td>329.97470</td>\n",
       "      <td>2.0</td>\n",
       "      <td>24.963839</td>\n",
       "      <td>121.531478</td>\n",
       "      <td>29.790</td>\n",
       "    </tr>\n",
       "    <tr>\n",
       "      <th>0.45</th>\n",
       "      <td>2013.083</td>\n",
       "      <td>14.700</td>\n",
       "      <td>461.10160</td>\n",
       "      <td>4.0</td>\n",
       "      <td>24.968649</td>\n",
       "      <td>121.537580</td>\n",
       "      <td>37.170</td>\n",
       "    </tr>\n",
       "    <tr>\n",
       "      <th>0.60</th>\n",
       "      <td>2013.250</td>\n",
       "      <td>17.600</td>\n",
       "      <td>640.73910</td>\n",
       "      <td>5.0</td>\n",
       "      <td>24.974238</td>\n",
       "      <td>121.540690</td>\n",
       "      <td>41.200</td>\n",
       "    </tr>\n",
       "    <tr>\n",
       "      <th>0.75</th>\n",
       "      <td>2013.417</td>\n",
       "      <td>28.150</td>\n",
       "      <td>1454.27900</td>\n",
       "      <td>6.0</td>\n",
       "      <td>24.977455</td>\n",
       "      <td>121.543305</td>\n",
       "      <td>46.600</td>\n",
       "    </tr>\n",
       "    <tr>\n",
       "      <th>0.90</th>\n",
       "      <td>2013.500</td>\n",
       "      <td>34.670</td>\n",
       "      <td>2697.66270</td>\n",
       "      <td>8.0</td>\n",
       "      <td>24.982442</td>\n",
       "      <td>121.547220</td>\n",
       "      <td>54.940</td>\n",
       "    </tr>\n",
       "  </tbody>\n",
       "</table>\n",
       "</div>"
      ],
      "text/plain": [
       "      transaction_date  house_age  transit_distance  local_convenience_stores  \\\n",
       "0.00          2012.667      0.000          23.38284                       0.0   \n",
       "0.15          2012.833      4.895         187.48230                       0.0   \n",
       "0.30          2012.917     11.890         329.97470                       2.0   \n",
       "0.45          2013.083     14.700         461.10160                       4.0   \n",
       "0.60          2013.250     17.600         640.73910                       5.0   \n",
       "0.75          2013.417     28.150        1454.27900                       6.0   \n",
       "0.90          2013.500     34.670        2697.66270                       8.0   \n",
       "\n",
       "       latitude   longitude  price_per_unit  \n",
       "0.00  24.932070  121.473530           7.600  \n",
       "0.15  24.954678  121.514531          23.195  \n",
       "0.30  24.963839  121.531478          29.790  \n",
       "0.45  24.968649  121.537580          37.170  \n",
       "0.60  24.974238  121.540690          41.200  \n",
       "0.75  24.977455  121.543305          46.600  \n",
       "0.90  24.982442  121.547220          54.940  "
      ]
     },
     "execution_count": 14,
     "metadata": {},
     "output_type": "execute_result"
    }
   ],
   "source": [
    "rc.set_cuantiles(data,[0.15*x for x in range(0,7)])"
   ]
  },
  {
   "cell_type": "code",
   "execution_count": 6,
   "metadata": {},
   "outputs": [
    {
     "name": "stderr",
     "output_type": "stream",
     "text": [
      "c:\\Users\\personal\\Documents\\LIBROS\\HENRY DTF - 03\\Textos\\MICROSOFT LEAR\\RUTA 1 - ML\\13 - Deep Learning Basic\\ml-basics\\challenges\\recursos.py:147: UserWarning: Matplotlib is currently using module://matplotlib_inline.backend_inline, which is a non-GUI backend, so cannot show the figure.\n",
      "  fig.show()\n"
     ]
    },
    {
     "data": {
      "image/png": "[encoded data removed]",
      "text/plain": [
       "<Figure size 900x1200 with 2 Axes>"
      ]
     },
     "metadata": {},
     "output_type": "display_data"
    }
   ],
   "source": [
    "rc.distribution_Data(data.price_per_unit)"
   ]
  },
  {
   "cell_type": "code",
   "execution_count": 26,
   "metadata": {},
   "outputs": [
    {
     "name": "stdout",
     "output_type": "stream",
     "text": [
      "Help on function cut_cuantiles in module recursos:\n",
      "\n",
      "cut_cuantiles(data, name_column: str, rango: float, type_cut=True, less_equal=True)\n",
      "    Selecciona datos menores o mayores para cierto umbral de cuantiles\n",
      "    data [Dataframe]   : Set de datos en formato pandas\n",
      "    name_column [str]   : Nombre de la columna a recortar (debe encontrarse dentro del set de datos)\n",
      "    type_cut [Bool]     : Tipo de recorte:\n",
      "                            True --> rangos cuantilicos\n",
      "                            False --> rangos numericos \n",
      "    rangos [float]      : Rango de recorte \n",
      "    less_equal [bool]   : Recorte:\n",
      "                            True  --> menor igual que el rango\n",
      "                            False --> mayor igual que el rango\n",
      "    \n",
      "    Por defecto:\n",
      "        type_cute --> True, less_equal --> True\n",
      "\n"
     ]
    }
   ],
   "source": [
    "help(rc.cut_cuantiles)"
   ]
  },
  {
   "cell_type": "code",
   "execution_count": 4,
   "metadata": {},
   "outputs": [
    {
     "data": {
      "text/html": [
       "<div>\n",
       "<style scoped>\n",
       "    .dataframe tbody tr th:only-of-type {\n",
       "        vertical-align: middle;\n",
       "    }\n",
       "\n",
       "    .dataframe tbody tr th {\n",
       "        vertical-align: top;\n",
       "    }\n",
       "\n",
       "    .dataframe thead th {\n",
       "        text-align: right;\n",
       "    }\n",
       "</style>\n",
       "<table border=\"1\" class=\"dataframe\">\n",
       "  <thead>\n",
       "    <tr style=\"text-align: right;\">\n",
       "      <th></th>\n",
       "      <th>transaction_date</th>\n",
       "      <th>house_age</th>\n",
       "      <th>transit_distance</th>\n",
       "      <th>local_convenience_stores</th>\n",
       "      <th>latitude</th>\n",
       "      <th>longitude</th>\n",
       "      <th>price_per_unit</th>\n",
       "    </tr>\n",
       "  </thead>\n",
       "  <tbody>\n",
       "    <tr>\n",
       "      <th>0.00</th>\n",
       "      <td>2012.667</td>\n",
       "      <td>4.800</td>\n",
       "      <td>393.2606</td>\n",
       "      <td>0.00</td>\n",
       "      <td>24.938850</td>\n",
       "      <td>121.473530</td>\n",
       "      <td>7.600</td>\n",
       "    </tr>\n",
       "    <tr>\n",
       "      <th>0.10</th>\n",
       "      <td>2012.750</td>\n",
       "      <td>10.790</td>\n",
       "      <td>1153.3871</td>\n",
       "      <td>0.00</td>\n",
       "      <td>24.941550</td>\n",
       "      <td>121.495672</td>\n",
       "      <td>13.140</td>\n",
       "    </tr>\n",
       "    <tr>\n",
       "      <th>0.25</th>\n",
       "      <td>2012.917</td>\n",
       "      <td>14.250</td>\n",
       "      <td>1580.7450</td>\n",
       "      <td>0.00</td>\n",
       "      <td>24.947623</td>\n",
       "      <td>121.503420</td>\n",
       "      <td>15.950</td>\n",
       "    </tr>\n",
       "    <tr>\n",
       "      <th>0.50</th>\n",
       "      <td>2013.083</td>\n",
       "      <td>17.200</td>\n",
       "      <td>2408.9930</td>\n",
       "      <td>0.00</td>\n",
       "      <td>24.954310</td>\n",
       "      <td>121.513590</td>\n",
       "      <td>20.750</td>\n",
       "    </tr>\n",
       "    <tr>\n",
       "      <th>0.75</th>\n",
       "      <td>2013.417</td>\n",
       "      <td>25.825</td>\n",
       "      <td>4082.0150</td>\n",
       "      <td>2.75</td>\n",
       "      <td>24.962013</td>\n",
       "      <td>121.530390</td>\n",
       "      <td>22.975</td>\n",
       "    </tr>\n",
       "    <tr>\n",
       "      <th>0.95</th>\n",
       "      <td>2013.583</td>\n",
       "      <td>31.730</td>\n",
       "      <td>5512.0380</td>\n",
       "      <td>4.00</td>\n",
       "      <td>24.972238</td>\n",
       "      <td>121.559640</td>\n",
       "      <td>24.615</td>\n",
       "    </tr>\n",
       "    <tr>\n",
       "      <th>1.00</th>\n",
       "      <td>2013.583</td>\n",
       "      <td>33.500</td>\n",
       "      <td>6488.0210</td>\n",
       "      <td>6.00</td>\n",
       "      <td>24.990060</td>\n",
       "      <td>121.566270</td>\n",
       "      <td>24.700</td>\n",
       "    </tr>\n",
       "  </tbody>\n",
       "</table>\n",
       "</div>"
      ],
      "text/plain": [
       "      transaction_date  house_age  transit_distance  local_convenience_stores  \\\n",
       "0.00          2012.667      4.800          393.2606                      0.00   \n",
       "0.10          2012.750     10.790         1153.3871                      0.00   \n",
       "0.25          2012.917     14.250         1580.7450                      0.00   \n",
       "0.50          2013.083     17.200         2408.9930                      0.00   \n",
       "0.75          2013.417     25.825         4082.0150                      2.75   \n",
       "0.95          2013.583     31.730         5512.0380                      4.00   \n",
       "1.00          2013.583     33.500         6488.0210                      6.00   \n",
       "\n",
       "       latitude   longitude  price_per_unit  \n",
       "0.00  24.938850  121.473530           7.600  \n",
       "0.10  24.941550  121.495672          13.140  \n",
       "0.25  24.947623  121.503420          15.950  \n",
       "0.50  24.954310  121.513590          20.750  \n",
       "0.75  24.962013  121.530390          22.975  \n",
       "0.95  24.972238  121.559640          24.615  \n",
       "1.00  24.990060  121.566270          24.700  "
      ]
     },
     "execution_count": 4,
     "metadata": {},
     "output_type": "execute_result"
    }
   ],
   "source": [
    "data = rc.cut_cuantiles(data= data, name_column='price_per_unit', type_cut= True, rango= 0.25, less_equal=True)\n",
    "rc.set_cuantiles(data= data, cuantils_list=None )"
   ]
  },
  {
   "cell_type": "code",
   "execution_count": 4,
   "metadata": {},
   "outputs": [
    {
     "data": {
      "text/html": [
       "<div>\n",
       "<style scoped>\n",
       "    .dataframe tbody tr th:only-of-type {\n",
       "        vertical-align: middle;\n",
       "    }\n",
       "\n",
       "    .dataframe tbody tr th {\n",
       "        vertical-align: top;\n",
       "    }\n",
       "\n",
       "    .dataframe thead th {\n",
       "        text-align: right;\n",
       "    }\n",
       "</style>\n",
       "<table border=\"1\" class=\"dataframe\">\n",
       "  <thead>\n",
       "    <tr style=\"text-align: right;\">\n",
       "      <th></th>\n",
       "      <th>transaction_date</th>\n",
       "      <th>house_age</th>\n",
       "      <th>transit_distance</th>\n",
       "      <th>local_convenience_stores</th>\n",
       "      <th>latitude</th>\n",
       "      <th>longitude</th>\n",
       "      <th>price_per_unit</th>\n",
       "    </tr>\n",
       "  </thead>\n",
       "  <tbody>\n",
       "    <tr>\n",
       "      <th>0.00</th>\n",
       "      <td>2012.667</td>\n",
       "      <td>0.000</td>\n",
       "      <td>23.38284</td>\n",
       "      <td>0.0</td>\n",
       "      <td>24.932070</td>\n",
       "      <td>121.473530</td>\n",
       "      <td>7.60</td>\n",
       "    </tr>\n",
       "    <tr>\n",
       "      <th>0.10</th>\n",
       "      <td>2012.750</td>\n",
       "      <td>3.600</td>\n",
       "      <td>157.19690</td>\n",
       "      <td>0.0</td>\n",
       "      <td>24.951200</td>\n",
       "      <td>121.512325</td>\n",
       "      <td>20.90</td>\n",
       "    </tr>\n",
       "    <tr>\n",
       "      <th>0.25</th>\n",
       "      <td>2012.917</td>\n",
       "      <td>9.100</td>\n",
       "      <td>289.32480</td>\n",
       "      <td>1.0</td>\n",
       "      <td>24.962990</td>\n",
       "      <td>121.527600</td>\n",
       "      <td>27.30</td>\n",
       "    </tr>\n",
       "    <tr>\n",
       "      <th>0.50</th>\n",
       "      <td>2013.167</td>\n",
       "      <td>16.150</td>\n",
       "      <td>492.94415</td>\n",
       "      <td>4.0</td>\n",
       "      <td>24.971100</td>\n",
       "      <td>121.538535</td>\n",
       "      <td>38.25</td>\n",
       "    </tr>\n",
       "    <tr>\n",
       "      <th>0.75</th>\n",
       "      <td>2013.417</td>\n",
       "      <td>28.050</td>\n",
       "      <td>1463.12275</td>\n",
       "      <td>6.0</td>\n",
       "      <td>24.977998</td>\n",
       "      <td>121.543222</td>\n",
       "      <td>46.10</td>\n",
       "    </tr>\n",
       "    <tr>\n",
       "      <th>0.95</th>\n",
       "      <td>2013.583</td>\n",
       "      <td>37.765</td>\n",
       "      <td>4082.01500</td>\n",
       "      <td>9.0</td>\n",
       "      <td>24.985716</td>\n",
       "      <td>121.549098</td>\n",
       "      <td>57.66</td>\n",
       "    </tr>\n",
       "    <tr>\n",
       "      <th>1.00</th>\n",
       "      <td>2013.583</td>\n",
       "      <td>43.800</td>\n",
       "      <td>6488.02100</td>\n",
       "      <td>10.0</td>\n",
       "      <td>25.014590</td>\n",
       "      <td>121.566270</td>\n",
       "      <td>69.70</td>\n",
       "    </tr>\n",
       "  </tbody>\n",
       "</table>\n",
       "</div>"
      ],
      "text/plain": [
       "      transaction_date  house_age  transit_distance  local_convenience_stores  \\\n",
       "0.00          2012.667      0.000          23.38284                       0.0   \n",
       "0.10          2012.750      3.600         157.19690                       0.0   \n",
       "0.25          2012.917      9.100         289.32480                       1.0   \n",
       "0.50          2013.167     16.150         492.94415                       4.0   \n",
       "0.75          2013.417     28.050        1463.12275                       6.0   \n",
       "0.95          2013.583     37.765        4082.01500                       9.0   \n",
       "1.00          2013.583     43.800        6488.02100                      10.0   \n",
       "\n",
       "       latitude   longitude  price_per_unit  \n",
       "0.00  24.932070  121.473530            7.60  \n",
       "0.10  24.951200  121.512325           20.90  \n",
       "0.25  24.962990  121.527600           27.30  \n",
       "0.50  24.971100  121.538535           38.25  \n",
       "0.75  24.977998  121.543222           46.10  \n",
       "0.95  24.985716  121.549098           57.66  \n",
       "1.00  25.014590  121.566270           69.70  "
      ]
     },
     "execution_count": 4,
     "metadata": {},
     "output_type": "execute_result"
    }
   ],
   "source": [
    "rc.set_cuantiles(data,)"
   ]
  },
  {
   "cell_type": "code",
   "execution_count": 7,
   "metadata": {},
   "outputs": [
    {
     "data": {
      "image/png": "[encoded data removed]",
      "text/plain": [
       "<Figure size 640x480 with 2 Axes>"
      ]
     },
     "metadata": {},
     "output_type": "display_data"
    }
   ],
   "source": [
    "import seaborn as sns\n",
    "import matplotlib.pyplot as plt\n",
    "corr = data.corr()\n",
    "    \n",
    "sns.heatmap(corr, cbar = True,  square = True, annot=True, fmt= '.2f',annot_kws={'size': 8},\n",
    "           xticklabels= data.columns, \n",
    "           yticklabels= data.columns,\n",
    "           cmap= 'coolwarm').set_title('Mapa de Correlaciones')\n",
    "plt.show()"
   ]
  },
  {
   "cell_type": "code",
   "execution_count": 7,
   "metadata": {},
   "outputs": [
    {
     "data": {
      "text/plain": [
       "Index(['transaction_date', 'house_age', 'transit_distance',\n",
       "       'local_convenience_stores', 'latitude', 'longitude', 'price_per_unit'],\n",
       "      dtype='object')"
      ]
     },
     "execution_count": 7,
     "metadata": {},
     "output_type": "execute_result"
    }
   ],
   "source": [
    "data.columns"
   ]
  },
  {
   "cell_type": "code",
   "execution_count": 3,
   "metadata": {},
   "outputs": [
    {
     "name": "stdout",
     "output_type": "stream",
     "text": [
      "Help on function box_and_whisker in module recursos:\n",
      "\n",
      "box_and_whisker(df: pandas.core.frame.DataFrame, label_x: Optional[str] = None, label_y: Optional[str] = None, label_x2: Optional[str] = None, title=None, show: bool = False)\n",
      "    Crea un diagrama de caja y bigotes y, opcionalmente, lo muestra. Devuelve la cifra de esa parcela.\n",
      "    \n",
      "     Tenga en cuenta que si llama a esto desde cuadernos jupyter y no captura la salida\n",
      "     aparecerá en la pantalla como si se hubiera llamado `.show()`\n",
      "    \n",
      "    df: Los datos\n",
      "    label_x: Por qué agrupar. Predeterminado a Ninguno\n",
      "    label_y: Qué trazar en el eje y. Predeterminado para contar df.columns[0]\n",
      "    label_x2: si se proporciona, divide los diagramas de caja en más de 2 por valor x, cada uno con su propio color\n",
      "    title: título de la trama\n",
      "    show: aparece en pantalla. NB que esto no es necesario si se llama desde un\n",
      "             portátil y la salida no se captura\n",
      "\n"
     ]
    }
   ],
   "source": [
    "help(rc.box_and_whisker)"
   ]
  },
  {
   "cell_type": "code",
   "execution_count": 4,
   "metadata": {},
   "outputs": [
    {
     "data": {
      "application/vnd.plotly.v1+json": {
       "config": {
        "plotlyServerURL": "https://plot.ly"
       },
       "data": [
        {
         "alignmentgroup": "True",
         "hovertemplate": "local convenience stores=%{x}<br>price per unit=%{y}<extra></extra>",
         "legendgroup": "",
         "marker": {
          "color": "#636efa"
         },
         "name": "",
         "notched": false,
         "offsetgroup": "",
         "orientation": "v",
         "showlegend": false,
         "type": "box",
         "x": [
          10,
          9,
          5,
          5,
          5,
          3,
          7,
          6,
          1,
          3,
          1,
          9,
          5,
          4,
          4,
          2,
          6,
          1,
          8,
          7,
          3,
          7,
          1,
          7,
          4,
          2,
          5,
          5,
          4,
          5,
          0,
          7,
          1,
          6,
          7,
          0,
          2,
          1,
          6,
          5,
          0,
          0,
          5,
          6,
          4,
          8,
          9,
          3,
          0,
          1,
          4,
          1,
          3,
          5,
          5,
          0,
          8,
          7,
          1,
          5,
          2,
          6,
          3,
          4,
          0,
          8,
          6,
          5,
          6,
          5,
          9,
          3,
          8,
          0,
          10,
          1,
          3,
          3,
          2,
          1,
          4,
          6,
          7,
          3,
          7,
          9,
          1,
          0,
          0,
          0,
          1,
          0,
          4,
          0,
          5,
          5,
          9,
          3,
          5,
          9,
          4,
          1,
          6,
          6,
          6,
          6,
          8,
          1,
          2,
          3,
          5,
          7,
          3,
          6,
          8,
          2,
          1,
          0,
          3,
          5,
          5,
          5,
          4,
          0,
          7,
          6,
          4,
          5,
          6,
          7,
          8,
          3,
          5,
          8,
          6,
          0,
          5,
          6,
          0,
          5,
          5,
          3,
          5,
          5,
          1,
          5,
          0,
          8,
          0,
          8,
          7,
          9,
          1,
          6,
          0,
          0,
          0,
          4,
          5,
          4,
          8,
          3,
          0,
          5,
          0,
          1,
          6,
          8,
          5,
          1,
          0,
          5,
          9,
          4,
          7,
          3,
          0,
          9,
          4,
          1,
          0,
          8,
          3,
          0,
          0,
          3,
          3,
          0,
          8,
          0,
          8,
          2,
          7,
          5,
          0,
          5,
          2,
          8,
          7,
          8,
          0,
          5,
          3,
          5,
          1,
          3,
          10,
          3,
          1,
          8,
          5,
          1,
          2,
          9,
          3,
          8,
          1,
          6,
          5,
          8,
          9,
          0,
          10,
          0,
          6,
          6,
          0,
          8,
          0,
          0,
          3,
          0,
          1,
          9,
          4,
          7,
          10,
          0,
          0,
          0,
          2,
          7,
          3,
          8,
          3,
          5,
          6,
          0,
          0,
          1,
          7,
          0,
          9,
          2,
          5,
          1,
          1,
          1,
          6,
          0,
          4,
          3,
          5,
          3,
          7,
          4,
          3,
          5,
          5,
          0,
          1,
          8,
          5,
          1,
          7,
          7,
          5,
          3,
          6,
          3,
          6,
          9,
          1,
          2,
          7,
          3,
          9,
          5,
          6,
          5,
          0,
          7,
          5,
          7,
          6,
          3,
          4,
          4,
          0,
          10,
          4,
          0,
          3,
          0,
          3,
          5,
          1,
          0,
          5,
          0,
          2,
          4,
          9,
          5,
          6,
          2,
          7,
          2,
          10,
          5,
          0,
          4,
          1,
          6,
          2,
          8,
          7,
          3,
          3,
          0,
          0,
          0,
          2,
          5,
          5,
          6,
          2,
          5,
          9,
          5,
          0,
          2,
          9,
          8,
          0,
          0,
          2,
          1,
          6,
          5,
          5,
          3,
          3,
          3,
          1,
          5,
          1,
          9,
          6,
          0,
          10,
          8,
          4,
          10,
          7,
          4,
          1,
          2,
          1,
          3,
          5,
          5,
          7,
          1,
          5,
          0,
          2,
          8,
          8,
          6,
          5,
          9,
          0,
          4,
          0,
          10,
          0,
          3,
          4,
          8,
          9,
          1,
          6,
          4,
          1,
          4,
          1,
          4,
          2,
          1,
          5,
          3,
          1,
          9,
          5,
          6,
          7,
          0,
          3,
          0,
          9,
          7,
          5,
          9
         ],
         "x0": " ",
         "xaxis": "x",
         "y": [
          37.9,
          42.2,
          47.3,
          54.8,
          43.1,
          32.1,
          40.3,
          46.7,
          18.8,
          22.1,
          41.4,
          58.1,
          39.3,
          23.8,
          34.3,
          50.5,
          70.1,
          37.4,
          42.3,
          47.7,
          29.3,
          51.6,
          24.6,
          47.9,
          38.8,
          27,
          56.2,
          33.6,
          47,
          57.1,
          22.1,
          25,
          34.2,
          49.3,
          55.1,
          27.3,
          22.9,
          25.3,
          47.7,
          46.2,
          15.9,
          18.2,
          34.7,
          34.1,
          53.9,
          38.3,
          42,
          61.5,
          13.4,
          13.2,
          44.2,
          20.7,
          27,
          38.9,
          51.7,
          13.7,
          41.9,
          53.5,
          22.6,
          42.4,
          21.3,
          63.2,
          27.7,
          55,
          25.3,
          44.3,
          50.7,
          56.8,
          36.2,
          42,
          59,
          40.8,
          36.3,
          20,
          54.4,
          29.5,
          36.8,
          25.6,
          29.8,
          26.5,
          40.3,
          36.8,
          48.1,
          17.7,
          43.7,
          50.8,
          27,
          18.3,
          48,
          25.3,
          45.4,
          43.2,
          21.8,
          16.1,
          41,
          51.8,
          59.5,
          34.6,
          51,
          62.2,
          38.2,
          32.9,
          54.4,
          45.7,
          30.5,
          71,
          47.1,
          26.6,
          34.1,
          28.4,
          51.6,
          39.4,
          23.1,
          7.6,
          53.3,
          46.4,
          12.2,
          13,
          30.6,
          59.6,
          31.3,
          48,
          32.5,
          45.5,
          57.4,
          48.6,
          62.9,
          55,
          60.7,
          41,
          37.5,
          30.7,
          37.5,
          39.5,
          42.2,
          20.8,
          46.8,
          47.4,
          43.5,
          42.5,
          51.4,
          28.9,
          37.5,
          40.1,
          28.4,
          45.5,
          52.2,
          43.2,
          45.1,
          39.7,
          48.5,
          44.7,
          28.9,
          40.9,
          20.7,
          15.6,
          18.3,
          35.6,
          39.4,
          37.4,
          57.8,
          39.6,
          11.6,
          55.5,
          55.2,
          30.6,
          73.6,
          43.4,
          37.4,
          23.5,
          14.4,
          58.8,
          58.1,
          35.1,
          45.2,
          36.5,
          19.2,
          42,
          36.7,
          42.6,
          15.5,
          55.9,
          23.6,
          18.8,
          21.8,
          21.5,
          25.7,
          22,
          44.3,
          20.5,
          42.3,
          37.8,
          42.7,
          49.3,
          29.3,
          34.6,
          36.6,
          48.2,
          39.1,
          31.6,
          25.5,
          45.9,
          31.5,
          46.1,
          26.6,
          21.4,
          44,
          34.2,
          26.2,
          40.9,
          52.2,
          43.5,
          31.1,
          58,
          20.9,
          48.1,
          39.7,
          40.8,
          43.8,
          40.2,
          78.3,
          38.5,
          48.5,
          42.3,
          46,
          49,
          12.8,
          40.2,
          46.6,
          19,
          33.4,
          14.7,
          17.4,
          32.4,
          23.9,
          39.3,
          61.9,
          39,
          40.6,
          29.7,
          28.8,
          41.4,
          33.4,
          48.2,
          21.7,
          40.8,
          40.6,
          23.1,
          22.3,
          15,
          30,
          13.8,
          52.7,
          25.9,
          51.8,
          17.4,
          26.5,
          43.9,
          63.3,
          28.8,
          30.7,
          24.4,
          53,
          31.7,
          40.6,
          38.1,
          23.7,
          41.1,
          40.1,
          23,
          117.5,
          26.5,
          40.5,
          29.3,
          41,
          49.7,
          34,
          27.7,
          44,
          31.1,
          45.4,
          44.8,
          25.6,
          23.5,
          34.4,
          55.3,
          56.3,
          32.9,
          51,
          44.5,
          37,
          54.4,
          24.5,
          42.5,
          38.1,
          21.8,
          34.1,
          28.5,
          16.7,
          46.1,
          36.9,
          35.7,
          23.2,
          38.4,
          29.4,
          55,
          50.2,
          24.7,
          53,
          19.1,
          24.7,
          42.2,
          78,
          42.8,
          41.6,
          27.3,
          42,
          37.5,
          49.8,
          26.9,
          18.6,
          37.7,
          33.1,
          42.5,
          31.3,
          38.1,
          62.1,
          36.7,
          23.6,
          19.2,
          12.8,
          15.6,
          39.6,
          38.4,
          22.8,
          36.5,
          35.6,
          30.9,
          36.3,
          50.4,
          42.9,
          37,
          53.5,
          46.6,
          41.2,
          37.9,
          30.8,
          11.2,
          53.7,
          47,
          42.3,
          28.6,
          25.7,
          31.3,
          30.1,
          60.7,
          45.3,
          44.9,
          45.1,
          24.7,
          47.1,
          63.3,
          40,
          48,
          33.1,
          29.5,
          24.8,
          20.9,
          43.1,
          22.8,
          42.1,
          51.7,
          41.5,
          52.2,
          49.5,
          23.8,
          30.5,
          56.8,
          37.4,
          69.7,
          53.3,
          47.3,
          29.3,
          40.3,
          12.9,
          46.6,
          55.3,
          25.6,
          27.3,
          67.7,
          38.6,
          31.3,
          35.3,
          40.3,
          24.7,
          42.5,
          31.9,
          32.2,
          23,
          37.3,
          35.5,
          27.7,
          28.5,
          39.7,
          41.2,
          37.2,
          40.5,
          22.3,
          28.1,
          15.4,
          50,
          40.6,
          52.5,
          63.9
         ],
         "y0": " ",
         "yaxis": "y"
        }
       ],
       "layout": {
        "boxmode": "group",
        "legend": {
         "tracegroupgap": 0
        },
        "template": {
         "data": {
          "bar": [
           {
            "error_x": {
             "color": "#2a3f5f"
            },
            "error_y": {
             "color": "#2a3f5f"
            },
            "marker": {
             "line": {
              "color": "white",
              "width": 0.5
             },
             "pattern": {
              "fillmode": "overlay",
              "size": 10,
              "solidity": 0.2
             }
            },
            "type": "bar"
           }
          ],
          "barpolar": [
           {
            "marker": {
             "line": {
              "color": "white",
              "width": 0.5
             },
             "pattern": {
              "fillmode": "overlay",
              "size": 10,
              "solidity": 0.2
             }
            },
            "type": "barpolar"
           }
          ],
          "box": [
           {
            "boxpoints": "outliers",
            "notched": false,
            "type": "box"
           }
          ],
          "carpet": [
           {
            "aaxis": {
             "endlinecolor": "#2a3f5f",
             "gridcolor": "#C8D4E3",
             "linecolor": "#C8D4E3",
             "minorgridcolor": "#C8D4E3",
             "startlinecolor": "#2a3f5f"
            },
            "baxis": {
             "endlinecolor": "#2a3f5f",
             "gridcolor": "#C8D4E3",
             "linecolor": "#C8D4E3",
             "minorgridcolor": "#C8D4E3",
             "startlinecolor": "#2a3f5f"
            },
            "type": "carpet"
           }
          ],
          "choropleth": [
           {
            "colorbar": {
             "outlinewidth": 0,
             "ticks": ""
            },
            "type": "choropleth"
           }
          ],
          "contour": [
           {
            "colorbar": {
             "outlinewidth": 0,
             "ticks": ""
            },
            "colorscale": [
             [
              0,
              "#0d0887"
             ],
             [
              0.1111111111111111,
              "#46039f"
             ],
             [
              0.2222222222222222,
              "#7201a8"
             ],
             [
              0.3333333333333333,
              "#9c179e"
             ],
             [
              0.4444444444444444,
              "#bd3786"
             ],
             [
              0.5555555555555556,
              "#d8576b"
             ],
             [
              0.6666666666666666,
              "#ed7953"
             ],
             [
              0.7777777777777778,
              "#fb9f3a"
             ],
             [
              0.8888888888888888,
              "#fdca26"
             ],
             [
              1,
              "#f0f921"
             ]
            ],
            "type": "contour"
           }
          ],
          "contourcarpet": [
           {
            "colorbar": {
             "outlinewidth": 0,
             "ticks": ""
            },
            "type": "contourcarpet"
           }
          ],
          "heatmap": [
           {
            "colorbar": {
             "outlinewidth": 0,
             "ticks": ""
            },
            "colorscale": [
             [
              0,
              "#0d0887"
             ],
             [
              0.1111111111111111,
              "#46039f"
             ],
             [
              0.2222222222222222,
              "#7201a8"
             ],
             [
              0.3333333333333333,
              "#9c179e"
             ],
             [
              0.4444444444444444,
              "#bd3786"
             ],
             [
              0.5555555555555556,
              "#d8576b"
             ],
             [
              0.6666666666666666,
              "#ed7953"
             ],
             [
              0.7777777777777778,
              "#fb9f3a"
             ],
             [
              0.8888888888888888,
              "#fdca26"
             ],
             [
              1,
              "#f0f921"
             ]
            ],
            "type": "heatmap"
           }
          ],
          "heatmapgl": [
           {
            "colorbar": {
             "outlinewidth": 0,
             "ticks": ""
            },
            "colorscale": [
             [
              0,
              "#0d0887"
             ],
             [
              0.1111111111111111,
              "#46039f"
             ],
             [
              0.2222222222222222,
              "#7201a8"
             ],
             [
              0.3333333333333333,
              "#9c179e"
             ],
             [
              0.4444444444444444,
              "#bd3786"
             ],
             [
              0.5555555555555556,
              "#d8576b"
             ],
             [
              0.6666666666666666,
              "#ed7953"
             ],
             [
              0.7777777777777778,
              "#fb9f3a"
             ],
             [
              0.8888888888888888,
              "#fdca26"
             ],
             [
              1,
              "#f0f921"
             ]
            ],
            "type": "heatmapgl"
           }
          ],
          "histogram": [
           {
            "marker": {
             "line": {
              "width": 1
             },
             "pattern": {
              "fillmode": "overlay",
              "size": 10,
              "solidity": 0.2
             }
            },
            "type": "histogram"
           }
          ],
          "histogram2d": [
           {
            "colorbar": {
             "outlinewidth": 0,
             "ticks": ""
            },
            "colorscale": [
             [
              0,
              "#0d0887"
             ],
             [
              0.1111111111111111,
              "#46039f"
             ],
             [
              0.2222222222222222,
              "#7201a8"
             ],
             [
              0.3333333333333333,
              "#9c179e"
             ],
             [
              0.4444444444444444,
              "#bd3786"
             ],
             [
              0.5555555555555556,
              "#d8576b"
             ],
             [
              0.6666666666666666,
              "#ed7953"
             ],
             [
              0.7777777777777778,
              "#fb9f3a"
             ],
             [
              0.8888888888888888,
              "#fdca26"
             ],
             [
              1,
              "#f0f921"
             ]
            ],
            "type": "histogram2d"
           }
          ],
          "histogram2dcontour": [
           {
            "colorbar": {
             "outlinewidth": 0,
             "ticks": ""
            },
            "colorscale": [
             [
              0,
              "#0d0887"
             ],
             [
              0.1111111111111111,
              "#46039f"
             ],
             [
              0.2222222222222222,
              "#7201a8"
             ],
             [
              0.3333333333333333,
              "#9c179e"
             ],
             [
              0.4444444444444444,
              "#bd3786"
             ],
             [
              0.5555555555555556,
              "#d8576b"
             ],
             [
              0.6666666666666666,
              "#ed7953"
             ],
             [
              0.7777777777777778,
              "#fb9f3a"
             ],
             [
              0.8888888888888888,
              "#fdca26"
             ],
             [
              1,
              "#f0f921"
             ]
            ],
            "type": "histogram2dcontour"
           }
          ],
          "mesh3d": [
           {
            "colorbar": {
             "outlinewidth": 0,
             "ticks": ""
            },
            "type": "mesh3d"
           }
          ],
          "parcoords": [
           {
            "line": {
             "colorbar": {
              "outlinewidth": 0,
              "ticks": ""
             }
            },
            "type": "parcoords"
           }
          ],
          "pie": [
           {
            "automargin": true,
            "type": "pie"
           }
          ],
          "scatter": [
           {
            "fillpattern": {
             "fillmode": "overlay",
             "size": 10,
             "solidity": 0.2
            },
            "marker": {
             "opacity": 0.8
            },
            "type": "scatter"
           }
          ],
          "scatter3d": [
           {
            "line": {
             "colorbar": {
              "outlinewidth": 0,
              "ticks": ""
             }
            },
            "marker": {
             "colorbar": {
              "outlinewidth": 0,
              "ticks": ""
             },
             "opacity": 0.8
            },
            "type": "scatter3d"
           }
          ],
          "scattercarpet": [
           {
            "marker": {
             "colorbar": {
              "outlinewidth": 0,
              "ticks": ""
             }
            },
            "type": "scattercarpet"
           }
          ],
          "scattergeo": [
           {
            "marker": {
             "colorbar": {
              "outlinewidth": 0,
              "ticks": ""
             }
            },
            "type": "scattergeo"
           }
          ],
          "scattergl": [
           {
            "marker": {
             "colorbar": {
              "outlinewidth": 0,
              "ticks": ""
             }
            },
            "type": "scattergl"
           }
          ],
          "scattermapbox": [
           {
            "marker": {
             "colorbar": {
              "outlinewidth": 0,
              "ticks": ""
             }
            },
            "type": "scattermapbox"
           }
          ],
          "scatterpolar": [
           {
            "marker": {
             "colorbar": {
              "outlinewidth": 0,
              "ticks": ""
             }
            },
            "type": "scatterpolar"
           }
          ],
          "scatterpolargl": [
           {
            "marker": {
             "colorbar": {
              "outlinewidth": 0,
              "ticks": ""
             }
            },
            "type": "scatterpolargl"
           }
          ],
          "scatterternary": [
           {
            "marker": {
             "colorbar": {
              "outlinewidth": 0,
              "ticks": ""
             }
            },
            "type": "scatterternary"
           }
          ],
          "surface": [
           {
            "colorbar": {
             "outlinewidth": 0,
             "ticks": ""
            },
            "colorscale": [
             [
              0,
              "#0d0887"
             ],
             [
              0.1111111111111111,
              "#46039f"
             ],
             [
              0.2222222222222222,
              "#7201a8"
             ],
             [
              0.3333333333333333,
              "#9c179e"
             ],
             [
              0.4444444444444444,
              "#bd3786"
             ],
             [
              0.5555555555555556,
              "#d8576b"
             ],
             [
              0.6666666666666666,
              "#ed7953"
             ],
             [
              0.7777777777777778,
              "#fb9f3a"
             ],
             [
              0.8888888888888888,
              "#fdca26"
             ],
             [
              1,
              "#f0f921"
             ]
            ],
            "type": "surface"
           }
          ],
          "table": [
           {
            "cells": {
             "fill": {
              "color": "#EBF0F8"
             },
             "line": {
              "color": "white"
             }
            },
            "header": {
             "fill": {
              "color": "#C8D4E3"
             },
             "line": {
              "color": "white"
             }
            },
            "type": "table"
           }
          ]
         },
         "layout": {
          "annotationdefaults": {
           "arrowcolor": "#2a3f5f",
           "arrowhead": 0,
           "arrowwidth": 1
          },
          "autotypenumbers": "strict",
          "coloraxis": {
           "colorbar": {
            "outlinewidth": 0,
            "ticks": ""
           }
          },
          "colorscale": {
           "diverging": [
            [
             0,
             "#8e0152"
            ],
            [
             0.1,
             "#c51b7d"
            ],
            [
             0.2,
             "#de77ae"
            ],
            [
             0.3,
             "#f1b6da"
            ],
            [
             0.4,
             "#fde0ef"
            ],
            [
             0.5,
             "#f7f7f7"
            ],
            [
             0.6,
             "#e6f5d0"
            ],
            [
             0.7,
             "#b8e186"
            ],
            [
             0.8,
             "#7fbc41"
            ],
            [
             0.9,
             "#4d9221"
            ],
            [
             1,
             "#276419"
            ]
           ],
           "sequential": [
            [
             0,
             "#0d0887"
            ],
            [
             0.1111111111111111,
             "#46039f"
            ],
            [
             0.2222222222222222,
             "#7201a8"
            ],
            [
             0.3333333333333333,
             "#9c179e"
            ],
            [
             0.4444444444444444,
             "#bd3786"
            ],
            [
             0.5555555555555556,
             "#d8576b"
            ],
            [
             0.6666666666666666,
             "#ed7953"
            ],
            [
             0.7777777777777778,
             "#fb9f3a"
            ],
            [
             0.8888888888888888,
             "#fdca26"
            ],
            [
             1,
             "#f0f921"
            ]
           ],
           "sequentialminus": [
            [
             0,
             "#0d0887"
            ],
            [
             0.1111111111111111,
             "#46039f"
            ],
            [
             0.2222222222222222,
             "#7201a8"
            ],
            [
             0.3333333333333333,
             "#9c179e"
            ],
            [
             0.4444444444444444,
             "#bd3786"
            ],
            [
             0.5555555555555556,
             "#d8576b"
            ],
            [
             0.6666666666666666,
             "#ed7953"
            ],
            [
             0.7777777777777778,
             "#fb9f3a"
            ],
            [
             0.8888888888888888,
             "#fdca26"
            ],
            [
             1,
             "#f0f921"
            ]
           ]
          },
          "colorway": [
           "#636efa",
           "#EF553B",
           "#00cc96",
           "#ab63fa",
           "#FFA15A",
           "#19d3f3",
           "#FF6692",
           "#B6E880",
           "#FF97FF",
           "#FECB52"
          ],
          "font": {
           "color": "#2a3f5f"
          },
          "geo": {
           "bgcolor": "white",
           "lakecolor": "white",
           "landcolor": "white",
           "showlakes": true,
           "showland": true,
           "subunitcolor": "#C8D4E3"
          },
          "height": 400,
          "hoverlabel": {
           "align": "left"
          },
          "hovermode": "closest",
          "mapbox": {
           "style": "light"
          },
          "margin": {
           "b": 2,
           "l": 2,
           "r": 2,
           "t": 30
          },
          "paper_bgcolor": "white",
          "plot_bgcolor": "white",
          "polar": {
           "angularaxis": {
            "gridcolor": "#EBF0F8",
            "linecolor": "#EBF0F8",
            "ticks": ""
           },
           "bgcolor": "white",
           "radialaxis": {
            "gridcolor": "#EBF0F8",
            "linecolor": "#EBF0F8",
            "ticks": ""
           }
          },
          "scene": {
           "camera": {
            "eye": {
             "x": 1.5,
             "y": 1.5,
             "z": 0.1
            }
           },
           "xaxis": {
            "backgroundcolor": "white",
            "gridcolor": "#DFE8F3",
            "gridwidth": 2,
            "linecolor": "#EBF0F8",
            "showbackground": true,
            "ticks": "",
            "zerolinecolor": "#EBF0F8"
           },
           "yaxis": {
            "backgroundcolor": "white",
            "gridcolor": "#DFE8F3",
            "gridwidth": 2,
            "linecolor": "#EBF0F8",
            "showbackground": true,
            "ticks": "",
            "zerolinecolor": "#EBF0F8"
           },
           "zaxis": {
            "backgroundcolor": "white",
            "gridcolor": "#DFE8F3",
            "gridwidth": 2,
            "linecolor": "#EBF0F8",
            "showbackground": true,
            "ticks": "",
            "zerolinecolor": "#EBF0F8"
           }
          },
          "shapedefaults": {
           "line": {
            "color": "#2a3f5f"
           }
          },
          "ternary": {
           "aaxis": {
            "gridcolor": "#DFE8F3",
            "linecolor": "#A2B1C6",
            "ticks": ""
           },
           "baxis": {
            "gridcolor": "#DFE8F3",
            "linecolor": "#A2B1C6",
            "ticks": ""
           },
           "bgcolor": "white",
           "caxis": {
            "gridcolor": "#DFE8F3",
            "linecolor": "#A2B1C6",
            "ticks": ""
           }
          },
          "title": {
           "x": 0.5
          },
          "xaxis": {
           "automargin": true,
           "gridcolor": "#EBF0F8",
           "linecolor": "#EBF0F8",
           "linewidth": 2,
           "showline": true,
           "ticks": "",
           "title": {
            "standoff": 15
           },
           "zerolinecolor": "#EBF0F8",
           "zerolinewidth": 2
          },
          "yaxis": {
           "automargin": true,
           "gridcolor": "#EBF0F8",
           "linecolor": "#EBF0F8",
           "linewidth": 2,
           "showline": true,
           "ticks": "",
           "title": {
            "standoff": 15
           },
           "zerolinecolor": "#EBF0F8",
           "zerolinewidth": 2
          }
         }
        },
        "xaxis": {
         "anchor": "y",
         "domain": [
          0,
          1
         ],
         "title": {
          "text": "local convenience stores"
         }
        },
        "yaxis": {
         "anchor": "x",
         "domain": [
          0,
          1
         ],
         "title": {
          "text": "price per unit"
         }
        }
       }
      }
     },
     "metadata": {},
     "output_type": "display_data"
    }
   ],
   "source": [
    "rc.box_and_whisker(data,label_x='local_convenience_stores',label_y='price_per_unit')"
   ]
  },
  {
   "cell_type": "code",
   "execution_count": 2,
   "metadata": {},
   "outputs": [
    {
     "data": {
      "image/png": "[encoded data removed]",
      "text/plain": [
       "<Figure size 640x480 with 2 Axes>"
      ]
     },
     "metadata": {},
     "output_type": "display_data"
    }
   ],
   "source": [
    "rc.mapa_correlaciones(data)"
   ]
  },
  {
   "cell_type": "code",
   "execution_count": 20,
   "metadata": {},
   "outputs": [],
   "source": [
    "import pandas\n",
    "from typing import Optional\n",
    "import seaborn as sns\n",
    "import matplotlib.pyplot as plt\n",
    "\n",
    "def mapa_correlaciones(data:pandas.DataFrame, corr_type:Optional[str]=None):\n",
    "    \n",
    "    '''Muestra la correlacion entre variables generando un mapa de calor y\n",
    "    ademas muestra el valor de correlacion entre variables\n",
    "    \n",
    "    data[Dataframe]     : Set de datos tipo pandas\n",
    "    corr_type[String]   : tipo de correlacion que usaremos (tenemos 3 opciones)\n",
    "                                - pearson\n",
    "                                - kendall\n",
    "                                - spearman\n",
    "    \n",
    "    Default:\n",
    "        Correlacion de Pearson\n",
    "    '''\n",
    "\n",
    "     # Validadores\n",
    "    if type(data) != type(pd.DataFrame()):\n",
    "        return 'Ingrese set de datos tipo pandas'\n",
    "    # ------------------------------------------------------------------\n",
    "\n",
    "    corr_opcions = ['pearson', 'kendall', 'spearman']\n",
    "    if corr_type is None:\n",
    "        corr = data.corr(method= 'pearson')\n",
    "    else: \n",
    "        if corr_type in corr_opcions:\n",
    "            corr = data.corr(method = corr_type)\n",
    "        else:\n",
    "            return 'El tipo de correlacion ingresada es incorrecta'\n",
    "    sns.heatmap(corr, cbar = True,  square = True, annot=True, fmt= '.2f',annot_kws={'size': 8},\n",
    "           xticklabels= data.columns, \n",
    "           yticklabels= data.columns,\n",
    "           cmap= 'coolwarm').set_title('Mapa de Correlaciones')\n",
    "    plt.show()\n"
   ]
  },
  {
   "cell_type": "code",
   "execution_count": 22,
   "metadata": {},
   "outputs": [
    {
     "data": {
      "image/png": "[encoded data removed]",
      "text/plain": [
       "<Figure size 640x480 with 2 Axes>"
      ]
     },
     "metadata": {},
     "output_type": "display_data"
    }
   ],
   "source": [
    "mapa_correlaciones(data = data, corr_type='pearson')"
   ]
  },
  {
   "cell_type": "markdown",
   "metadata": {},
   "source": []
  },
  {
   "cell_type": "code",
   "execution_count": 4,
   "metadata": {},
   "outputs": [
    {
     "name": "stdout",
     "output_type": "stream",
     "text": [
      "Help on function histogram in module graphing:\n",
      "\n",
      "histogram(df: pandas.core.frame.DataFrame, label_x: Optional[str] = None, label_y: Optional[str] = None, label_colour: Optional[str] = None, nbins: Optional[int] = None, title=None, include_boxplot=False, histfunc: Optional[str] = None, show: bool = False)\n",
      "    Creates a 2D histogram and optionally shows it. Returns the figure for that histogram.\n",
      "    \n",
      "    Note that if calling this from jupyter notebooks and not capturing the output\n",
      "    it will appear on screen as though `.show()` has been called\n",
      "    \n",
      "    df: The data\n",
      "    label_x: What to bin by. Defaults to df.columns[0]\n",
      "    label_y: If provided, the sum of these numbers becomes the y axis. Defaults to count of label_x\n",
      "    label_colour: If provided, creates a stacked histogram, splitting each bar by this column\n",
      "    title: Plot title\n",
      "    nbins: the number of bins to show. None for automatic\n",
      "    histfunc: How to calculate y. See plotly for options\n",
      "    show:   appears on screen. NB that this is not needed if this is called from a\n",
      "            notebook and the output is not captured\n",
      "\n"
     ]
    }
   ],
   "source": [
    "\n",
    "help(rc.histogram)\n"
   ]
  },
  {
   "cell_type": "code",
   "execution_count": 6,
   "metadata": {},
   "outputs": [
    {
     "data": {
      "text/plain": [
       "Index(['transaction_date', 'house_age', 'transit_distance',\n",
       "       'local_convenience_stores', 'latitude', 'longitude', 'price_per_unit'],\n",
       "      dtype='object')"
      ]
     },
     "execution_count": 6,
     "metadata": {},
     "output_type": "execute_result"
    }
   ],
   "source": [
    "data.columns"
   ]
  },
  {
   "cell_type": "code",
   "execution_count": 3,
   "metadata": {},
   "outputs": [
    {
     "data": {
      "application/vnd.plotly.v1+json": {
       "config": {
        "plotlyServerURL": "https://plot.ly"
       },
       "data": [
        {
         "alignmentgroup": "True",
         "bingroup": "x",
         "hovertemplate": "local convenience stores=10<br>transaction date=%{x}<br>count=%{y}<extra></extra>",
         "legendgroup": "10",
         "marker": {
          "color": "#636efa",
          "pattern": {
           "shape": ""
          }
         },
         "name": "10",
         "offsetgroup": "10",
         "orientation": "v",
         "showlegend": true,
         "type": "histogram",
         "x": [
          2012.917,
          2012.917,
          2013.25,
          2013.583,
          2013.167,
          2013.167,
          2013.333,
          2012.667,
          2013.5,
          2013
         ],
         "xaxis": "x",
         "yaxis": "y"
        },
        {
         "alignmentgroup": "True",
         "bingroup": "x",
         "hovertemplate": "local convenience stores=9<br>transaction date=%{x}<br>count=%{y}<extra></extra>",
         "legendgroup": "9",
         "marker": {
          "color": "#EF553B",
          "pattern": {
           "shape": ""
          }
         },
         "name": "9",
         "offsetgroup": "9",
         "orientation": "v",
         "showlegend": true,
         "type": "histogram",
         "x": [
          2012.917,
          2013.333,
          2013.417,
          2013.583,
          2012.75,
          2013.417,
          2013.417,
          2013.5,
          2013.583,
          2013.083,
          2013.083,
          2013.333,
          2013.333,
          2012.833,
          2013.333,
          2012.917,
          2013.583,
          2012.917,
          2012.667,
          2013.417,
          2013.417,
          2013.5,
          2012.667,
          2012.667,
          2013.5
         ],
         "xaxis": "x",
         "yaxis": "y"
        },
        {
         "alignmentgroup": "True",
         "bingroup": "x",
         "hovertemplate": "local convenience stores=5<br>transaction date=%{x}<br>count=%{y}<extra></extra>",
         "legendgroup": "5",
         "marker": {
          "color": "#00cc96",
          "pattern": {
           "shape": ""
          }
         },
         "name": "5",
         "offsetgroup": "5",
         "orientation": "v",
         "showlegend": true,
         "type": "histogram",
         "x": [
          2013.583,
          2013.5,
          2012.833,
          2012.917,
          2012.667,
          2013.25,
          2013.083,
          2013.167,
          2013.417,
          2013.083,
          2013.083,
          2013.083,
          2013.5,
          2012.833,
          2012.917,
          2012.917,
          2013.417,
          2013.083,
          2013.5,
          2013.167,
          2013.5,
          2013.25,
          2013.167,
          2012.75,
          2012.667,
          2013.25,
          2013.417,
          2013.5,
          2012.917,
          2013,
          2013.5,
          2013.083,
          2013.083,
          2013.417,
          2013.333,
          2013.417,
          2012.667,
          2013.5,
          2013.417,
          2013.417,
          2012.667,
          2012.917,
          2012.833,
          2013.417,
          2012.75,
          2013,
          2013,
          2013.333,
          2013.083,
          2013.083,
          2013.417,
          2013.333,
          2013.25,
          2012.75,
          2012.917,
          2012.833,
          2013.333,
          2012.75,
          2013,
          2013.25,
          2012.75,
          2013.5,
          2013.25,
          2013.333,
          2013.25,
          2013.333,
          2013
         ],
         "xaxis": "x",
         "yaxis": "y"
        },
        {
         "alignmentgroup": "True",
         "bingroup": "x",
         "hovertemplate": "local convenience stores=3<br>transaction date=%{x}<br>count=%{y}<extra></extra>",
         "legendgroup": "3",
         "marker": {
          "color": "#ab63fa",
          "pattern": {
           "shape": ""
          }
         },
         "name": "3",
         "offsetgroup": "3",
         "orientation": "v",
         "showlegend": true,
         "type": "histogram",
         "x": [
          2012.667,
          2013.417,
          2013.417,
          2013.583,
          2013.583,
          2012.917,
          2013.083,
          2013.583,
          2012.833,
          2012.917,
          2013.083,
          2013.583,
          2013.417,
          2013.5,
          2013.5,
          2013.333,
          2013.417,
          2013.083,
          2013.5,
          2012.75,
          2013.167,
          2012.917,
          2013.083,
          2013.083,
          2013.583,
          2013.5,
          2012.833,
          2013.083,
          2013.167,
          2013.417,
          2013.25,
          2013.417,
          2013.417,
          2013.167,
          2013.167,
          2013.5,
          2013.417,
          2013.417,
          2012.833,
          2012.833,
          2012.833,
          2013.5,
          2012.667,
          2013.25,
          2013.083,
          2013.417
         ],
         "xaxis": "x",
         "yaxis": "y"
        },
        {
         "alignmentgroup": "True",
         "bingroup": "x",
         "hovertemplate": "local convenience stores=7<br>transaction date=%{x}<br>count=%{y}<extra></extra>",
         "legendgroup": "7",
         "marker": {
          "color": "#FFA15A",
          "pattern": {
           "shape": ""
          }
         },
         "name": "7",
         "offsetgroup": "7",
         "orientation": "v",
         "showlegend": true,
         "type": "histogram",
         "x": [
          2012.667,
          2012.667,
          2013.417,
          2013.083,
          2012.75,
          2012.75,
          2012.917,
          2013.083,
          2013.083,
          2013.583,
          2012.917,
          2013.417,
          2013.25,
          2013.417,
          2013.167,
          2013.083,
          2012.75,
          2013.5,
          2013.167,
          2013.167,
          2013.167,
          2012.667,
          2012.917,
          2012.833,
          2012.667,
          2013.25,
          2013.5,
          2013.417,
          2013,
          2013.167,
          2013.25
         ],
         "xaxis": "x",
         "yaxis": "y"
        },
        {
         "alignmentgroup": "True",
         "bingroup": "x",
         "hovertemplate": "local convenience stores=6<br>transaction date=%{x}<br>count=%{y}<extra></extra>",
         "legendgroup": "6",
         "marker": {
          "color": "#19d3f3",
          "pattern": {
           "shape": ""
          }
         },
         "name": "6",
         "offsetgroup": "6",
         "orientation": "v",
         "showlegend": true,
         "type": "histogram",
         "x": [
          2013.417,
          2013.25,
          2013.25,
          2012.667,
          2012.75,
          2013.5,
          2013,
          2013.417,
          2013,
          2013.083,
          2012.75,
          2012.667,
          2012.833,
          2013.333,
          2013.167,
          2013.083,
          2012.667,
          2013.5,
          2013.25,
          2013.417,
          2012.917,
          2013.333,
          2013.25,
          2013.417,
          2013.417,
          2012.75,
          2013.25,
          2013.583,
          2013.5,
          2013.25,
          2013.417,
          2013.583,
          2012.833,
          2013.167,
          2013.333,
          2013.083,
          2012.667
         ],
         "xaxis": "x",
         "yaxis": "y"
        },
        {
         "alignmentgroup": "True",
         "bingroup": "x",
         "hovertemplate": "local convenience stores=1<br>transaction date=%{x}<br>count=%{y}<extra></extra>",
         "legendgroup": "1",
         "marker": {
          "color": "#FF6692",
          "pattern": {
           "shape": ""
          }
         },
         "name": "1",
         "offsetgroup": "1",
         "orientation": "v",
         "showlegend": true,
         "type": "histogram",
         "x": [
          2013.5,
          2013.083,
          2012.75,
          2012.917,
          2012.75,
          2013.167,
          2012.667,
          2013.083,
          2013.5,
          2013.5,
          2013,
          2012.833,
          2012.833,
          2012.833,
          2013.333,
          2013,
          2013.083,
          2013.333,
          2012.917,
          2013.417,
          2013.083,
          2013,
          2012.75,
          2013.083,
          2013.25,
          2012.917,
          2012.833,
          2013.417,
          2012.667,
          2013.25,
          2013.333,
          2013.417,
          2012.917,
          2013.5,
          2013,
          2013.583,
          2013.417,
          2012.833,
          2012.75,
          2013.417,
          2013.083,
          2013.583,
          2013.5,
          2012.667,
          2012.917,
          2012.833
         ],
         "xaxis": "x",
         "yaxis": "y"
        },
        {
         "alignmentgroup": "True",
         "bingroup": "x",
         "hovertemplate": "local convenience stores=4<br>transaction date=%{x}<br>count=%{y}<extra></extra>",
         "legendgroup": "4",
         "marker": {
          "color": "#B6E880",
          "pattern": {
           "shape": ""
          }
         },
         "name": "4",
         "offsetgroup": "4",
         "orientation": "v",
         "showlegend": true,
         "type": "histogram",
         "x": [
          2012.667,
          2013.5,
          2013,
          2013.5,
          2013.583,
          2013.417,
          2013.583,
          2013.5,
          2012.917,
          2013.5,
          2013.25,
          2013.083,
          2013.25,
          2012.667,
          2013.083,
          2013.5,
          2013.25,
          2013.25,
          2012.833,
          2012.75,
          2012.833,
          2013.083,
          2013.167,
          2012.917,
          2013.417,
          2012.917,
          2012.667,
          2013.5,
          2013,
          2012.917,
          2013.417
         ],
         "xaxis": "x",
         "yaxis": "y"
        },
        {
         "alignmentgroup": "True",
         "bingroup": "x",
         "hovertemplate": "local convenience stores=2<br>transaction date=%{x}<br>count=%{y}<extra></extra>",
         "legendgroup": "2",
         "marker": {
          "color": "#FF97FF",
          "pattern": {
           "shape": ""
          }
         },
         "name": "2",
         "offsetgroup": "2",
         "orientation": "v",
         "showlegend": true,
         "type": "histogram",
         "x": [
          2013.583,
          2013.083,
          2012.917,
          2013.417,
          2012.917,
          2013.417,
          2013.083,
          2013.167,
          2013,
          2013.333,
          2013.083,
          2012.667,
          2013.417,
          2013.583,
          2013.083,
          2012.75,
          2012.667,
          2013.167,
          2012.833,
          2013,
          2013.417,
          2012.833,
          2013.417,
          2013.417
         ],
         "xaxis": "x",
         "yaxis": "y"
        },
        {
         "alignmentgroup": "True",
         "bingroup": "x",
         "hovertemplate": "local convenience stores=8<br>transaction date=%{x}<br>count=%{y}<extra></extra>",
         "legendgroup": "8",
         "marker": {
          "color": "#FECB52",
          "pattern": {
           "shape": ""
          }
         },
         "name": "8",
         "offsetgroup": "8",
         "orientation": "v",
         "showlegend": true,
         "type": "histogram",
         "x": [
          2013.417,
          2013.083,
          2013.417,
          2013.417,
          2013.583,
          2013.083,
          2012.667,
          2013.25,
          2012.833,
          2012.75,
          2012.667,
          2012.917,
          2013.417,
          2013.167,
          2012.917,
          2013.5,
          2013.25,
          2013.417,
          2012.833,
          2013.333,
          2012.75,
          2012.917,
          2013.417,
          2012.917,
          2013.083,
          2013,
          2013.083,
          2013.333,
          2013.333,
          2013.25
         ],
         "xaxis": "x",
         "yaxis": "y"
        },
        {
         "alignmentgroup": "True",
         "bingroup": "x",
         "hovertemplate": "local convenience stores=0<br>transaction date=%{x}<br>count=%{y}<extra></extra>",
         "legendgroup": "0",
         "marker": {
          "color": "#636efa",
          "pattern": {
           "shape": ""
          }
         },
         "name": "0",
         "offsetgroup": "0",
         "orientation": "v",
         "showlegend": true,
         "type": "histogram",
         "x": [
          2013.5,
          2013.5,
          2013,
          2013.5,
          2013.417,
          2012.833,
          2013.333,
          2013.167,
          2013.583,
          2012.917,
          2013.5,
          2013.25,
          2012.917,
          2013,
          2013.417,
          2012.917,
          2013.167,
          2012.75,
          2013.5,
          2013.5,
          2013.167,
          2013.583,
          2012.75,
          2012.833,
          2013.333,
          2012.833,
          2012.667,
          2013.5,
          2012.75,
          2013,
          2012.917,
          2013.5,
          2013.417,
          2013.333,
          2013.25,
          2013,
          2013.417,
          2013.583,
          2012.833,
          2013.167,
          2013.083,
          2013.5,
          2013.333,
          2013,
          2012.917,
          2013.083,
          2013,
          2013.083,
          2013.333,
          2012.75,
          2013.5,
          2012.833,
          2013.25,
          2012.75,
          2013,
          2013.083,
          2013.333,
          2013.333,
          2013.5,
          2012.667,
          2013.5,
          2013.25,
          2013,
          2012.75,
          2012.833,
          2013,
          2013
         ],
         "xaxis": "x",
         "yaxis": "y"
        }
       ],
       "layout": {
        "barmode": "relative",
        "legend": {
         "title": {
          "text": "local convenience stores"
         },
         "tracegroupgap": 0
        },
        "template": {
         "data": {
          "bar": [
           {
            "error_x": {
             "color": "#2a3f5f"
            },
            "error_y": {
             "color": "#2a3f5f"
            },
            "marker": {
             "line": {
              "color": "white",
              "width": 0.5
             },
             "pattern": {
              "fillmode": "overlay",
              "size": 10,
              "solidity": 0.2
             }
            },
            "type": "bar"
           }
          ],
          "barpolar": [
           {
            "marker": {
             "line": {
              "color": "white",
              "width": 0.5
             },
             "pattern": {
              "fillmode": "overlay",
              "size": 10,
              "solidity": 0.2
             }
            },
            "type": "barpolar"
           }
          ],
          "box": [
           {
            "boxpoints": "outliers",
            "notched": false,
            "type": "box"
           }
          ],
          "carpet": [
           {
            "aaxis": {
             "endlinecolor": "#2a3f5f",
             "gridcolor": "#C8D4E3",
             "linecolor": "#C8D4E3",
             "minorgridcolor": "#C8D4E3",
             "startlinecolor": "#2a3f5f"
            },
            "baxis": {
             "endlinecolor": "#2a3f5f",
             "gridcolor": "#C8D4E3",
             "linecolor": "#C8D4E3",
             "minorgridcolor": "#C8D4E3",
             "startlinecolor": "#2a3f5f"
            },
            "type": "carpet"
           }
          ],
          "choropleth": [
           {
            "colorbar": {
             "outlinewidth": 0,
             "ticks": ""
            },
            "type": "choropleth"
           }
          ],
          "contour": [
           {
            "colorbar": {
             "outlinewidth": 0,
             "ticks": ""
            },
            "colorscale": [
             [
              0,
              "#0d0887"
             ],
             [
              0.1111111111111111,
              "#46039f"
             ],
             [
              0.2222222222222222,
              "#7201a8"
             ],
             [
              0.3333333333333333,
              "#9c179e"
             ],
             [
              0.4444444444444444,
              "#bd3786"
             ],
             [
              0.5555555555555556,
              "#d8576b"
             ],
             [
              0.6666666666666666,
              "#ed7953"
             ],
             [
              0.7777777777777778,
              "#fb9f3a"
             ],
             [
              0.8888888888888888,
              "#fdca26"
             ],
             [
              1,
              "#f0f921"
             ]
            ],
            "type": "contour"
           }
          ],
          "contourcarpet": [
           {
            "colorbar": {
             "outlinewidth": 0,
             "ticks": ""
            },
            "type": "contourcarpet"
           }
          ],
          "heatmap": [
           {
            "colorbar": {
             "outlinewidth": 0,
             "ticks": ""
            },
            "colorscale": [
             [
              0,
              "#0d0887"
             ],
             [
              0.1111111111111111,
              "#46039f"
             ],
             [
              0.2222222222222222,
              "#7201a8"
             ],
             [
              0.3333333333333333,
              "#9c179e"
             ],
             [
              0.4444444444444444,
              "#bd3786"
             ],
             [
              0.5555555555555556,
              "#d8576b"
             ],
             [
              0.6666666666666666,
              "#ed7953"
             ],
             [
              0.7777777777777778,
              "#fb9f3a"
             ],
             [
              0.8888888888888888,
              "#fdca26"
             ],
             [
              1,
              "#f0f921"
             ]
            ],
            "type": "heatmap"
           }
          ],
          "heatmapgl": [
           {
            "colorbar": {
             "outlinewidth": 0,
             "ticks": ""
            },
            "colorscale": [
             [
              0,
              "#0d0887"
             ],
             [
              0.1111111111111111,
              "#46039f"
             ],
             [
              0.2222222222222222,
              "#7201a8"
             ],
             [
              0.3333333333333333,
              "#9c179e"
             ],
             [
              0.4444444444444444,
              "#bd3786"
             ],
             [
              0.5555555555555556,
              "#d8576b"
             ],
             [
              0.6666666666666666,
              "#ed7953"
             ],
             [
              0.7777777777777778,
              "#fb9f3a"
             ],
             [
              0.8888888888888888,
              "#fdca26"
             ],
             [
              1,
              "#f0f921"
             ]
            ],
            "type": "heatmapgl"
           }
          ],
          "histogram": [
           {
            "marker": {
             "line": {
              "width": 1
             },
             "pattern": {
              "fillmode": "overlay",
              "size": 10,
              "solidity": 0.2
             }
            },
            "type": "histogram"
           }
          ],
          "histogram2d": [
           {
            "colorbar": {
             "outlinewidth": 0,
             "ticks": ""
            },
            "colorscale": [
             [
              0,
              "#0d0887"
             ],
             [
              0.1111111111111111,
              "#46039f"
             ],
             [
              0.2222222222222222,
              "#7201a8"
             ],
             [
              0.3333333333333333,
              "#9c179e"
             ],
             [
              0.4444444444444444,
              "#bd3786"
             ],
             [
              0.5555555555555556,
              "#d8576b"
             ],
             [
              0.6666666666666666,
              "#ed7953"
             ],
             [
              0.7777777777777778,
              "#fb9f3a"
             ],
             [
              0.8888888888888888,
              "#fdca26"
             ],
             [
              1,
              "#f0f921"
             ]
            ],
            "type": "histogram2d"
           }
          ],
          "histogram2dcontour": [
           {
            "colorbar": {
             "outlinewidth": 0,
             "ticks": ""
            },
            "colorscale": [
             [
              0,
              "#0d0887"
             ],
             [
              0.1111111111111111,
              "#46039f"
             ],
             [
              0.2222222222222222,
              "#7201a8"
             ],
             [
              0.3333333333333333,
              "#9c179e"
             ],
             [
              0.4444444444444444,
              "#bd3786"
             ],
             [
              0.5555555555555556,
              "#d8576b"
             ],
             [
              0.6666666666666666,
              "#ed7953"
             ],
             [
              0.7777777777777778,
              "#fb9f3a"
             ],
             [
              0.8888888888888888,
              "#fdca26"
             ],
             [
              1,
              "#f0f921"
             ]
            ],
            "type": "histogram2dcontour"
           }
          ],
          "mesh3d": [
           {
            "colorbar": {
             "outlinewidth": 0,
             "ticks": ""
            },
            "type": "mesh3d"
           }
          ],
          "parcoords": [
           {
            "line": {
             "colorbar": {
              "outlinewidth": 0,
              "ticks": ""
             }
            },
            "type": "parcoords"
           }
          ],
          "pie": [
           {
            "automargin": true,
            "type": "pie"
           }
          ],
          "scatter": [
           {
            "fillpattern": {
             "fillmode": "overlay",
             "size": 10,
             "solidity": 0.2
            },
            "marker": {
             "opacity": 0.8
            },
            "type": "scatter"
           }
          ],
          "scatter3d": [
           {
            "line": {
             "colorbar": {
              "outlinewidth": 0,
              "ticks": ""
             }
            },
            "marker": {
             "colorbar": {
              "outlinewidth": 0,
              "ticks": ""
             },
             "opacity": 0.8
            },
            "type": "scatter3d"
           }
          ],
          "scattercarpet": [
           {
            "marker": {
             "colorbar": {
              "outlinewidth": 0,
              "ticks": ""
             }
            },
            "type": "scattercarpet"
           }
          ],
          "scattergeo": [
           {
            "marker": {
             "colorbar": {
              "outlinewidth": 0,
              "ticks": ""
             }
            },
            "type": "scattergeo"
           }
          ],
          "scattergl": [
           {
            "marker": {
             "colorbar": {
              "outlinewidth": 0,
              "ticks": ""
             }
            },
            "type": "scattergl"
           }
          ],
          "scattermapbox": [
           {
            "marker": {
             "colorbar": {
              "outlinewidth": 0,
              "ticks": ""
             }
            },
            "type": "scattermapbox"
           }
          ],
          "scatterpolar": [
           {
            "marker": {
             "colorbar": {
              "outlinewidth": 0,
              "ticks": ""
             }
            },
            "type": "scatterpolar"
           }
          ],
          "scatterpolargl": [
           {
            "marker": {
             "colorbar": {
              "outlinewidth": 0,
              "ticks": ""
             }
            },
            "type": "scatterpolargl"
           }
          ],
          "scatterternary": [
           {
            "marker": {
             "colorbar": {
              "outlinewidth": 0,
              "ticks": ""
             }
            },
            "type": "scatterternary"
           }
          ],
          "surface": [
           {
            "colorbar": {
             "outlinewidth": 0,
             "ticks": ""
            },
            "colorscale": [
             [
              0,
              "#0d0887"
             ],
             [
              0.1111111111111111,
              "#46039f"
             ],
             [
              0.2222222222222222,
              "#7201a8"
             ],
             [
              0.3333333333333333,
              "#9c179e"
             ],
             [
              0.4444444444444444,
              "#bd3786"
             ],
             [
              0.5555555555555556,
              "#d8576b"
             ],
             [
              0.6666666666666666,
              "#ed7953"
             ],
             [
              0.7777777777777778,
              "#fb9f3a"
             ],
             [
              0.8888888888888888,
              "#fdca26"
             ],
             [
              1,
              "#f0f921"
             ]
            ],
            "type": "surface"
           }
          ],
          "table": [
           {
            "cells": {
             "fill": {
              "color": "#EBF0F8"
             },
             "line": {
              "color": "white"
             }
            },
            "header": {
             "fill": {
              "color": "#C8D4E3"
             },
             "line": {
              "color": "white"
             }
            },
            "type": "table"
           }
          ]
         },
         "layout": {
          "annotationdefaults": {
           "arrowcolor": "#2a3f5f",
           "arrowhead": 0,
           "arrowwidth": 1
          },
          "autotypenumbers": "strict",
          "coloraxis": {
           "colorbar": {
            "outlinewidth": 0,
            "ticks": ""
           }
          },
          "colorscale": {
           "diverging": [
            [
             0,
             "#8e0152"
            ],
            [
             0.1,
             "#c51b7d"
            ],
            [
             0.2,
             "#de77ae"
            ],
            [
             0.3,
             "#f1b6da"
            ],
            [
             0.4,
             "#fde0ef"
            ],
            [
             0.5,
             "#f7f7f7"
            ],
            [
             0.6,
             "#e6f5d0"
            ],
            [
             0.7,
             "#b8e186"
            ],
            [
             0.8,
             "#7fbc41"
            ],
            [
             0.9,
             "#4d9221"
            ],
            [
             1,
             "#276419"
            ]
           ],
           "sequential": [
            [
             0,
             "#0d0887"
            ],
            [
             0.1111111111111111,
             "#46039f"
            ],
            [
             0.2222222222222222,
             "#7201a8"
            ],
            [
             0.3333333333333333,
             "#9c179e"
            ],
            [
             0.4444444444444444,
             "#bd3786"
            ],
            [
             0.5555555555555556,
             "#d8576b"
            ],
            [
             0.6666666666666666,
             "#ed7953"
            ],
            [
             0.7777777777777778,
             "#fb9f3a"
            ],
            [
             0.8888888888888888,
             "#fdca26"
            ],
            [
             1,
             "#f0f921"
            ]
           ],
           "sequentialminus": [
            [
             0,
             "#0d0887"
            ],
            [
             0.1111111111111111,
             "#46039f"
            ],
            [
             0.2222222222222222,
             "#7201a8"
            ],
            [
             0.3333333333333333,
             "#9c179e"
            ],
            [
             0.4444444444444444,
             "#bd3786"
            ],
            [
             0.5555555555555556,
             "#d8576b"
            ],
            [
             0.6666666666666666,
             "#ed7953"
            ],
            [
             0.7777777777777778,
             "#fb9f3a"
            ],
            [
             0.8888888888888888,
             "#fdca26"
            ],
            [
             1,
             "#f0f921"
            ]
           ]
          },
          "colorway": [
           "#636efa",
           "#EF553B",
           "#00cc96",
           "#ab63fa",
           "#FFA15A",
           "#19d3f3",
           "#FF6692",
           "#B6E880",
           "#FF97FF",
           "#FECB52"
          ],
          "font": {
           "color": "#2a3f5f"
          },
          "geo": {
           "bgcolor": "white",
           "lakecolor": "white",
           "landcolor": "white",
           "showlakes": true,
           "showland": true,
           "subunitcolor": "#C8D4E3"
          },
          "height": 400,
          "hoverlabel": {
           "align": "left"
          },
          "hovermode": "closest",
          "mapbox": {
           "style": "light"
          },
          "margin": {
           "b": 2,
           "l": 2,
           "r": 2,
           "t": 30
          },
          "paper_bgcolor": "white",
          "plot_bgcolor": "white",
          "polar": {
           "angularaxis": {
            "gridcolor": "#EBF0F8",
            "linecolor": "#EBF0F8",
            "ticks": ""
           },
           "bgcolor": "white",
           "radialaxis": {
            "gridcolor": "#EBF0F8",
            "linecolor": "#EBF0F8",
            "ticks": ""
           }
          },
          "scene": {
           "camera": {
            "eye": {
             "x": 1.5,
             "y": 1.5,
             "z": 0.1
            }
           },
           "xaxis": {
            "backgroundcolor": "white",
            "gridcolor": "#DFE8F3",
            "gridwidth": 2,
            "linecolor": "#EBF0F8",
            "showbackground": true,
            "ticks": "",
            "zerolinecolor": "#EBF0F8"
           },
           "yaxis": {
            "backgroundcolor": "white",
            "gridcolor": "#DFE8F3",
            "gridwidth": 2,
            "linecolor": "#EBF0F8",
            "showbackground": true,
            "ticks": "",
            "zerolinecolor": "#EBF0F8"
           },
           "zaxis": {
            "backgroundcolor": "white",
            "gridcolor": "#DFE8F3",
            "gridwidth": 2,
            "linecolor": "#EBF0F8",
            "showbackground": true,
            "ticks": "",
            "zerolinecolor": "#EBF0F8"
           }
          },
          "shapedefaults": {
           "line": {
            "color": "#2a3f5f"
           }
          },
          "ternary": {
           "aaxis": {
            "gridcolor": "#DFE8F3",
            "linecolor": "#A2B1C6",
            "ticks": ""
           },
           "baxis": {
            "gridcolor": "#DFE8F3",
            "linecolor": "#A2B1C6",
            "ticks": ""
           },
           "bgcolor": "white",
           "caxis": {
            "gridcolor": "#DFE8F3",
            "linecolor": "#A2B1C6",
            "ticks": ""
           }
          },
          "title": {
           "x": 0.5
          },
          "xaxis": {
           "automargin": true,
           "gridcolor": "#EBF0F8",
           "linecolor": "#EBF0F8",
           "linewidth": 2,
           "showline": true,
           "ticks": "",
           "title": {
            "standoff": 15
           },
           "zerolinecolor": "#EBF0F8",
           "zerolinewidth": 2
          },
          "yaxis": {
           "automargin": true,
           "gridcolor": "#EBF0F8",
           "linecolor": "#EBF0F8",
           "linewidth": 2,
           "showline": true,
           "ticks": "",
           "title": {
            "standoff": 15
           },
           "zerolinecolor": "#EBF0F8",
           "zerolinewidth": 2
          }
         }
        },
        "xaxis": {
         "anchor": "y",
         "domain": [
          0,
          1
         ],
         "title": {
          "text": "transaction date"
         }
        },
        "yaxis": {
         "anchor": "x",
         "domain": [
          0,
          1
         ],
         "title": {
          "text": "count"
         }
        }
       }
      }
     },
     "metadata": {},
     "output_type": "display_data"
    }
   ],
   "source": [
    "rc.histogram(data,label_x='transaction_date',label_colour='local_convenience_stores')"
   ]
  },
  {
   "cell_type": "code",
   "execution_count": 4,
   "metadata": {},
   "outputs": [
    {
     "data": {
      "application/vnd.plotly.v1+json": {
       "config": {
        "plotlyServerURL": "https://plot.ly"
       },
       "data": [
        {
         "histfunc": "count",
         "name": "0",
         "type": "histogram",
         "x": [
          2013.5,
          2013.5,
          2013,
          2013.5,
          2013.417,
          2012.833,
          2013.333,
          2013.167,
          2013.583,
          2012.917,
          2013.5,
          2013.25,
          2012.917,
          2013,
          2013.417,
          2012.917,
          2013.167,
          2012.75,
          2013.5,
          2013.5,
          2013.167,
          2013.583,
          2012.75,
          2012.833,
          2013.333,
          2012.833,
          2012.667,
          2013.5,
          2012.75,
          2013,
          2012.917,
          2013.5,
          2013.417,
          2013.333,
          2013.25,
          2013,
          2013.417,
          2013.583,
          2012.833,
          2013.167,
          2013.083,
          2013.5,
          2013.333,
          2013,
          2012.917,
          2013.083,
          2013,
          2013.083,
          2013.333,
          2012.75,
          2013.5,
          2012.833,
          2013.25,
          2012.75,
          2013,
          2013.083,
          2013.333,
          2013.333,
          2013.5,
          2012.667,
          2013.5,
          2013.25,
          2013,
          2012.75,
          2012.833,
          2013,
          2013
         ]
        },
        {
         "histfunc": "count",
         "name": "1",
         "type": "histogram",
         "x": [
          2013.5,
          2013.083,
          2012.75,
          2012.917,
          2012.75,
          2013.167,
          2012.667,
          2013.083,
          2013.5,
          2013.5,
          2013,
          2012.833,
          2012.833,
          2012.833,
          2013.333,
          2013,
          2013.083,
          2013.333,
          2012.917,
          2013.417,
          2013.083,
          2013,
          2012.75,
          2013.083,
          2013.25,
          2012.917,
          2012.833,
          2013.417,
          2012.667,
          2013.25,
          2013.333,
          2013.417,
          2012.917,
          2013.5,
          2013,
          2013.583,
          2013.417,
          2012.833,
          2012.75,
          2013.417,
          2013.083,
          2013.583,
          2013.5,
          2012.667,
          2012.917,
          2012.833
         ]
        },
        {
         "histfunc": "count",
         "name": "2",
         "type": "histogram",
         "x": [
          2013.583,
          2013.083,
          2012.917,
          2013.417,
          2012.917,
          2013.417,
          2013.083,
          2013.167,
          2013,
          2013.333,
          2013.083,
          2012.667,
          2013.417,
          2013.583,
          2013.083,
          2012.75,
          2012.667,
          2013.167,
          2012.833,
          2013,
          2013.417,
          2012.833,
          2013.417,
          2013.417
         ]
        },
        {
         "histfunc": "count",
         "name": "3",
         "type": "histogram",
         "x": [
          2012.667,
          2013.417,
          2013.417,
          2013.583,
          2013.583,
          2012.917,
          2013.083,
          2013.583,
          2012.833,
          2012.917,
          2013.083,
          2013.583,
          2013.417,
          2013.5,
          2013.5,
          2013.333,
          2013.417,
          2013.083,
          2013.5,
          2012.75,
          2013.167,
          2012.917,
          2013.083,
          2013.083,
          2013.583,
          2013.5,
          2012.833,
          2013.083,
          2013.167,
          2013.417,
          2013.25,
          2013.417,
          2013.417,
          2013.167,
          2013.167,
          2013.5,
          2013.417,
          2013.417,
          2012.833,
          2012.833,
          2012.833,
          2013.5,
          2012.667,
          2013.25,
          2013.083,
          2013.417
         ]
        },
        {
         "histfunc": "count",
         "name": "4",
         "type": "histogram",
         "x": [
          2012.667,
          2013.5,
          2013,
          2013.5,
          2013.583,
          2013.417,
          2013.583,
          2013.5,
          2012.917,
          2013.5,
          2013.25,
          2013.083,
          2013.25,
          2012.667,
          2013.083,
          2013.5,
          2013.25,
          2013.25,
          2012.833,
          2012.75,
          2012.833,
          2013.083,
          2013.167,
          2012.917,
          2013.417,
          2012.917,
          2012.667,
          2013.5,
          2013,
          2012.917,
          2013.417
         ]
        },
        {
         "histfunc": "count",
         "name": "5",
         "type": "histogram",
         "x": [
          2013.583,
          2013.5,
          2012.833,
          2012.917,
          2012.667,
          2013.25,
          2013.083,
          2013.167,
          2013.417,
          2013.083,
          2013.083,
          2013.083,
          2013.5,
          2012.833,
          2012.917,
          2012.917,
          2013.417,
          2013.083,
          2013.5,
          2013.167,
          2013.5,
          2013.25,
          2013.167,
          2012.75,
          2012.667,
          2013.25,
          2013.417,
          2013.5,
          2012.917,
          2013,
          2013.5,
          2013.083,
          2013.083,
          2013.417,
          2013.333,
          2013.417,
          2012.667,
          2013.5,
          2013.417,
          2013.417,
          2012.667,
          2012.917,
          2012.833,
          2013.417,
          2012.75,
          2013,
          2013,
          2013.333,
          2013.083,
          2013.083,
          2013.417,
          2013.333,
          2013.25,
          2012.75,
          2012.917,
          2012.833,
          2013.333,
          2012.75,
          2013,
          2013.25,
          2012.75,
          2013.5,
          2013.25,
          2013.333,
          2013.25,
          2013.333,
          2013
         ]
        },
        {
         "histfunc": "count",
         "name": "6",
         "type": "histogram",
         "x": [
          2013.417,
          2013.25,
          2013.25,
          2012.667,
          2012.75,
          2013.5,
          2013,
          2013.417,
          2013,
          2013.083,
          2012.75,
          2012.667,
          2012.833,
          2013.333,
          2013.167,
          2013.083,
          2012.667,
          2013.5,
          2013.25,
          2013.417,
          2012.917,
          2013.333,
          2013.25,
          2013.417,
          2013.417,
          2012.75,
          2013.25,
          2013.583,
          2013.5,
          2013.25,
          2013.417,
          2013.583,
          2012.833,
          2013.167,
          2013.333,
          2013.083,
          2012.667
         ]
        },
        {
         "histfunc": "count",
         "name": "7",
         "type": "histogram",
         "x": [
          2012.667,
          2012.667,
          2013.417,
          2013.083,
          2012.75,
          2012.75,
          2012.917,
          2013.083,
          2013.083,
          2013.583,
          2012.917,
          2013.417,
          2013.25,
          2013.417,
          2013.167,
          2013.083,
          2012.75,
          2013.5,
          2013.167,
          2013.167,
          2013.167,
          2012.667,
          2012.917,
          2012.833,
          2012.667,
          2013.25,
          2013.5,
          2013.417,
          2013,
          2013.167,
          2013.25
         ]
        },
        {
         "histfunc": "count",
         "name": "8",
         "type": "histogram",
         "x": [
          2013.417,
          2013.083,
          2013.417,
          2013.417,
          2013.583,
          2013.083,
          2012.667,
          2013.25,
          2012.833,
          2012.75,
          2012.667,
          2012.917,
          2013.417,
          2013.167,
          2012.917,
          2013.5,
          2013.25,
          2013.417,
          2012.833,
          2013.333,
          2012.75,
          2012.917,
          2013.417,
          2012.917,
          2013.083,
          2013,
          2013.083,
          2013.333,
          2013.333,
          2013.25
         ]
        },
        {
         "histfunc": "count",
         "name": "9",
         "type": "histogram",
         "x": [
          2012.917,
          2013.333,
          2013.417,
          2013.583,
          2012.75,
          2013.417,
          2013.417,
          2013.5,
          2013.583,
          2013.083,
          2013.083,
          2013.333,
          2013.333,
          2012.833,
          2013.333,
          2012.917,
          2013.583,
          2012.917,
          2012.667,
          2013.417,
          2013.417,
          2013.5,
          2012.667,
          2012.667,
          2013.5
         ]
        },
        {
         "histfunc": "count",
         "name": "10",
         "type": "histogram",
         "x": [
          2012.917,
          2012.917,
          2013.25,
          2013.583,
          2013.167,
          2013.167,
          2013.333,
          2012.667,
          2013.5,
          2013
         ]
        }
       ],
       "layout": {
        "legend": {
         "title": {
          "text": "local_convenience_stores"
         }
        },
        "template": {
         "data": {
          "bar": [
           {
            "error_x": {
             "color": "#2a3f5f"
            },
            "error_y": {
             "color": "#2a3f5f"
            },
            "marker": {
             "line": {
              "color": "white",
              "width": 0.5
             },
             "pattern": {
              "fillmode": "overlay",
              "size": 10,
              "solidity": 0.2
             }
            },
            "type": "bar"
           }
          ],
          "barpolar": [
           {
            "marker": {
             "line": {
              "color": "white",
              "width": 0.5
             },
             "pattern": {
              "fillmode": "overlay",
              "size": 10,
              "solidity": 0.2
             }
            },
            "type": "barpolar"
           }
          ],
          "box": [
           {
            "boxpoints": "outliers",
            "notched": false,
            "type": "box"
           }
          ],
          "carpet": [
           {
            "aaxis": {
             "endlinecolor": "#2a3f5f",
             "gridcolor": "#C8D4E3",
             "linecolor": "#C8D4E3",
             "minorgridcolor": "#C8D4E3",
             "startlinecolor": "#2a3f5f"
            },
            "baxis": {
             "endlinecolor": "#2a3f5f",
             "gridcolor": "#C8D4E3",
             "linecolor": "#C8D4E3",
             "minorgridcolor": "#C8D4E3",
             "startlinecolor": "#2a3f5f"
            },
            "type": "carpet"
           }
          ],
          "choropleth": [
           {
            "colorbar": {
             "outlinewidth": 0,
             "ticks": ""
            },
            "type": "choropleth"
           }
          ],
          "contour": [
           {
            "colorbar": {
             "outlinewidth": 0,
             "ticks": ""
            },
            "colorscale": [
             [
              0,
              "#0d0887"
             ],
             [
              0.1111111111111111,
              "#46039f"
             ],
             [
              0.2222222222222222,
              "#7201a8"
             ],
             [
              0.3333333333333333,
              "#9c179e"
             ],
             [
              0.4444444444444444,
              "#bd3786"
             ],
             [
              0.5555555555555556,
              "#d8576b"
             ],
             [
              0.6666666666666666,
              "#ed7953"
             ],
             [
              0.7777777777777778,
              "#fb9f3a"
             ],
             [
              0.8888888888888888,
              "#fdca26"
             ],
             [
              1,
              "#f0f921"
             ]
            ],
            "type": "contour"
           }
          ],
          "contourcarpet": [
           {
            "colorbar": {
             "outlinewidth": 0,
             "ticks": ""
            },
            "type": "contourcarpet"
           }
          ],
          "heatmap": [
           {
            "colorbar": {
             "outlinewidth": 0,
             "ticks": ""
            },
            "colorscale": [
             [
              0,
              "#0d0887"
             ],
             [
              0.1111111111111111,
              "#46039f"
             ],
             [
              0.2222222222222222,
              "#7201a8"
             ],
             [
              0.3333333333333333,
              "#9c179e"
             ],
             [
              0.4444444444444444,
              "#bd3786"
             ],
             [
              0.5555555555555556,
              "#d8576b"
             ],
             [
              0.6666666666666666,
              "#ed7953"
             ],
             [
              0.7777777777777778,
              "#fb9f3a"
             ],
             [
              0.8888888888888888,
              "#fdca26"
             ],
             [
              1,
              "#f0f921"
             ]
            ],
            "type": "heatmap"
           }
          ],
          "heatmapgl": [
           {
            "colorbar": {
             "outlinewidth": 0,
             "ticks": ""
            },
            "colorscale": [
             [
              0,
              "#0d0887"
             ],
             [
              0.1111111111111111,
              "#46039f"
             ],
             [
              0.2222222222222222,
              "#7201a8"
             ],
             [
              0.3333333333333333,
              "#9c179e"
             ],
             [
              0.4444444444444444,
              "#bd3786"
             ],
             [
              0.5555555555555556,
              "#d8576b"
             ],
             [
              0.6666666666666666,
              "#ed7953"
             ],
             [
              0.7777777777777778,
              "#fb9f3a"
             ],
             [
              0.8888888888888888,
              "#fdca26"
             ],
             [
              1,
              "#f0f921"
             ]
            ],
            "type": "heatmapgl"
           }
          ],
          "histogram": [
           {
            "marker": {
             "line": {
              "width": 1
             },
             "pattern": {
              "fillmode": "overlay",
              "size": 10,
              "solidity": 0.2
             }
            },
            "type": "histogram"
           }
          ],
          "histogram2d": [
           {
            "colorbar": {
             "outlinewidth": 0,
             "ticks": ""
            },
            "colorscale": [
             [
              0,
              "#0d0887"
             ],
             [
              0.1111111111111111,
              "#46039f"
             ],
             [
              0.2222222222222222,
              "#7201a8"
             ],
             [
              0.3333333333333333,
              "#9c179e"
             ],
             [
              0.4444444444444444,
              "#bd3786"
             ],
             [
              0.5555555555555556,
              "#d8576b"
             ],
             [
              0.6666666666666666,
              "#ed7953"
             ],
             [
              0.7777777777777778,
              "#fb9f3a"
             ],
             [
              0.8888888888888888,
              "#fdca26"
             ],
             [
              1,
              "#f0f921"
             ]
            ],
            "type": "histogram2d"
           }
          ],
          "histogram2dcontour": [
           {
            "colorbar": {
             "outlinewidth": 0,
             "ticks": ""
            },
            "colorscale": [
             [
              0,
              "#0d0887"
             ],
             [
              0.1111111111111111,
              "#46039f"
             ],
             [
              0.2222222222222222,
              "#7201a8"
             ],
             [
              0.3333333333333333,
              "#9c179e"
             ],
             [
              0.4444444444444444,
              "#bd3786"
             ],
             [
              0.5555555555555556,
              "#d8576b"
             ],
             [
              0.6666666666666666,
              "#ed7953"
             ],
             [
              0.7777777777777778,
              "#fb9f3a"
             ],
             [
              0.8888888888888888,
              "#fdca26"
             ],
             [
              1,
              "#f0f921"
             ]
            ],
            "type": "histogram2dcontour"
           }
          ],
          "mesh3d": [
           {
            "colorbar": {
             "outlinewidth": 0,
             "ticks": ""
            },
            "type": "mesh3d"
           }
          ],
          "parcoords": [
           {
            "line": {
             "colorbar": {
              "outlinewidth": 0,
              "ticks": ""
             }
            },
            "type": "parcoords"
           }
          ],
          "pie": [
           {
            "automargin": true,
            "type": "pie"
           }
          ],
          "scatter": [
           {
            "fillpattern": {
             "fillmode": "overlay",
             "size": 10,
             "solidity": 0.2
            },
            "marker": {
             "opacity": 0.8
            },
            "type": "scatter"
           }
          ],
          "scatter3d": [
           {
            "line": {
             "colorbar": {
              "outlinewidth": 0,
              "ticks": ""
             }
            },
            "marker": {
             "colorbar": {
              "outlinewidth": 0,
              "ticks": ""
             },
             "opacity": 0.8
            },
            "type": "scatter3d"
           }
          ],
          "scattercarpet": [
           {
            "marker": {
             "colorbar": {
              "outlinewidth": 0,
              "ticks": ""
             }
            },
            "type": "scattercarpet"
           }
          ],
          "scattergeo": [
           {
            "marker": {
             "colorbar": {
              "outlinewidth": 0,
              "ticks": ""
             }
            },
            "type": "scattergeo"
           }
          ],
          "scattergl": [
           {
            "marker": {
             "colorbar": {
              "outlinewidth": 0,
              "ticks": ""
             }
            },
            "type": "scattergl"
           }
          ],
          "scattermapbox": [
           {
            "marker": {
             "colorbar": {
              "outlinewidth": 0,
              "ticks": ""
             }
            },
            "type": "scattermapbox"
           }
          ],
          "scatterpolar": [
           {
            "marker": {
             "colorbar": {
              "outlinewidth": 0,
              "ticks": ""
             }
            },
            "type": "scatterpolar"
           }
          ],
          "scatterpolargl": [
           {
            "marker": {
             "colorbar": {
              "outlinewidth": 0,
              "ticks": ""
             }
            },
            "type": "scatterpolargl"
           }
          ],
          "scatterternary": [
           {
            "marker": {
             "colorbar": {
              "outlinewidth": 0,
              "ticks": ""
             }
            },
            "type": "scatterternary"
           }
          ],
          "surface": [
           {
            "colorbar": {
             "outlinewidth": 0,
             "ticks": ""
            },
            "colorscale": [
             [
              0,
              "#0d0887"
             ],
             [
              0.1111111111111111,
              "#46039f"
             ],
             [
              0.2222222222222222,
              "#7201a8"
             ],
             [
              0.3333333333333333,
              "#9c179e"
             ],
             [
              0.4444444444444444,
              "#bd3786"
             ],
             [
              0.5555555555555556,
              "#d8576b"
             ],
             [
              0.6666666666666666,
              "#ed7953"
             ],
             [
              0.7777777777777778,
              "#fb9f3a"
             ],
             [
              0.8888888888888888,
              "#fdca26"
             ],
             [
              1,
              "#f0f921"
             ]
            ],
            "type": "surface"
           }
          ],
          "table": [
           {
            "cells": {
             "fill": {
              "color": "#EBF0F8"
             },
             "line": {
              "color": "white"
             }
            },
            "header": {
             "fill": {
              "color": "#C8D4E3"
             },
             "line": {
              "color": "white"
             }
            },
            "type": "table"
           }
          ]
         },
         "layout": {
          "annotationdefaults": {
           "arrowcolor": "#2a3f5f",
           "arrowhead": 0,
           "arrowwidth": 1
          },
          "autotypenumbers": "strict",
          "coloraxis": {
           "colorbar": {
            "outlinewidth": 0,
            "ticks": ""
           }
          },
          "colorscale": {
           "diverging": [
            [
             0,
             "#8e0152"
            ],
            [
             0.1,
             "#c51b7d"
            ],
            [
             0.2,
             "#de77ae"
            ],
            [
             0.3,
             "#f1b6da"
            ],
            [
             0.4,
             "#fde0ef"
            ],
            [
             0.5,
             "#f7f7f7"
            ],
            [
             0.6,
             "#e6f5d0"
            ],
            [
             0.7,
             "#b8e186"
            ],
            [
             0.8,
             "#7fbc41"
            ],
            [
             0.9,
             "#4d9221"
            ],
            [
             1,
             "#276419"
            ]
           ],
           "sequential": [
            [
             0,
             "#0d0887"
            ],
            [
             0.1111111111111111,
             "#46039f"
            ],
            [
             0.2222222222222222,
             "#7201a8"
            ],
            [
             0.3333333333333333,
             "#9c179e"
            ],
            [
             0.4444444444444444,
             "#bd3786"
            ],
            [
             0.5555555555555556,
             "#d8576b"
            ],
            [
             0.6666666666666666,
             "#ed7953"
            ],
            [
             0.7777777777777778,
             "#fb9f3a"
            ],
            [
             0.8888888888888888,
             "#fdca26"
            ],
            [
             1,
             "#f0f921"
            ]
           ],
           "sequentialminus": [
            [
             0,
             "#0d0887"
            ],
            [
             0.1111111111111111,
             "#46039f"
            ],
            [
             0.2222222222222222,
             "#7201a8"
            ],
            [
             0.3333333333333333,
             "#9c179e"
            ],
            [
             0.4444444444444444,
             "#bd3786"
            ],
            [
             0.5555555555555556,
             "#d8576b"
            ],
            [
             0.6666666666666666,
             "#ed7953"
            ],
            [
             0.7777777777777778,
             "#fb9f3a"
            ],
            [
             0.8888888888888888,
             "#fdca26"
            ],
            [
             1,
             "#f0f921"
            ]
           ]
          },
          "colorway": [
           "#636efa",
           "#EF553B",
           "#00cc96",
           "#ab63fa",
           "#FFA15A",
           "#19d3f3",
           "#FF6692",
           "#B6E880",
           "#FF97FF",
           "#FECB52"
          ],
          "font": {
           "color": "#2a3f5f"
          },
          "geo": {
           "bgcolor": "white",
           "lakecolor": "white",
           "landcolor": "white",
           "showlakes": true,
           "showland": true,
           "subunitcolor": "#C8D4E3"
          },
          "height": 400,
          "hoverlabel": {
           "align": "left"
          },
          "hovermode": "closest",
          "mapbox": {
           "style": "light"
          },
          "margin": {
           "b": 2,
           "l": 2,
           "r": 2,
           "t": 30
          },
          "paper_bgcolor": "white",
          "plot_bgcolor": "white",
          "polar": {
           "angularaxis": {
            "gridcolor": "#EBF0F8",
            "linecolor": "#EBF0F8",
            "ticks": ""
           },
           "bgcolor": "white",
           "radialaxis": {
            "gridcolor": "#EBF0F8",
            "linecolor": "#EBF0F8",
            "ticks": ""
           }
          },
          "scene": {
           "camera": {
            "eye": {
             "x": 1.5,
             "y": 1.5,
             "z": 0.1
            }
           },
           "xaxis": {
            "backgroundcolor": "white",
            "gridcolor": "#DFE8F3",
            "gridwidth": 2,
            "linecolor": "#EBF0F8",
            "showbackground": true,
            "ticks": "",
            "zerolinecolor": "#EBF0F8"
           },
           "yaxis": {
            "backgroundcolor": "white",
            "gridcolor": "#DFE8F3",
            "gridwidth": 2,
            "linecolor": "#EBF0F8",
            "showbackground": true,
            "ticks": "",
            "zerolinecolor": "#EBF0F8"
           },
           "zaxis": {
            "backgroundcolor": "white",
            "gridcolor": "#DFE8F3",
            "gridwidth": 2,
            "linecolor": "#EBF0F8",
            "showbackground": true,
            "ticks": "",
            "zerolinecolor": "#EBF0F8"
           }
          },
          "shapedefaults": {
           "line": {
            "color": "#2a3f5f"
           }
          },
          "ternary": {
           "aaxis": {
            "gridcolor": "#DFE8F3",
            "linecolor": "#A2B1C6",
            "ticks": ""
           },
           "baxis": {
            "gridcolor": "#DFE8F3",
            "linecolor": "#A2B1C6",
            "ticks": ""
           },
           "bgcolor": "white",
           "caxis": {
            "gridcolor": "#DFE8F3",
            "linecolor": "#A2B1C6",
            "ticks": ""
           }
          },
          "title": {
           "x": 0.5
          },
          "xaxis": {
           "automargin": true,
           "gridcolor": "#EBF0F8",
           "linecolor": "#EBF0F8",
           "linewidth": 2,
           "showline": true,
           "ticks": "",
           "title": {
            "standoff": 15
           },
           "zerolinecolor": "#EBF0F8",
           "zerolinewidth": 2
          },
          "yaxis": {
           "automargin": true,
           "gridcolor": "#EBF0F8",
           "linecolor": "#EBF0F8",
           "linewidth": 2,
           "showline": true,
           "ticks": "",
           "title": {
            "standoff": 15
           },
           "zerolinecolor": "#EBF0F8",
           "zerolinewidth": 2
          }
         }
        },
        "xaxis": {
         "title": {
          "text": "transaction date"
         }
        },
        "yaxis": {
         "title": {
          "text": "count"
         }
        }
       }
      }
     },
     "metadata": {},
     "output_type": "display_data"
    }
   ],
   "source": [
    "import graphing as gr\n",
    "\n",
    "gr.multiple_histogram(data, label_x='transaction_date', label_group='local_convenience_stores')"
   ]
  },
  {
   "cell_type": "code",
   "execution_count": null,
   "metadata": {},
   "outputs": [],
   "source": [
    "gr.line_2D()"
   ]
  }
 ],
 "metadata": {
  "kernelspec": {
   "display_name": "Python 3",
   "language": "python",
   "name": "python3"
  },
  "language_info": {
   "codemirror_mode": {
    "name": "ipython",
    "version": 3
   },
   "file_extension": ".py",
   "mimetype": "text/x-python",
   "name": "python",
   "nbconvert_exporter": "python",
   "pygments_lexer": "ipython3",
   "version": "3.10.7"
  },
  "orig_nbformat": 4
 },
 "nbformat": 4,
 "nbformat_minor": 2
}
