{
 "cells": [
  {
   "attachments": {},
   "cell_type": "markdown",
   "metadata": {},
   "source": [
    "# Aprendizaje profundo con PyTorch\n",
    "\n",
    "El aprendizaje automático clásico se basa en el uso de estadísticas para determinar las relaciones entre las características y las etiquetas, y puede ser muy eficaz para crear modelos predictivos. Sin embargo, un crecimiento masivo en la disponibilidad de datos junto con los avances en la tecnología informática requerida para procesarlos ha llevado a la aparición de nuevas técnicas de aprendizaje automático que imitan la forma en que el cerebro procesa la información en una estructura llamada red neuronal artificial.\n",
    "\n",
    "PyTorch es un marco para crear modelos de aprendizaje automático, incluidas redes neuronales profundas (DNN). En este ejemplo, usaremos PyTorch para crear una red neuronal simple que clasifique a los pingüinos en especies según la longitud y la profundidad de su culmen (pico), la longitud de sus aletas y su masa corporal.\n",
    "\n",
    "> **Cita**: El conjunto de datos de pingüinos utilizado en este ejercicio es un subconjunto de datos recopilados y puestos a disposición por [Dr. kristen\n",
    "Gorman](https://www.uaf.edu/cfos/people/faculty/detail/kristen-gorman.php)\n",
    "y la [Estación Palmer, Antártida LTER](https://pal.lternet.edu/), una\n",
    "miembro de la [Investigación Ecológica a Largo Plazo\n",
    "Red](https://lternet.edu/).\n",
    "\n",
    "## Explore el conjunto de datos\n",
    "\n",
    "Antes de comenzar a usar PyTorch para crear un modelo, carguemos los datos que necesitamos del conjunto de datos de pingüinos de Palmer Islands, que contiene observaciones de tres especies diferentes de pingüinos.\n",
    "\n",
    "> **Nota**: en realidad, puede resolver el problema de clasificación de pingüinos fácilmente utilizando técnicas clásicas de aprendizaje automático sin necesidad de un modelo de aprendizaje profundo; pero es un conjunto de datos útil y fácil de entender con el que demostrar los principios de las redes neuronales en este cuaderno."
   ]
  },
  {
   "cell_type": "code",
   "execution_count": 5,
   "metadata": {},
   "outputs": [
    {
     "name": "stderr",
     "output_type": "stream",
     "text": [
      "C:\\Users\\personal\\AppData\\Local\\Temp\\ipykernel_11972\\4116301983.py:17: FutureWarning: The frame.append method is deprecated and will be removed from pandas in a future version. Use pandas.concat instead.\n",
      "  penguins = penguins.append(penguins)\n",
      "C:\\Users\\personal\\AppData\\Local\\Temp\\ipykernel_11972\\4116301983.py:17: FutureWarning: The frame.append method is deprecated and will be removed from pandas in a future version. Use pandas.concat instead.\n",
      "  penguins = penguins.append(penguins)\n"
     ]
    },
    {
     "data": {
      "text/html": [
       "<div>\n",
       "<style scoped>\n",
       "    .dataframe tbody tr th:only-of-type {\n",
       "        vertical-align: middle;\n",
       "    }\n",
       "\n",
       "    .dataframe tbody tr th {\n",
       "        vertical-align: top;\n",
       "    }\n",
       "\n",
       "    .dataframe thead th {\n",
       "        text-align: right;\n",
       "    }\n",
       "</style>\n",
       "<table border=\"1\" class=\"dataframe\">\n",
       "  <thead>\n",
       "    <tr style=\"text-align: right;\">\n",
       "      <th></th>\n",
       "      <th>CulmenLength</th>\n",
       "      <th>CulmenDepth</th>\n",
       "      <th>FlipperLength</th>\n",
       "      <th>BodyMass</th>\n",
       "      <th>Species</th>\n",
       "    </tr>\n",
       "  </thead>\n",
       "  <tbody>\n",
       "    <tr>\n",
       "      <th>62</th>\n",
       "      <td>37.6</td>\n",
       "      <td>17.0</td>\n",
       "      <td>18.5</td>\n",
       "      <td>36.0</td>\n",
       "      <td>0</td>\n",
       "    </tr>\n",
       "    <tr>\n",
       "      <th>16</th>\n",
       "      <td>38.7</td>\n",
       "      <td>19.0</td>\n",
       "      <td>19.5</td>\n",
       "      <td>34.5</td>\n",
       "      <td>0</td>\n",
       "    </tr>\n",
       "    <tr>\n",
       "      <th>293</th>\n",
       "      <td>58.0</td>\n",
       "      <td>17.8</td>\n",
       "      <td>18.1</td>\n",
       "      <td>37.0</td>\n",
       "      <td>2</td>\n",
       "    </tr>\n",
       "    <tr>\n",
       "      <th>64</th>\n",
       "      <td>36.4</td>\n",
       "      <td>17.1</td>\n",
       "      <td>18.4</td>\n",
       "      <td>28.5</td>\n",
       "      <td>0</td>\n",
       "    </tr>\n",
       "    <tr>\n",
       "      <th>73</th>\n",
       "      <td>45.8</td>\n",
       "      <td>18.9</td>\n",
       "      <td>19.7</td>\n",
       "      <td>41.5</td>\n",
       "      <td>0</td>\n",
       "    </tr>\n",
       "    <tr>\n",
       "      <th>26</th>\n",
       "      <td>40.6</td>\n",
       "      <td>18.6</td>\n",
       "      <td>18.3</td>\n",
       "      <td>35.5</td>\n",
       "      <td>0</td>\n",
       "    </tr>\n",
       "    <tr>\n",
       "      <th>157</th>\n",
       "      <td>46.5</td>\n",
       "      <td>13.5</td>\n",
       "      <td>21.0</td>\n",
       "      <td>45.5</td>\n",
       "      <td>1</td>\n",
       "    </tr>\n",
       "    <tr>\n",
       "      <th>239</th>\n",
       "      <td>51.3</td>\n",
       "      <td>14.2</td>\n",
       "      <td>21.8</td>\n",
       "      <td>53.0</td>\n",
       "      <td>1</td>\n",
       "    </tr>\n",
       "    <tr>\n",
       "      <th>111</th>\n",
       "      <td>45.6</td>\n",
       "      <td>20.3</td>\n",
       "      <td>19.1</td>\n",
       "      <td>46.0</td>\n",
       "      <td>0</td>\n",
       "    </tr>\n",
       "    <tr>\n",
       "      <th>329</th>\n",
       "      <td>50.7</td>\n",
       "      <td>19.7</td>\n",
       "      <td>20.3</td>\n",
       "      <td>40.5</td>\n",
       "      <td>2</td>\n",
       "    </tr>\n",
       "  </tbody>\n",
       "</table>\n",
       "</div>"
      ],
      "text/plain": [
       "     CulmenLength  CulmenDepth  FlipperLength  BodyMass  Species\n",
       "62           37.6         17.0           18.5      36.0        0\n",
       "16           38.7         19.0           19.5      34.5        0\n",
       "293          58.0         17.8           18.1      37.0        2\n",
       "64           36.4         17.1           18.4      28.5        0\n",
       "73           45.8         18.9           19.7      41.5        0\n",
       "26           40.6         18.6           18.3      35.5        0\n",
       "157          46.5         13.5           21.0      45.5        1\n",
       "239          51.3         14.2           21.8      53.0        1\n",
       "111          45.6         20.3           19.1      46.0        0\n",
       "329          50.7         19.7           20.3      40.5        2"
      ]
     },
     "execution_count": 5,
     "metadata": {},
     "output_type": "execute_result"
    }
   ],
   "source": [
    "import pandas as pd \n",
    "\n",
    "# cargamos los datos de entrenamiento (excluimos los datos con valores nuelos )\n",
    "penguins = pd.read_csv('data/penguins.csv').dropna()\n",
    "\n",
    "# Los modelos de aprendizaje profundo funcionan mejor cuando las características están en escalas similares\n",
    "# En una solución real, implementaríamos una normalización personalizada para cada característica, pero para simplificar las cosas\n",
    "# simplemente cambiaremos la escala de FlipperLength y BodyMass para que estén en una escala similar a las medidas del pico\n",
    "\n",
    "penguins['FlipperLength']   = penguins['FlipperLength']/10\n",
    "penguins['BodyMass']        = penguins['BodyMass']/100\n",
    "\n",
    "# El set de datos es muy pequeño para usar deep learning\n",
    "# sobremuestreamos para aumentar el tamaño\n",
    "\n",
    "for i in range(1,3):        # Bucle de sobremuestreo\n",
    "    penguins = penguins.append(penguins)\n",
    "\n",
    "# Mostramos 10 muestras al azar\n",
    "sample = penguins.sample(10)\n",
    "sample"
   ]
  },
  {
   "attachments": {},
   "cell_type": "markdown",
   "metadata": {},
   "source": [
    "La columna **Especie** es la etiqueta que predecirá nuestro modelo. Cada valor de etiqueta representa una clase de especie de pingüino, codificada como 0, 1 o 2. El siguiente código muestra las especies reales a las que corresponden estas etiquetas de clase."
   ]
  },
  {
   "cell_type": "code",
   "execution_count": 14,
   "metadata": {},
   "outputs": [
    {
     "name": "stdout",
     "output_type": "stream",
     "text": [
      "['CulmenLength' 'CulmenDepth' 'FlipperLength' 'BodyMass' 'Species'] SpeciesName\n",
      "[ 43.3 13.4 20.9 44.0 1 ] Gentoo\n",
      "[ 48.4 14.4 20.3 46.25 1 ] Gentoo\n",
      "[ 47.5 14.0 21.2 48.75 1 ] Gentoo\n",
      "[ 41.5 18.3 19.5 43.0 0 ] Adelie\n",
      "[ 52.7 19.8 19.7 37.25 2 ] Chinstrap\n",
      "[ 50.8 18.5 20.1 44.5 2 ] Chinstrap\n",
      "[ 41.3 21.1 19.5 44.0 0 ] Adelie\n",
      "[ 44.0 13.6 20.8 43.5 1 ] Gentoo\n",
      "[ 35.3 18.9 18.7 38.0 0 ] Adelie\n",
      "[ 49.2 18.2 19.5 44.0 2 ] Chinstrap\n"
     ]
    }
   ],
   "source": [
    "penguins_classes = ['Adelie','Gentoo','Chinstrap']\n",
    "print(sample.columns[0:5].values, 'SpeciesName')\n",
    "\n",
    "for index,row in penguins.sample(10).iterrows():        # Iterador sobre las filas del dataset (indice,fila)\n",
    "    print('[',row[0], row[1], row[2],row[3], int(row[4]), ']',  # Filas\n",
    "        penguins_classes[int(row[-1])])                         # Especie"
   ]
  },
  {
   "attachments": {},
   "cell_type": "markdown",
   "metadata": {},
   "source": [
    "Como es habitual en un problema de aprendizaje supervisado, dividiremos el conjunto de datos en un conjunto de registros con los que entrenar el modelo y un conjunto más pequeño con los que validar el modelo entrenado."
   ]
  },
  {
   "cell_type": "code",
   "execution_count": 27,
   "metadata": {},
   "outputs": [
    {
     "name": "stdout",
     "output_type": "stream",
     "text": [
      "Cantidad de datos de entrenamiento: 957\n",
      "Cantidad de datos de prueba: 411\n",
      "[51.1 16.5 22.5 52.5] 1 (Gentoo)\n",
      "[50.7 19.7 20.3 40.5] 2 (Chinstrap)\n",
      "[49.5 16.2 22.9 58. ] 1 (Gentoo)\n",
      "[39.3 20.6 19.  36.5] 0 (Adelie)\n",
      "[42.5 20.7 19.7 45. ] 0 (Adelie)\n",
      "[50.  15.3 22.  55.5] 1 (Gentoo)\n",
      "[50.2  18.7  19.8  37.75] 2 (Chinstrap)\n",
      "[50.7 19.7 20.3 40.5] 2 (Chinstrap)\n",
      "[49.1  14.5  21.2  46.25] 1 (Gentoo)\n",
      "[43.2 16.6 18.7 29. ] 2 (Chinstrap)\n",
      "[38.8  17.6  19.1  32.75] 0 (Adelie)\n",
      "[37.8 17.1 18.6 33. ] 0 (Adelie)\n",
      "[45.8 14.2 21.9 47. ] 1 (Gentoo)\n",
      "[43.8 13.9 20.8 43. ] 1 (Gentoo)\n",
      "[36.  17.1 18.7 37. ] 0 (Adelie)\n",
      "[43.3 13.4 20.9 44. ] 1 (Gentoo)\n",
      "[36.  18.5 18.6 31. ] 0 (Adelie)\n",
      "[41.1  19.   18.2  34.25] 0 (Adelie)\n",
      "[33.1 16.1 17.8 29. ] 0 (Adelie)\n",
      "[40.9 13.7 21.4 46.5] 1 (Gentoo)\n",
      "[45.2 17.8 19.8 39.5] 2 (Chinstrap)\n",
      "[48.4 14.6 21.3 58.5] 1 (Gentoo)\n",
      "[43.6 13.9 21.7 49. ] 1 (Gentoo)\n",
      "[38.5  17.9  19.   33.25] 0 (Adelie)\n"
     ]
    }
   ],
   "source": [
    "from sklearn.model_selection import train_test_split    # Importamos seccionador de datos\n",
    "features = ['CulmenLength','CulmenDepth','FlipperLength','BodyMass']    # Caracteristicas   \n",
    "label = 'Species'                                                       # Etiqueta\n",
    "\n",
    "# Dividimos los datos (70% - 30% --> train - test)\n",
    "x_train, x_test, y_train, y_test = train_test_split(penguins[features].values,     # Caracteristicas    (valores <__.values>)\n",
    "                                                    penguins[label].values,        # Etiquetas          (valores <__.values>)\n",
    "                                                    test_size=0.3,          # proporcion de test\n",
    "                                                    random_state=0)\n",
    "\n",
    "print(f'Cantidad de datos de entrenamiento: {len(x_train)}')\n",
    "print(f'Cantidad de datos de prueba: {len(x_test)}')\n",
    "\n",
    "# Primeros 25 datos de entrenamiento y su etiqueta\n",
    "for n in range(0,24):\n",
    "    print(x_train[n], y_train[n], '(' + penguins_classes[y_train[n]] + ')')\n"
   ]
  },
  {
   "attachments": {},
   "cell_type": "markdown",
   "metadata": {},
   "source": [
    "Las *características* son las medidas para cada observación de pingüinos, y la *etiqueta* es un valor numérico que indica la especie de pingüino que representa la observación (Adelie, Gentoo o Chinstrap).\n",
    "\n",
    "## Instalar e importar las bibliotecas de PyTorch\n",
    "\n",
    "Dado que planeamos usar PyTorch para crear nuestro clasificador de pingüinos, necesitaremos ejecutar las siguientes dos celdas para instalar e importar las bibliotecas de PyTorch que pretendemos usar. La instalación específica de PyTorch depende de su sistema operativo y de si su computadora tiene unidades de procesamiento de gráficos (GPU) que se pueden usar para procesamiento de alto rendimiento a través de *cuda*. Puede encontrar instrucciones detalladas en https://pytorch.org/get-started/locally/."
   ]
  },
  {
   "cell_type": "code",
   "execution_count": 28,
   "metadata": {},
   "outputs": [
    {
     "name": "stdout",
     "output_type": "stream",
     "text": [
      "Looking in links: https://download.pytorch.org/whl/torch_stable.html"
     ]
    },
    {
     "name": "stderr",
     "output_type": "stream",
     "text": [
      "ERROR: Could not find a version that satisfies the requirement torch==1.9.0+cpu (from versions: 1.11.0, 1.11.0+cpu, 1.11.0+cu113, 1.11.0+cu115, 1.12.0, 1.12.0+cpu, 1.12.0+cu113, 1.12.0+cu116, 1.12.1, 1.12.1+cpu, 1.12.1+cu113, 1.12.1+cu116, 1.13.0, 1.13.0+cpu, 1.13.0+cu116, 1.13.0+cu117, 1.13.1, 1.13.1+cpu, 1.13.1+cu116, 1.13.1+cu117)\n",
      "ERROR: No matching distribution found for torch==1.9.0+cpu\n",
      "\n",
      "[notice] A new release of pip available: 22.2.2 -> 23.0.1\n",
      "[notice] To update, run: python.exe -m pip install --upgrade pip\n"
     ]
    },
    {
     "name": "stdout",
     "output_type": "stream",
     "text": [
      "\n"
     ]
    }
   ],
   "source": [
    "!pip install torch==1.9.0+cpu torchvision==0.10.0+cpu torchaudio==0.9.0 -f https://download.pytorch.org/whl/torch_stable.html"
   ]
  },
  {
   "cell_type": "code",
   "execution_count": 30,
   "metadata": {},
   "outputs": [
    {
     "name": "stdout",
     "output_type": "stream",
     "text": [
      "Librerias importadas - Listo para usar PyTorch 1.11.0+cpu\n"
     ]
    }
   ],
   "source": [
    "import torch \n",
    "import torch.nn as nn\n",
    "import torch.utils.data as td\n",
    "\n",
    "# Generamos un numero aleatorio con semilla \n",
    "torch.manual_seed(0)\n",
    "\n",
    "print('Librerias importadas - Listo para usar PyTorch', torch.__version__)"
   ]
  },
  {
   "attachments": {},
   "cell_type": "markdown",
   "metadata": {},
   "source": [
    "## Preparar los datos para PyTorch\n",
    "\n",
    "PyTorch utiliza *cargadores de datos* para cargar datos de entrenamiento y validación en lotes. Ya hemos cargado los datos en matrices numpy, pero debemos envolverlos en conjuntos de datos de PyTorch (en los que los datos se convierten en objetos PyTorch *tensor*) y crear cargadores para leer lotes de esos conjuntos de datos."
   ]
  },
  {
   "cell_type": "code",
   "execution_count": 40,
   "metadata": {},
   "outputs": [
    {
     "name": "stdout",
     "output_type": "stream",
     "text": [
      "Listo para cargar los datos\n"
     ]
    }
   ],
   "source": [
    "# Cree un conjunto de datos y un cargador para las etiquetas y los datos de entrenamiento\n",
    "train_x = torch.Tensor(x_train).float()     # Matriz multidimensional que contiene los elementos de caracteristicas type: .torch\n",
    "train_y = torch.Tensor(y_train).long()      # Matriz que contiene las etiquetas type: .torch\n",
    "\n",
    "train_ds = td.TensorDataset(train_x,train_y)    # Creamos tensor de dataset\n",
    "\n",
    "train_loader = td.DataLoader(train_ds,          # Cargador de datos \n",
    "                             batch_size=20,      # Muestras por lote  \n",
    "                             shuffle=False,     # Datos no se reorganizan\n",
    "                             num_workers=1)     # Subprocesos utilizados para cargar los datos\n",
    "\n",
    "# Cree un conjunto de datos y un cargador para las etiquetas y los datos de prueba\n",
    "test_x = torch.Tensor(x_test).float()\n",
    "test_y = torch.Tensor(y_test).long()\n",
    "test_ds = td.TensorDataset(test_x,test_y)\n",
    "test_loader = td.DataLoader(test_ds, \n",
    "                            batch_size=20,\n",
    "                            shuffle=False, \n",
    "                            num_workers=1)\n",
    "\n",
    "print('Listo para cargar los datos')"
   ]
  },
  {
   "attachments": {},
   "cell_type": "markdown",
   "metadata": {},
   "source": [
    "## Definir una red neuronal\n",
    "\n",
    "Ahora estamos listos para definir nuestra red neuronal. En este caso, crearemos una red que consta de 3 capas completamente conectadas:\n",
    "* Una capa de entrada que recibe un valor de entrada para cada función (en este caso, las cuatro medidas de los pingüinos) y aplica una función de activación *ReLU*.\n",
    "* Una capa oculta que recibe diez entradas y aplica una función de activación *ReLU*.\n",
    "* Una capa de salida que genera una salida numérica no negativa para cada especie de pingüino (que una función de pérdida traducirá en probabilidades de clasificación para cada una de las tres especies de pingüinos posibles)."
   ]
  },
  {
   "cell_type": "code",
   "execution_count": 41,
   "metadata": {},
   "outputs": [
    {
     "name": "stdout",
     "output_type": "stream",
     "text": [
      "PenguinNet(\n",
      "  (fc1): Linear(in_features=4, out_features=10, bias=True)\n",
      "  (fc2): Linear(in_features=10, out_features=10, bias=True)\n",
      "  (fc3): Linear(in_features=10, out_features=3, bias=True)\n",
      ")\n"
     ]
    }
   ],
   "source": [
    "# Numero de nodos capas ocultas \n",
    "hl = 10\n",
    "\n",
    "# Definimos la red neuronal\n",
    "class PenguinNet(nn.Module):        # Clase heredada\n",
    "    def __init__(self):\n",
    "        super(PenguinNet,self).__init__()\n",
    "        self.fc1 = nn.Linear(len(features),hl)              # Transformacion lineal\n",
    "        self.fc2 = nn.Linear(hl,hl)                         # Transformacion lineal\n",
    "        self.fc3 = nn.Linear(hl, len(penguins_classes))     # Transformacion lineal\n",
    "\n",
    "    def forward(self, x):\n",
    "        x = torch.relu(self.fc1(x))\n",
    "        x = torch.relu(self.fc2(x))\n",
    "        x = torch.relu(self.fc3(x))\n",
    "        return x\n",
    "\n",
    "# Instanciamos el modelo\n",
    "model = PenguinNet()\n",
    "print(model)"
   ]
  },
  {
   "attachments": {},
   "cell_type": "markdown",
   "metadata": {},
   "source": [
    "## Entrenar al modelo\n",
    "\n",
    "Para entrenar el modelo, necesitamos alimentar repetidamente los valores de entrenamiento a través de la red, usar una función de pérdida para calcular la pérdida, usar un optimizador para propagar hacia atrás los ajustes de valor de peso y sesgo, y validar el modelo usando los datos de prueba que retuvimos.\n",
    "\n",
    "Para hacer esto, crearemos una función para entrenar y optimizar el modelo y una función para probar el modelo. Luego llamaremos a estas funciones de forma iterativa durante 50 épocas, registrando las estadísticas de pérdida y precisión para cada época."
   ]
  },
  {
   "cell_type": "code",
   "execution_count": 48,
   "metadata": {},
   "outputs": [
    {
     "name": "stdout",
     "output_type": "stream",
     "text": [
      "Epoch (Epoca): 1\n",
      "Training set: Average loss: 0.519516\n",
      "Validation set: Average loss: 0.488012, Accuracy: 405/411 (99%)\n",
      "\n",
      "Epoch (Epoca): 2\n",
      "Training set: Average loss: 0.518023\n",
      "Validation set: Average loss: 0.486377, Accuracy: 405/411 (99%)\n",
      "\n",
      "Epoch (Epoca): 3\n",
      "Training set: Average loss: 0.517243\n",
      "Validation set: Average loss: 0.485729, Accuracy: 405/411 (99%)\n",
      "\n",
      "Epoch (Epoca): 4\n",
      "Training set: Average loss: 0.516507\n",
      "Validation set: Average loss: 0.485390, Accuracy: 405/411 (99%)\n",
      "\n",
      "Epoch (Epoca): 5\n",
      "Training set: Average loss: 0.515979\n",
      "Validation set: Average loss: 0.485166, Accuracy: 405/411 (99%)\n",
      "\n",
      "Epoch (Epoca): 6\n",
      "Training set: Average loss: 0.515467\n",
      "Validation set: Average loss: 0.484757, Accuracy: 405/411 (99%)\n",
      "\n",
      "Epoch (Epoca): 7\n",
      "Training set: Average loss: 0.514775\n",
      "Validation set: Average loss: 0.483711, Accuracy: 405/411 (99%)\n",
      "\n",
      "Epoch (Epoca): 8\n",
      "Training set: Average loss: 0.514257\n",
      "Validation set: Average loss: 0.483360, Accuracy: 405/411 (99%)\n",
      "\n",
      "Epoch (Epoca): 9\n",
      "Training set: Average loss: 0.513801\n",
      "Validation set: Average loss: 0.482834, Accuracy: 405/411 (99%)\n",
      "\n",
      "Epoch (Epoca): 10\n",
      "Training set: Average loss: 0.513393\n",
      "Validation set: Average loss: 0.482500, Accuracy: 405/411 (99%)\n",
      "\n",
      "Epoch (Epoca): 11\n",
      "Training set: Average loss: 0.513020\n",
      "Validation set: Average loss: 0.482469, Accuracy: 405/411 (99%)\n",
      "\n",
      "Epoch (Epoca): 12\n",
      "Training set: Average loss: 0.513083\n",
      "Validation set: Average loss: 0.481052, Accuracy: 405/411 (99%)\n",
      "\n",
      "Epoch (Epoca): 13\n",
      "Training set: Average loss: 0.512250\n",
      "Validation set: Average loss: 0.480843, Accuracy: 405/411 (99%)\n",
      "\n",
      "Epoch (Epoca): 14\n",
      "Training set: Average loss: 0.512140\n",
      "Validation set: Average loss: 0.480744, Accuracy: 405/411 (99%)\n",
      "\n",
      "Epoch (Epoca): 15\n",
      "Training set: Average loss: 0.511887\n",
      "Validation set: Average loss: 0.480499, Accuracy: 405/411 (99%)\n",
      "\n",
      "Epoch (Epoca): 16\n",
      "Training set: Average loss: 0.511430\n",
      "Validation set: Average loss: 0.480339, Accuracy: 405/411 (99%)\n",
      "\n",
      "Epoch (Epoca): 17\n",
      "Training set: Average loss: 0.511244\n",
      "Validation set: Average loss: 0.479320, Accuracy: 405/411 (99%)\n",
      "\n",
      "Epoch (Epoca): 18\n",
      "Training set: Average loss: 0.510690\n",
      "Validation set: Average loss: 0.479797, Accuracy: 405/411 (99%)\n",
      "\n",
      "Epoch (Epoca): 19\n",
      "Training set: Average loss: 0.510767\n",
      "Validation set: Average loss: 0.478927, Accuracy: 405/411 (99%)\n",
      "\n",
      "Epoch (Epoca): 20\n",
      "Training set: Average loss: 0.510439\n",
      "Validation set: Average loss: 0.478676, Accuracy: 405/411 (99%)\n",
      "\n",
      "Epoch (Epoca): 21\n",
      "Training set: Average loss: 0.510218\n",
      "Validation set: Average loss: 0.478499, Accuracy: 406/411 (99%)\n",
      "\n",
      "Epoch (Epoca): 22\n",
      "Training set: Average loss: 0.510014\n",
      "Validation set: Average loss: 0.478345, Accuracy: 406/411 (99%)\n",
      "\n",
      "Epoch (Epoca): 23\n",
      "Training set: Average loss: 0.509702\n",
      "Validation set: Average loss: 0.478518, Accuracy: 406/411 (99%)\n",
      "\n",
      "Epoch (Epoca): 24\n",
      "Training set: Average loss: 0.509575\n",
      "Validation set: Average loss: 0.478395, Accuracy: 406/411 (99%)\n",
      "\n",
      "Epoch (Epoca): 25\n",
      "Training set: Average loss: 0.509399\n",
      "Validation set: Average loss: 0.478253, Accuracy: 406/411 (99%)\n",
      "\n",
      "Epoch (Epoca): 26\n",
      "Training set: Average loss: 0.509419\n",
      "Validation set: Average loss: 0.478014, Accuracy: 406/411 (99%)\n",
      "\n",
      "Epoch (Epoca): 27\n",
      "Training set: Average loss: 0.509228\n",
      "Validation set: Average loss: 0.477856, Accuracy: 406/411 (99%)\n",
      "\n",
      "Epoch (Epoca): 28\n",
      "Training set: Average loss: 0.509045\n",
      "Validation set: Average loss: 0.477717, Accuracy: 406/411 (99%)\n",
      "\n",
      "Epoch (Epoca): 29\n",
      "Training set: Average loss: 0.508869\n",
      "Validation set: Average loss: 0.477582, Accuracy: 406/411 (99%)\n",
      "\n",
      "Epoch (Epoca): 30\n",
      "Training set: Average loss: 0.508615\n",
      "Validation set: Average loss: 0.477827, Accuracy: 406/411 (99%)\n",
      "\n",
      "Epoch (Epoca): 31\n",
      "Training set: Average loss: 0.508533\n",
      "Validation set: Average loss: 0.477726, Accuracy: 406/411 (99%)\n",
      "\n",
      "Epoch (Epoca): 32\n",
      "Training set: Average loss: 0.508386\n",
      "Validation set: Average loss: 0.477594, Accuracy: 406/411 (99%)\n",
      "\n",
      "Epoch (Epoca): 33\n",
      "Training set: Average loss: 0.508235\n",
      "Validation set: Average loss: 0.477465, Accuracy: 406/411 (99%)\n",
      "\n",
      "Epoch (Epoca): 34\n",
      "Training set: Average loss: 0.508086\n",
      "Validation set: Average loss: 0.477338, Accuracy: 406/411 (99%)\n",
      "\n",
      "Epoch (Epoca): 35\n",
      "Training set: Average loss: 0.507941\n",
      "Validation set: Average loss: 0.476931, Accuracy: 405/411 (99%)\n",
      "\n",
      "Epoch (Epoca): 36\n",
      "Training set: Average loss: 0.507810\n",
      "Validation set: Average loss: 0.476808, Accuracy: 406/411 (99%)\n",
      "\n",
      "Epoch (Epoca): 37\n",
      "Training set: Average loss: 0.507691\n",
      "Validation set: Average loss: 0.476745, Accuracy: 406/411 (99%)\n",
      "\n",
      "Epoch (Epoca): 38\n",
      "Training set: Average loss: 0.507545\n",
      "Validation set: Average loss: 0.476860, Accuracy: 406/411 (99%)\n",
      "\n",
      "Epoch (Epoca): 39\n",
      "Training set: Average loss: 0.507595\n",
      "Validation set: Average loss: 0.475616, Accuracy: 406/411 (99%)\n",
      "\n",
      "Epoch (Epoca): 40\n",
      "Training set: Average loss: 0.507282\n",
      "Validation set: Average loss: 0.476669, Accuracy: 406/411 (99%)\n",
      "\n",
      "Epoch (Epoca): 41\n",
      "Training set: Average loss: 0.507315\n",
      "Validation set: Average loss: 0.475687, Accuracy: 406/411 (99%)\n",
      "\n",
      "Epoch (Epoca): 42\n",
      "Training set: Average loss: 0.507209\n",
      "Validation set: Average loss: 0.475526, Accuracy: 406/411 (99%)\n",
      "\n",
      "Epoch (Epoca): 43\n",
      "Training set: Average loss: 0.507057\n",
      "Validation set: Average loss: 0.475522, Accuracy: 406/411 (99%)\n",
      "\n",
      "Epoch (Epoca): 44\n",
      "Training set: Average loss: 0.506916\n",
      "Validation set: Average loss: 0.475615, Accuracy: 406/411 (99%)\n",
      "\n",
      "Epoch (Epoca): 45\n",
      "Training set: Average loss: 0.506947\n",
      "Validation set: Average loss: 0.475266, Accuracy: 406/411 (99%)\n",
      "\n",
      "Epoch (Epoca): 46\n",
      "Training set: Average loss: 0.506734\n",
      "Validation set: Average loss: 0.475439, Accuracy: 406/411 (99%)\n",
      "\n",
      "Epoch (Epoca): 47\n",
      "Training set: Average loss: 0.506767\n",
      "Validation set: Average loss: 0.475097, Accuracy: 406/411 (99%)\n",
      "\n",
      "Epoch (Epoca): 48\n",
      "Training set: Average loss: 0.506490\n",
      "Validation set: Average loss: 0.475601, Accuracy: 406/411 (99%)\n",
      "\n",
      "Epoch (Epoca): 49\n",
      "Training set: Average loss: 0.506654\n",
      "Validation set: Average loss: 0.474947, Accuracy: 406/411 (99%)\n",
      "\n",
      "Epoch (Epoca): 50\n",
      "Training set: Average loss: 0.506297\n",
      "Validation set: Average loss: 0.475439, Accuracy: 406/411 (99%)\n",
      "\n"
     ]
    }
   ],
   "source": [
    "def train(model, data_loader, optimizer):\n",
    "    # Ponemos el modelo en modo entrenamiento\n",
    "    model.train()\n",
    "    train_loss = 0\n",
    "    \n",
    "    for batch, tensor in enumerate(data_loader):\n",
    "        data, target = tensor\n",
    "        #retroalimentacion\n",
    "        optimizer.zero_grad()\n",
    "        out = model(data)\n",
    "        loss = loss_criteria(out, target)\n",
    "        train_loss += loss.item()\n",
    "\n",
    "        # retropropagacion (propagacion hacia atras)\n",
    "        loss.backward()\n",
    "        optimizer.step()\n",
    "\n",
    "    #Retorno de promedio de perdid\n",
    "    avg_loss = train_loss / (batch+1)\n",
    "    print('Training set: Average loss: {:.6f}'.format(avg_loss))\n",
    "    return avg_loss\n",
    "           \n",
    "            \n",
    "def test(model, data_loader):\n",
    "    # Ponemos el modelo en modo evaluacion (so we don't backpropagate)\n",
    "    model.eval()\n",
    "    test_loss = 0\n",
    "    correct = 0\n",
    "\n",
    "    with torch.no_grad():\n",
    "        batch_count = 0\n",
    "        for batch, tensor in enumerate(data_loader):\n",
    "            batch_count += 1\n",
    "            data, target = tensor\n",
    "            # Get the predictions\n",
    "            out = model(data)\n",
    "\n",
    "            # calculate the loss\n",
    "            test_loss += loss_criteria(out, target).item()\n",
    "\n",
    "            # Calculate the accuracy\n",
    "            _, predicted = torch.max(out.data, 1)\n",
    "            correct += torch.sum(target==predicted).item()\n",
    "            \n",
    "    # Calculate the average loss and total accuracy for this epoch\n",
    "    avg_loss = test_loss/batch_count\n",
    "    print('Validation set: Average loss: {:.6f}, Accuracy: {}/{} ({:.0f}%)\\n'.format(\n",
    "        avg_loss, correct, len(data_loader.dataset),\n",
    "        100. * correct / len(data_loader.dataset)))\n",
    "    \n",
    "    # return average loss for the epoch\n",
    "    return avg_loss\n",
    "\n",
    "# Funcion de Perdida\n",
    "# Especificamos loss_criteria (Usamos CrossEntropyLoss para modelo de clasificacion multiclase)\n",
    "loss_criteria = nn.CrossEntropyLoss()\n",
    "\n",
    "# Algoritmo de OPTIMIZACION\n",
    "# Use an \"Adam\" optimizer to adjust weights\n",
    "# (see https://pytorch.org/docs/stable/optim.html#algorithms for details of supported algorithms)\n",
    "learning_rate = 0.001\n",
    "optimizer = torch.optim.Adam(model.parameters(), lr=learning_rate)\n",
    "optimizer.zero_grad()\n",
    "\n",
    "# Haremos un seguimiento de las métricas para cada época en estas matrices\n",
    "epoch_nums = []             # Epocas\n",
    "training_loss = []          # Perdida en entrenamiento  \n",
    "validation_loss = []        # validacion de perdida\n",
    "\n",
    "# Entrenamiento para 50 epocas\n",
    "epochs = 50         # Numero de epocas\n",
    "for epoch in range(1, epochs + 1):\n",
    "\n",
    "    # Imprimimos el numero de epoca\n",
    "    print('Epoch (Epoca): {}'.format(epoch))\n",
    "    \n",
    "    # Introduzca datos de entrenamiento en el modelo para optimizar los pesos\n",
    "    train_loss = train(model, train_loader, optimizer)\n",
    "    \n",
    "    # Introduzca los datos de prueba en el modelo para comprobar su rendimiento\n",
    "    test_loss = test(model, test_loader)\n",
    "    \n",
    "    # Registrar las métricas para esta época\n",
    "    epoch_nums.append(epoch)\n",
    "    training_loss.append(train_loss)\n",
    "    validation_loss.append(test_loss)"
   ]
  },
  {
   "attachments": {},
   "cell_type": "markdown",
   "metadata": {},
   "source": [
    "Mientras se ejecuta el proceso de entrenamiento, intentemos entender qué está pasando:\n",
    "\n",
    "1. En cada *época*, el conjunto completo de datos de entrenamiento se transmite a través de la red. Hay cuatro características para cada observación y cuatro nodos correspondientes en la capa de entrada, por lo que las características de cada observación se pasan como un vector de cuatro valores a esa capa. Sin embargo, por eficiencia, los vectores de características se agrupan en lotes; así que en realidad se alimenta una matriz de múltiples vectores de características cada vez.\n",
    "2. La matriz de valores de características es procesada por una función que realiza una suma ponderada utilizando pesos inicializados y valores de sesgo. El resultado de esta función luego es procesado por la función de activación de la capa de entrada para restringir los valores pasados a los nodos en la siguiente capa.\n",
    "3. Las funciones de suma ponderada y activación se repiten en cada capa. Tenga en cuenta que las funciones operan en vectores y matrices en lugar de valores escalares individuales. En otras palabras, el pase hacia adelante es esencialmente una serie de funciones de álgebra lineal anidadas. Esta es la razón por la que los científicos de datos prefieren usar computadoras con unidades de procesamiento gráfico (GPU), ya que están optimizadas para cálculos matriciales y vectoriales.\n",
    "4. En la capa final de la red, los vectores de salida contienen un valor calculado para cada clase posible (en este caso, las clases 0, 1 y 2). Este vector es procesado por una *función de pérdida* que convierte estos valores en probabilidades y determina qué tan lejos están de los valores esperados en función de las clases reales; por ejemplo, suponga que la salida para una observación de pingüino Gentoo (clase 1) es \\ [0.3, 0.4, 0.3\\]. La predicción correcta sería \\[0.0, 1.0, 0.0\\], por lo que la variación entre los valores predichos y reales (qué tan lejos está cada valor predicho de lo que debería ser) es \\[0.3, 0.6, 0.3\\]. Esta variación se agrega para cada lote y se mantiene como un agregado continuo para calcular el nivel general de error (*pérdida*) incurrido por los datos de entrenamiento para la época.\n",
    "5. Al final de cada época, los datos de validación pasan a través de la red y también se calculan su pérdida y precisión (proporción de predicciones correctas basadas en el valor de probabilidad más alto en el vector de salida). Es importante hacer esto porque nos permite comparar el rendimiento del modelo utilizando datos en los que no se entrenó, lo que nos ayuda a determinar si se generalizará bien para nuevos datos o si está *sobreajustado* a los datos de entrenamiento.\n",
    "6. Después de que todos los datos hayan pasado a través de la red, la salida de la función de pérdida para los datos de *entrenamiento* (pero <u>no</u> los datos de *validación*) se pasa al optimizador. Los detalles precisos de cómo el optimizador procesa la pérdida varían según el algoritmo de optimización específico que se utilice; pero fundamentalmente puede pensar en toda la red, desde la capa de entrada hasta la función de pérdida, como una gran función anidada (*compuesta*). El optimizador aplica algunos cálculos diferenciales para calcular *derivadas parciales* para la función con respecto a cada valor de peso y sesgo que se usó en la red. Es posible hacer esto de manera eficiente para una función anidada debido a algo llamado *regla de la cadena*, que le permite determinar la derivada de una función compuesta a partir de las derivadas de su función interna y funciones externas. Realmente no necesita preocuparse por los detalles de las matemáticas aquí (el optimizador lo hace por usted), pero el resultado final es que las derivadas parciales nos informan sobre la pendiente (o *gradiente*) de la función de pérdida con respecto a cada valor de peso y sesgo; en otras palabras, podemos determinar si aumentar o disminuir los valores de peso y sesgo para disminuir la pérdida.\n",
    "7. Habiendo determinado en qué dirección ajustar los pesos y sesgos, el optimizador usa la *tasa de aprendizaje* para determinar cuánto ajustarlos; y luego trabaja hacia atrás a través de la red en un proceso llamado *propagación inversa* para asignar nuevos valores a los pesos y sesgos en cada capa.\n",
    "8. Ahora, la próxima época repite todo el proceso de entrenamiento, validación y propagación hacia atrás, comenzando con los pesos y sesgos revisados de la época anterior, lo que, con suerte, dará como resultado un menor nivel de pérdida.\n",
    "9. El proceso continúa así durante 50 épocas.\n",
    "\n",
    "## Revisar pérdida de entrenamiento y validación\n",
    "\n",
    "Una vez completado el entrenamiento, podemos examinar las métricas de pérdida que registramos mientras entrenamos y validamos el modelo. Realmente estamos buscando dos cosas:\n",
    "* La pérdida debería reducirse con cada época, mostrando que el modelo está aprendiendo los pesos y sesgos correctos para predecir las etiquetas correctas.\n",
    "* La pérdida de entrenamiento y la pérdida de validación deberían seguir una tendencia similar, mostrando que el modelo no se ajusta en exceso a los datos de entrenamiento.\n",
    "\n",
    "Tracemos las métricas de pérdida y veamos:"
   ]
  },
  {
   "cell_type": "code",
   "execution_count": 51,
   "metadata": {},
   "outputs": [
    {
     "data": {
      "image/png": "[encoded data removed]",
      "text/plain": [
       "<Figure size 640x480 with 1 Axes>"
      ]
     },
     "metadata": {},
     "output_type": "display_data"
    }
   ],
   "source": [
    "%matplotlib inline\n",
    "from matplotlib import pyplot as plt\n",
    "plt.plot(epoch_nums, training_loss)\n",
    "plt.plot(epoch_nums, validation_loss)\n",
    "plt.xlabel('epoch (Epocas)')\n",
    "plt.ylabel('loss (Perdidas)')\n",
    "plt.legend(['training - Entrenamiento', 'validation - Testeo'], loc='upper right')\n",
    "plt.show()"
   ]
  },
  {
   "attachments": {},
   "cell_type": "markdown",
   "metadata": {},
   "source": [
    "## Ver los pesos y sesgos aprendidos\n",
    "\n",
    "El modelo entrenado consta de los pesos y sesgos finales que determinó el optimizador durante el entrenamiento. Según nuestro modelo de red, deberíamos esperar los siguientes valores para cada capa:\n",
    "* Capa 1: hay cuatro valores de entrada que van a diez nodos de salida, por lo que debe haber 10 x 4 pesos y 10 valores de sesgo.\n",
    "* Capa 2: hay diez valores de entrada que van a diez nodos de salida, por lo que debe haber 10 x 10 pesos y 10 valores de sesgo.\n",
    "* Capa 3: hay diez valores de entrada que van a tres nodos de salida, por lo que debe haber 3 x 10 pesos y 3 valores de sesgo."
   ]
  },
  {
   "cell_type": "code",
   "execution_count": 52,
   "metadata": {},
   "outputs": [
    {
     "name": "stdout",
     "output_type": "stream",
     "text": [
      "fc1.weight \n",
      " [[-0.00374341  0.2682218  -0.41152257 -0.3679695 ]\n",
      " [-0.19603333 -0.078337    0.1231825   0.5145678 ]\n",
      " [-0.04437202  0.13230628 -0.15110654 -0.09828269]\n",
      " [-0.47767425 -0.33114105 -0.20611155  0.01852179]\n",
      " [ 0.22356883  0.5886191  -0.41701362 -0.18117382]\n",
      " [ 0.34899795  0.21562788 -0.18960737  0.40357184]\n",
      " [-0.08059168  0.05290705  0.4527381  -0.46383518]\n",
      " [-0.3545517  -0.15797205 -0.23337851  0.39141223]\n",
      " [-0.32408983 -0.23016644 -0.34932023 -0.4682805 ]\n",
      " [-0.50993603  0.83991164  0.28462753  0.15015654]]\n",
      "fc1.bias \n",
      " [ 0.02629578 -0.16602173  0.08459234 -0.46684736 -0.3799591  -0.49688837\n",
      "  0.31546897  0.25728968 -0.22174752  0.2888316 ]\n",
      "fc2.weight \n",
      " [[ 0.20224687  0.3143725   0.12550515  0.04272011  0.21202639 -0.18619564\n",
      "   0.05892715 -0.24517313 -0.21917307 -0.16335806]\n",
      " [ 0.14308453  0.09426499 -0.18731831  0.09553465  0.804974   -0.0174119\n",
      "   0.01207405  0.03671877  0.19618031  0.95452875]\n",
      " [-0.24369258 -0.09418043  0.12428063  0.2620103   0.4195156   0.3467646\n",
      "   0.06293392 -0.24256472  0.02909058 -0.8381543 ]\n",
      " [-0.29470977  0.43762565  0.2404469  -0.31544605 -0.7887717  -0.02663631\n",
      "  -0.05203882 -0.09720274  0.12160733 -0.5741748 ]\n",
      " [ 0.11592636  0.15991893  0.22637847  0.11824107 -0.31298175 -0.20513597\n",
      "   0.15789726  0.0661869  -0.24668422 -0.1820901 ]\n",
      " [ 0.29749104  0.3480899  -0.13788326 -0.07958971 -1.127524    0.05574576\n",
      "  -0.23813814 -0.21048176 -0.01742402 -0.33389908]\n",
      " [-0.12950484  0.18764248 -0.19243696  0.2869356   0.21671084 -0.26666948\n",
      "  -0.07870413  0.01426902  0.04613796  0.07500109]\n",
      " [ 0.12409672  0.01894209 -0.15429662  0.1496355  -0.30334112 -0.1874303\n",
      "  -0.07916126 -0.15403877 -0.11062703 -0.25918713]\n",
      " [-0.06726643  0.17494735 -0.20601156 -0.01622862 -0.0685342  -0.08131091\n",
      "   0.00878868  0.00450952  0.06399861  0.654899  ]\n",
      " [ 0.29954556  0.20082232  0.3002309  -0.02287012 -0.2840742  -0.14991638\n",
      "   0.21532115 -0.00204995 -0.15717986 -0.24232906]]\n",
      "fc2.bias \n",
      " [-0.2959424  -0.04803259 -0.2760084   0.12601654  0.17096573 -0.30333924\n",
      "  0.19725719 -0.24745122  0.08621948 -0.1282217 ]\n",
      "fc3.weight \n",
      " [[-0.06091028 -0.06208903 -0.28376698 -0.27304304 -0.04948315  0.0040895\n",
      "  -0.14365433  0.11912274 -0.28462344 -0.02134135]\n",
      " [ 0.27809682 -0.54531205  0.29435393  1.0453819  -0.2853832   0.8217825\n",
      "  -0.03649095 -0.14116624 -0.13166381 -0.25554216]\n",
      " [ 0.03393281 -0.2827415   0.8405404  -0.727855    0.15194914 -0.75741154\n",
      "  -0.07604478 -0.06650442 -1.400602    0.17134616]]\n",
      "fc3.bias \n",
      " [ 0.25107792  0.07550573 -0.27227983]\n"
     ]
    }
   ],
   "source": [
    "for param_tensor in model.state_dict():\n",
    "    print(param_tensor, \"\\n\", model.state_dict()[param_tensor].numpy())"
   ]
  },
  {
   "attachments": {},
   "cell_type": "markdown",
   "metadata": {},
   "source": [
    "## Evaluar el rendimiento del modelo\n",
    "\n",
    "Entonces, ¿el modelo es bueno? La precisión bruta reportada a partir de los datos de validación parecería indicar que predice bastante bien; pero normalmente es útil profundizar un poco más y comparar las predicciones para cada clase posible. Una forma común de visualizar el rendimiento de un modelo de clasificación es crear una *matriz de confusión* que muestre una tabla cruzada de predicciones correctas e incorrectas para cada clase."
   ]
  },
  {
   "cell_type": "code",
   "execution_count": 54,
   "metadata": {},
   "outputs": [
    {
     "data": {
      "image/png": "[encoded data removed]",
      "text/plain": [
       "<Figure size 640x480 with 2 Axes>"
      ]
     },
     "metadata": {},
     "output_type": "display_data"
    }
   ],
   "source": [
    "#Pytorch doesn't have a built-in confusion matrix metric, so we'll use SciKit-Learn\n",
    "from sklearn.metrics import confusion_matrix\n",
    "import numpy as np\n",
    "\n",
    "# Set the model to evaluate mode\n",
    "model.eval()\n",
    "\n",
    "# Get predictions for the test data\n",
    "x = torch.Tensor(x_test).float()\n",
    "_, predicted = torch.max(model(x).data, 1)\n",
    "\n",
    "# Plot the confusion matrix\n",
    "cm = confusion_matrix(y_test, predicted.numpy())\n",
    "plt.imshow(cm, interpolation=\"nearest\", cmap=plt.cm.Blues)\n",
    "plt.colorbar()\n",
    "tick_marks = np.arange(len(penguins_classes))\n",
    "plt.xticks(tick_marks, penguins_classes, rotation=45)\n",
    "plt.yticks(tick_marks, penguins_classes)\n",
    "plt.xlabel(\"Predicted Species\")\n",
    "plt.ylabel(\"Actual Species\")\n",
    "plt.show()"
   ]
  },
  {
   "attachments": {},
   "cell_type": "markdown",
   "metadata": {},
   "source": [
    "La matriz de confusión debe mostrar una línea diagonal fuerte que indique que hay más predicciones correctas que incorrectas para cada clase.\n",
    "\n",
    "## Guardar el modelo entrenado\n",
    "Ahora que tenemos un modelo que creemos que es razonablemente preciso, podemos guardar sus pesos entrenados para usarlos más tarde."
   ]
  },
  {
   "cell_type": "code",
   "execution_count": 57,
   "metadata": {},
   "outputs": [
    {
     "name": "stdout",
     "output_type": "stream",
     "text": [
      "modelo guardado en  models/penguin_classifier.pt\n"
     ]
    }
   ],
   "source": [
    "# Guardamos el modelos \n",
    "model_file = 'models/penguin_classifier.pt'\n",
    "\n",
    "torch.save(model.state_dict(),model_file)\n",
    "del model\n",
    "print('modelo guardado en ',model_file)"
   ]
  },
  {
   "attachments": {},
   "cell_type": "markdown",
   "metadata": {},
   "source": [
    "## Usamos el modelo entrenado\n",
    "\n",
    "Cuando tenemos una nueva observacion, podemos usar el modelo guardado\n"
   ]
  },
  {
   "cell_type": "code",
   "execution_count": 59,
   "metadata": {},
   "outputs": [
    {
     "name": "stdout",
     "output_type": "stream",
     "text": [
      "New sample: [[50.4, 15.3, 20, 50]]\n",
      "Prediction: Gentoo\n"
     ]
    }
   ],
   "source": [
    "# New penguin features\n",
    "x_new = [[50.4,15.3,20,50]]\n",
    "print ('New sample: {}'.format(x_new))\n",
    "\n",
    "# Create a new model class and load weights\n",
    "model = PenguinNet()\n",
    "model.load_state_dict(torch.load(model_file))\n",
    "\n",
    "# Set model to evaluation mode\n",
    "model.eval()\n",
    "\n",
    "# Get a prediction for the new data sample\n",
    "x = torch.Tensor(x_new).float()\n",
    "_, predicted = torch.max(model(x).data, 1)\n",
    "\n",
    "print('Prediction:',penguins_classes[predicted.item()])"
   ]
  },
  {
   "attachments": {},
   "cell_type": "markdown",
   "metadata": {},
   "source": [
    "## Aprende más\n",
    "\n",
    "Este cuaderno fue diseñado para ayudarlo a comprender los conceptos y principios básicos involucrados en las redes neuronales profundas, utilizando un ejemplo simple de PyTorch. Para obtener más información sobre PyTorch, consulte los [tutoriales en el sitio web de PyTorch](https://pytorch.org/tutorials/)."
   ]
  }
 ],
 "metadata": {
  "kernelspec": {
   "display_name": "Python 3",
   "language": "python",
   "name": "python3"
  },
  "language_info": {
   "codemirror_mode": {
    "name": "ipython",
    "version": 3
   },
   "file_extension": ".py",
   "mimetype": "text/x-python",
   "name": "python",
   "nbconvert_exporter": "python",
   "pygments_lexer": "ipython3",
   "version": "3.10.7"
  },
  "orig_nbformat": 4
 },
 "nbformat": 4,
 "nbformat_minor": 2
}
