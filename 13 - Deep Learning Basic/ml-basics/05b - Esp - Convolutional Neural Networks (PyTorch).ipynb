{
 "cells": [
  {
   "attachments": {},
   "cell_type": "markdown",
   "metadata": {},
   "source": [
    "# Redes Neuronales Convolucionales con PyTorch\n",
    "\n",
    "\"Aprendizaje profundo\" es un término general que generalmente se refiere al uso de redes neuronales con múltiples capas que sintetizan la forma en que el cerebro humano aprende y toma decisiones. Una red neuronal convolucional es un tipo de red neuronal que extrae *características* de matrices de valores numéricos (a menudo imágenes) mediante la convolución de múltiples filtros sobre los valores de matriz para aplicar pesos e identificar patrones, como bordes, esquinas, etc. imagen. Las representaciones numéricas de estos patrones luego se pasan a una capa de red neuronal completamente conectada para asignar las características a clases específicas.\n",
    "\n",
    "Hay varios marcos de trabajo comúnmente utilizados para crear CNN. En este cuaderno, crearemos una CNN de ejemplo simple usando PyTorch.\n",
    "\n",
    "## Importar bibliotecas\n",
    "\n",
    "Primero, instalemos e importemos las bibliotecas de PyTorch que necesitaremos."
   ]
  },
  {
   "cell_type": "code",
   "execution_count": 29,
   "metadata": {},
   "outputs": [
    {
     "name": "stdout",
     "output_type": "stream",
     "text": [
      "Librerias importadas - listo para usar PyTorch 1.11.0+cpu\n"
     ]
    }
   ],
   "source": [
    "# Librerias de PyTorch\n",
    "import torch\n",
    "import torchvision\n",
    "import torchvision.transforms as transforms\n",
    "import torch.nn as nn\n",
    "import torch.optim as optim\n",
    "from torch.autograd import Variable\n",
    "import torch.nn.functional as F\n",
    "\n",
    "# Otras librerias \n",
    "import numpy as np\n",
    "import os\n",
    "import matplotlib.pyplot as plt\n",
    "import matplotlib.image as mpimg\n",
    "%matplotlib inline\n",
    "\n",
    "print('Librerias importadas - listo para usar PyTorch', torch.__version__)\n"
   ]
  },
  {
   "attachments": {},
   "cell_type": "markdown",
   "metadata": {},
   "source": [
    "# Exploracion de datos \n",
    "\n",
    "En este ejercicio, entrenará un modelo de clasificación basado en CNN que puede clasificar imágenes de formas geométricas. Echemos un vistazo a las clases de forma que el modelo necesita identificar."
   ]
  },
  {
   "cell_type": "code",
   "execution_count": 30,
   "metadata": {},
   "outputs": [
    {
     "name": "stdout",
     "output_type": "stream",
     "text": [
      "3, classes\n",
      "['circle', 'square', 'triangle']\n"
     ]
    },
    {
     "data": {
      "image/png": "[encoded data removed]",
      "text/plain": [
       "<Figure size 600x600 with 3 Axes>"
      ]
     },
     "metadata": {},
     "output_type": "display_data"
    }
   ],
   "source": [
    "# Las imagenes se encuentran en este folder 'data/shapes/'\n",
    "data_path = 'data/shapes/'\n",
    "\n",
    "# Obtenemos el nombre de las clases\n",
    "classes = os.listdir(data_path)     # Nombres de las clases\n",
    "classes.sort()                      # Ordenamos\n",
    "print(f'{len(classes)}, classes')\n",
    "print(classes)\n",
    "\n",
    "# Mostrar la primera imagen en cada carpeta\n",
    "fig = plt.figure(figsize=(6,6))\n",
    "i = 0\n",
    "\n",
    "for sub_dir in os.listdir(data_path):\n",
    "    i += 1\n",
    "    img_file = os.listdir(os.path.join(data_path,sub_dir))[0]   # Archivo\n",
    "    img_path = os.path.join(data_path, sub_dir, img_file)       # Ubicacion del archivo\n",
    "    img = mpimg.imread(img_path)\n",
    "    a=fig.add_subplot(1, len(classes),i)\n",
    "    a.axis('off')\n",
    "    imgplot = plt.imshow(img)\n",
    "    a.set_title(img_file)\n",
    "plt.show()\n"
   ]
  },
  {
   "attachments": {},
   "cell_type": "markdown",
   "metadata": {},
   "source": [
    "## Cargar datos\n",
    "\n",
    "PyTorch incluye funciones para cargar y transformar datos. Los usaremos para crear un cargador iterativo para datos de entrenamiento y un segundo cargador iterativo para datos de prueba (que usaremos para validar el modelo entrenado). Los cargadores transformarán los datos de la imagen en *tensores*, que son la estructura de datos central utilizada en PyTorch, y los normalizarán para que los valores de los píxeles estén en una escala con una media de 0,5 y una desviación estándar de 0,5.\n",
    "\n",
    "Ejecute la siguiente celda para definir los cargadores de datos."
   ]
  },
  {
   "cell_type": "code",
   "execution_count": 31,
   "metadata": {},
   "outputs": [
    {
     "name": "stdout",
     "output_type": "stream",
     "text": [
      "Datos Cargados\n"
     ]
    }
   ],
   "source": [
    "# Función para ingerir datos usando cargadores de entrenamiento y prueba\n",
    "def load_dataset(data_path):\n",
    "    # Cargamos todas las imagenes\n",
    "    transfomation = transforms.Compose([\n",
    "        transforms.ToTensor(),       # Transformamos a tensores\n",
    "        transforms.Normalize(mean=[0.5,0.5,0.5], std=[0.5,0.5,0.5])  # Normalizamos los valores de los pixeles (canales R,G Y B)        \n",
    "    ])\n",
    "\n",
    "    # Cargamos todas las imagenes, transformandolas\n",
    "    full_dataset = torchvision.datasets.ImageFolder(\n",
    "        root= data_path,            # ubicacion\n",
    "        transform=transfomation     # transformacion\n",
    "    )\n",
    "\n",
    "    # Dividir en conjuntos de datos de entrenamiento (70 % y prueba (30 %)\n",
    "    train_size = int(0.7*len(full_dataset))\n",
    "    test_size  = len(full_dataset) - train_size\n",
    "    train_dataset, test_dataset = torch.utils.data.random_split(full_dataset, [train_size, test_size])\n",
    "\n",
    "    # definir un cargador para los datos de entrenamiento que podemos iterar en lotes de 50 imágenes\n",
    "    train_loader = torch.utils.data.DataLoader(\n",
    "        train_dataset,\n",
    "        batch_size=50,\n",
    "        num_workers=0,\n",
    "        shuffle=False\n",
    "    )\n",
    "    # definir un cargador para los datos de prueba que podemos recorrer en lotes de 50 imágenes\n",
    "    test_loader = torch.utils.data.DataLoader(\n",
    "        test_dataset,\n",
    "        batch_size=50,\n",
    "        num_workers=0,\n",
    "        shuffle=False\n",
    "    )\n",
    "\n",
    "    return train_loader, test_loader\n",
    "\n",
    "# obtener los dataloadres interactivos para datos de prueba y entrenamiento\n",
    "train_loader, test_loader = load_dataset(data_path)\n",
    "print('Datos Cargados')"
   ]
  },
  {
   "attachments": {},
   "cell_type": "markdown",
   "metadata": {},
   "source": [
    "# Definimos la CNN\n",
    "\n",
    "En PyTorch, define un modelo de red neuronal como una clase que se deriva de la clase base **nn.Module**. Su clase debe definir las capas en su red y proporcionar un método de **reenvío** que se utiliza para procesar datos a través de las capas de la red."
   ]
  },
  {
   "cell_type": "code",
   "execution_count": 32,
   "metadata": {},
   "outputs": [
    {
     "name": "stdout",
     "output_type": "stream",
     "text": [
      "CNN - modelo de clasificacion definido!\n"
     ]
    }
   ],
   "source": [
    "# Definimos la clase\n",
    "\n",
    "class Net(nn.Module):\n",
    "\n",
    "    # Constructor\n",
    "    def __init__(self, num_classes = 3):\n",
    "        super(Net, self).__init__()\n",
    "\n",
    "        # Nuestras imágenes son RGB, por lo que los canales de entrada = 3. Aplicaremos 12 filtros en la primera capa convolucional\n",
    "        self.conv1 = nn.Conv2d(in_channels=3, out_channels=12, kernel_size=3, stride= 1, padding= 1)\n",
    "\n",
    "        # Aplicaremos la agrupación máxima con un tamaño de kernel de 2\n",
    "        self.pool = nn.MaxPool2d(kernel_size=2)\n",
    "\n",
    "        # Una segunda capa convolucional toma 12 canales de entrada y genera 12 salidas\n",
    "        self.conv2 = nn.Conv2d(in_channels=12, out_channels=12, kernel_size=3, stride=1, padding=1)\n",
    "\n",
    "        # Una tercerca capa convolucional toma 12 canales de entrada y genera 24 salidas\n",
    "        self.conv3 = nn.Conv2d(in_channels=12, out_channels=24, kernel_size=3, stride=1, padding=1)\n",
    "\n",
    "        # Una capa de anulacion que ayuda a eliminar el 20% de las caracteristicas para evitar el sobreajuste\n",
    "        self.drop = nn.Dropout2d(p=0.2)\n",
    "\n",
    "        # Nuestros tensores de imagen de 128x128 se agruparán dos veces con un tamaño de kernel de 2. 128/2/2 es 32.\n",
    "        # Así que nuestros tensores de características ahora son 32 x 32, y hemos generado 24 de ellos\n",
    "        # Necesitamos aplanarlos y alimentarlos a una capa completamente conectada\n",
    "        # para asignarlos a la probabilidad de cada clase\n",
    "        self.fc = nn.Linear(in_features=32*32*24, out_features=num_classes)\n",
    "    \n",
    "    def forward(self,x):\n",
    "        # Use una función de activación de relu después de la capa 1 (convolución 1 y grupo)\n",
    "        x = F.relu(self.pool(self.conv1(x)))\n",
    "        \n",
    "        # Use una función de activación de relu después de la capa 2 (convolución 2 y grupo)\n",
    "        x = F.relu(self.pool(self.conv2(x)))\n",
    "\n",
    "        # Seleccione algunas características para colocarlas después de la tercera convolución para evitar el sobreajuste\n",
    "        x = F.relu(self.drop(self.conv3(x)))\n",
    "\n",
    "        # Solo elimine las funciones si se trata de un pase de entrenamiento\n",
    "        x = F.dropout(x, training=self.training)\n",
    "\n",
    "        # aplanar\n",
    "        x = x.view(-1, 32*32*24)\n",
    "\n",
    "        # Alimentar a la capa completamente conectada para predecir la clase\n",
    "        x = self.fc(x)\n",
    "\n",
    "        # Devuelve el tensor log_softmax\n",
    "        return F.log_softmax(x, dim= 1)\n",
    "\n",
    "print('CNN - modelo de clasificacion definido!')\n"
   ]
  },
  {
   "attachments": {},
   "cell_type": "markdown",
   "metadata": {},
   "source": [
    "## Entrenar al modelo\n",
    "\n",
    "Ahora que hemos definido una clase para la red, podemos entrenarla usando los datos de la imagen.\n",
    "\n",
    "El entrenamiento consiste en una serie iterativa de pases hacia adelante en los que las capas de la red procesan los datos de entrenamiento en lotes, y el optimizador retrocede y ajusta los pesos. También usaremos un conjunto separado de imágenes de prueba para probar el modelo al final de cada iteración (o *época*) para que podamos realizar un seguimiento de la mejora del rendimiento a medida que avanza el proceso de capacitación.\n",
    "\n",
    "En el siguiente ejemplo, usamos 5 épocas para entrenar el modelo usando los lotes de imágenes cargados por los cargadores de datos, reteniendo los datos en el cargador de datos de prueba para su validación. Después de cada época, una función de pérdida mide el error (*pérdida*) en el modelo y ajusta los pesos (que se generaron aleatoriamente para la primera iteración) para tratar de mejorar la precisión.\n",
    "\n",
    "> **Nota**: Solo estamos usando 5 épocas para minimizar el tiempo de entrenamiento para este ejemplo simple. Una CNN del mundo real generalmente se entrena en más épocas que esta. El entrenamiento del modelo CNN requiere un uso intensivo del procesador, lo que implica muchas operaciones basadas en matrices y vectores; por lo que se recomienda realizar esto en un sistema que pueda aprovechar las GPU, que están optimizadas para este tipo de cálculo. Esto tardará un tiempo en completarse en un sistema basado en CPU: el estado se mostrará a medida que avanza el entrenamiento."
   ]
  },
  {
   "cell_type": "code",
   "execution_count": 33,
   "metadata": {},
   "outputs": [
    {
     "name": "stdout",
     "output_type": "stream",
     "text": [
      "Training on cpu\n",
      "Epoch: 1\n",
      "Training set [0/840 (0%)] Loss: 1.094503\n",
      "Training set [500/840 (59%)] Loss: 0.908985\n",
      "Training set: Average loss: 0.960145\n",
      "Validation set: Average loss: 0.645471, Accuracy: 267/360 (74%)\n",
      "\n",
      "Epoch: 2\n",
      "Training set [0/840 (0%)] Loss: 0.718209\n",
      "Training set [500/840 (59%)] Loss: 0.428012\n",
      "Training set: Average loss: 0.503786\n",
      "Validation set: Average loss: 0.316891, Accuracy: 310/360 (86%)\n",
      "\n",
      "Epoch: 3\n",
      "Training set [0/840 (0%)] Loss: 0.338187\n",
      "Training set [500/840 (59%)] Loss: 0.224213\n",
      "Training set: Average loss: 0.298347\n",
      "Validation set: Average loss: 0.217537, Accuracy: 328/360 (91%)\n",
      "\n",
      "Epoch: 4\n",
      "Training set [0/840 (0%)] Loss: 0.261548\n",
      "Training set [500/840 (59%)] Loss: 0.138442\n",
      "Training set: Average loss: 0.170777\n",
      "Validation set: Average loss: 0.094481, Accuracy: 358/360 (99%)\n",
      "\n",
      "Epoch: 5\n",
      "Training set [0/840 (0%)] Loss: 0.074345\n",
      "Training set [500/840 (59%)] Loss: 0.075966\n",
      "Training set: Average loss: 0.073747\n",
      "Validation set: Average loss: 0.041357, Accuracy: 358/360 (99%)\n",
      "\n"
     ]
    }
   ],
   "source": [
    "def train(model, device, train_loader, optimizer, epoch):\n",
    "\n",
    "    model.train()   # Establecemos el modelo en modo entrenamiento\n",
    "    train_loss = 0\n",
    "    print('Epoch:', epoch)\n",
    "\n",
    "    # Procesamos las imagenes por lotes \n",
    "    for batch_idx, (data, target) in enumerate(train_loader):\n",
    "        # Use la CPU o la GPU según corresponda\n",
    "        data, target = data.to(device), target.to(device)\n",
    "\n",
    "        # Reestablecemos el optimizador\n",
    "        optimizer.zero_grad()\n",
    "\n",
    "        # Empuje los datos hacia adelante a través de las capas del modelo\n",
    "        output = model(data)\n",
    "\n",
    "        # Obtener la perdida\n",
    "        loss = loss_criteria(output, target)\n",
    "\n",
    "        # Mantener un total acumulado\n",
    "        train_loss += loss.item()\n",
    "\n",
    "        # Retropropagacion\n",
    "        loss.backward()\n",
    "        optimizer.step()\n",
    "        \n",
    "        # Imprima métricas por cada 10 lotes para que veamos algún progreso\n",
    "        if batch_idx % 10 == 0:\n",
    "            print('Training set [{}/{} ({:.0f}%)] Loss: {:.6f}'.format(\n",
    "                batch_idx * len(data), len(train_loader.dataset),\n",
    "                100. * batch_idx / len(train_loader), loss.item()))\n",
    "            \n",
    "    # devuelve la pérdida promedio para la época\n",
    "    avg_loss = train_loss / (batch_idx+1)\n",
    "    print('Training set: Average loss: {:.6f}'.format(avg_loss))\n",
    "    return avg_loss\n",
    "\n",
    "def test(model, device, test_loader):\n",
    "    # Switch the model to evaluation mode (so we don't backpropagate or drop)\n",
    "    model.eval()\n",
    "    test_loss = 0\n",
    "    correct = 0\n",
    "    with torch.no_grad():\n",
    "        batch_count = 0\n",
    "        for data, target in test_loader:\n",
    "            batch_count += 1\n",
    "            data, target = data.to(device), target.to(device)\n",
    "            \n",
    "            # Get the predicted classes for this batch\n",
    "            output = model(data)\n",
    "            \n",
    "            # Calculate the loss for this batch\n",
    "            test_loss += loss_criteria(output, target).item()\n",
    "            \n",
    "            # Calculate the accuracy for this batch\n",
    "            _, predicted = torch.max(output.data, 1)\n",
    "            correct += torch.sum(target==predicted).item()\n",
    "\n",
    "    # Calculate the average loss and total accuracy for this epoch\n",
    "    avg_loss = test_loss/batch_count\n",
    "    print('Validation set: Average loss: {:.6f}, Accuracy: {}/{} ({:.0f}%)\\n'.format(\n",
    "        avg_loss, correct, len(test_loader.dataset),\n",
    "        100. * correct / len(test_loader.dataset)))\n",
    "    \n",
    "    # return average loss for the epoch\n",
    "    return avg_loss\n",
    "    \n",
    "    \n",
    "# Now use the train and test functions to train and test the model    \n",
    "\n",
    "device = \"cpu\"\n",
    "if (torch.cuda.is_available()):\n",
    "    # si la GPU está disponible, use cuda (en una CPU, ¡el entrenamiento tomará un tiempo considerable!)\n",
    "    device = \"cuda\"\n",
    "print('Training on', device)\n",
    "\n",
    "# Cree una instancia de la clase modelo y asígnela al dispositivo\n",
    "model = Net(num_classes=len(classes)).to(device)\n",
    "\n",
    "# Use an \"Adam\" optimizer to adjust weights\n",
    "# (see https://pytorch.org/docs/stable/optim.html#algorithms for details of supported algorithms)\n",
    "optimizer = optim.Adam(model.parameters(), lr=0.001)\n",
    "\n",
    "# Specify the loss criteria\n",
    "loss_criteria = nn.CrossEntropyLoss()\n",
    "\n",
    "# Track metrics in these arrays\n",
    "epoch_nums = []\n",
    "training_loss = []\n",
    "validation_loss = []\n",
    "\n",
    "# Train over 5 epochs (in a real scenario, you'd likely use many more)\n",
    "epochs = 5\n",
    "for epoch in range(1, epochs + 1):\n",
    "        train_loss = train(model, device, train_loader, optimizer, epoch)\n",
    "        test_loss = test(model, device, test_loader)\n",
    "        epoch_nums.append(epoch)\n",
    "        training_loss.append(train_loss)\n",
    "        validation_loss.append(test_loss)"
   ]
  },
  {
   "attachments": {},
   "cell_type": "markdown",
   "metadata": {},
   "source": [
    "## Ver el historial de pérdidas\n",
    "\n",
    "Hicimos un seguimiento de la pérdida promedio de entrenamiento y validación para cada época. Podemos graficarlos para verificar que la pérdida se redujo a medida que se entrenó el modelo y para detectar *sobreajuste* (que se indica por una caída continua en la pérdida de entrenamiento después de que la pérdida de validación se niveló o comenzó a aumentar)."
   ]
  },
  {
   "cell_type": "code",
   "execution_count": 34,
   "metadata": {},
   "outputs": [
    {
     "data": {
      "image/png": "[encoded data removed]",
      "text/plain": [
       "<Figure size 640x480 with 1 Axes>"
      ]
     },
     "metadata": {},
     "output_type": "display_data"
    }
   ],
   "source": [
    "%matplotlib inline\n",
    "from matplotlib import pyplot as plt\n",
    "\n",
    "plt.plot(epoch_nums, training_loss)\n",
    "plt.plot(epoch_nums, validation_loss)\n",
    "plt.xlabel('epoch')\n",
    "plt.ylabel('loss')\n",
    "plt.legend(['training', 'validation'], loc='upper right')\n",
    "plt.show()"
   ]
  },
  {
   "attachments": {},
   "cell_type": "markdown",
   "metadata": {},
   "source": [
    "## Evaluar el rendimiento del modelo\n",
    "\n",
    "Puede ver la precisión final en función de los datos de prueba, pero normalmente querrá explorar las métricas de rendimiento con un poco más de profundidad. Tracemos una matriz de confusión para ver qué tan bien el modelo predice cada clase."
   ]
  },
  {
   "cell_type": "code",
   "execution_count": 35,
   "metadata": {},
   "outputs": [
    {
     "name": "stdout",
     "output_type": "stream",
     "text": [
      "Getting predictions from test set...\n"
     ]
    },
    {
     "data": {
      "image/png": "[encoded data removed]",
      "text/plain": [
       "<Figure size 640x480 with 2 Axes>"
      ]
     },
     "metadata": {},
     "output_type": "display_data"
    }
   ],
   "source": [
    "# Pytorch doesn't have a built-in confusion matrix metric, so we'll use SciKit-Learn\n",
    "from sklearn.metrics import confusion_matrix\n",
    "\n",
    "# Set the model to evaluate mode\n",
    "model.eval()\n",
    "\n",
    "# Get predictions for the test data and convert to numpy arrays for use with SciKit-Learn\n",
    "print(\"Getting predictions from test set...\")\n",
    "truelabels = []\n",
    "predictions = []\n",
    "for data, target in test_loader:\n",
    "    for label in target.cpu().data.numpy():\n",
    "        truelabels.append(label)\n",
    "    for prediction in model.cpu()(data).data.numpy().argmax(1):\n",
    "        predictions.append(prediction) \n",
    "\n",
    "# Plot the confusion matrix\n",
    "cm = confusion_matrix(truelabels, predictions)\n",
    "plt.imshow(cm, interpolation=\"nearest\", cmap=plt.cm.Blues)\n",
    "plt.colorbar()\n",
    "tick_marks = np.arange(len(classes))\n",
    "plt.xticks(tick_marks, classes, rotation=45)\n",
    "plt.yticks(tick_marks, classes)\n",
    "plt.xlabel(\"Predicted Shape\")\n",
    "plt.ylabel(\"Actual Shape\")\n",
    "plt.show()"
   ]
  },
  {
   "attachments": {},
   "cell_type": "markdown",
   "metadata": {},
   "source": [
    "## Guardar el modelo entrenado\n",
    "\n",
    "Ahora que ha entrenado un modelo de trabajo, puede guardarlo (incluidos los pesos entrenados) para usarlo más tarde."
   ]
  },
  {
   "cell_type": "code",
   "execution_count": 36,
   "metadata": {},
   "outputs": [
    {
     "name": "stdout",
     "output_type": "stream",
     "text": [
      "model saved as models/shape_classifier.pt\n"
     ]
    }
   ],
   "source": [
    "# Save the model weights\n",
    "model_file = 'models/shape_classifier.pt'\n",
    "torch.save(model.state_dict(), model_file)\n",
    "del model\n",
    "print('model saved as', model_file)"
   ]
  },
  {
   "attachments": {},
   "cell_type": "markdown",
   "metadata": {},
   "source": [
    "## Usar el modelo entrenado\n",
    "\n",
    "Ahora que hemos entrenado y evaluado nuestro modelo, podemos usarlo para predecir clases para nuevas imágenes."
   ]
  },
  {
   "cell_type": "code",
   "execution_count": 38,
   "metadata": {},
   "outputs": [
    {
     "name": "stdout",
     "output_type": "stream",
     "text": [
      "square\n"
     ]
    },
    {
     "data": {
      "image/png": "[encoded data removed]",
      "text/plain": [
       "<Figure size 640x480 with 1 Axes>"
      ]
     },
     "metadata": {},
     "output_type": "display_data"
    }
   ],
   "source": [
    "import matplotlib.pyplot as plt\n",
    "import os\n",
    "from random import randint\n",
    "%matplotlib inline\n",
    "\n",
    "\n",
    "# Function to predict the class of an image\n",
    "def predict_image(classifier, image):\n",
    "    import numpy\n",
    "    \n",
    "    # Set the classifer model to evaluation mode\n",
    "    classifier.eval()\n",
    "    \n",
    "    # Apply the same transformations as we did for the training images\n",
    "    transformation = transforms.Compose([\n",
    "        transforms.ToTensor(),\n",
    "        transforms.Normalize(mean=[0.5, 0.5, 0.5], std=[0.5, 0.5, 0.5])\n",
    "    ])\n",
    "\n",
    "    # Preprocess the image\n",
    "    image_tensor = transformation(image).float()\n",
    "\n",
    "    # Add an extra batch dimension since pytorch treats all inputs as batches\n",
    "    image_tensor = image_tensor.unsqueeze_(0)\n",
    "\n",
    "    # Turn the input into a Variable\n",
    "    input_features = Variable(image_tensor)\n",
    "\n",
    "    # Predict the class of the image\n",
    "    output = classifier(input_features)\n",
    "    index = output.data.numpy().argmax()\n",
    "    return index\n",
    "\n",
    "\n",
    "# Function to create a random image (of a square, circle, or triangle)\n",
    "def create_image (size, shape):\n",
    "    from random import randint\n",
    "    import numpy as np\n",
    "    from PIL import Image, ImageDraw\n",
    "    \n",
    "    xy1 = randint(10,40)\n",
    "    xy2 = randint(60,100)\n",
    "    col = (randint(0,200), randint(0,200), randint(0,200))\n",
    "\n",
    "    img = Image.new(\"RGB\", size, (255, 255, 255))\n",
    "    draw = ImageDraw.Draw(img)\n",
    "    \n",
    "    if shape == 'circle':\n",
    "        draw.ellipse([(xy1,xy1), (xy2,xy2)], fill=col)\n",
    "    elif shape == 'triangle':\n",
    "        draw.polygon([(xy1,xy1), (xy2,xy2), (xy2,xy1)], fill=col)\n",
    "    else: # square\n",
    "        draw.rectangle([(xy1,xy1), (xy2,xy2)], fill=col)\n",
    "    del draw\n",
    "    \n",
    "    return np.array(img)\n",
    "\n",
    "# Create a random test image\n",
    "classnames = os.listdir(os.path.join('data', 'shapes'))\n",
    "classnames.sort()\n",
    "shape = classnames[randint(0, len(classnames)-1)]\n",
    "img = create_image ((128,128), shape)\n",
    "\n",
    "# Display the image\n",
    "plt.axis('off')\n",
    "plt.imshow(img)\n",
    "\n",
    "# Create a new model class and load the saved weights\n",
    "model = Net()\n",
    "model.load_state_dict(torch.load(model_file))\n",
    "\n",
    "# Call the predction function\n",
    "index = predict_image(model, img)\n",
    "print(classes[index])"
   ]
  },
  {
   "attachments": {},
   "cell_type": "markdown",
   "metadata": {},
   "source": [
    "## Otras lecturas\n",
    "\n",
    "Para obtener más información sobre el entrenamiento de redes neuronales convolucionales con PyTorch, consulte la [documentación de PyTorch] (https://pytorch.org/).\n",
    "\n",
    "## Desafío: clasificación de imágenes de Safari\n",
    "\n",
    "Esperamos que este cuaderno le haya mostrado los pasos principales para entrenar y evaluar una CNN. ¿Por qué no pones en práctica lo que has aprendido con nuestro desafío de clasificación de imágenes de Safari en el cuaderno [/challenges/05 - Safari CNN Challenge.ipynb](./challenges/05%20-%20Safari%20CNN%20Challenge.ipynb)?\n",
    "\n",
    "> **Nota**: El tiempo para completar este desafío opcional no está incluido en el tiempo estimado para este ejercicio. ¡Puedes dedicarle el tiempo que quieras!"
   ]
  },
  {
   "cell_type": "code",
   "execution_count": null,
   "metadata": {},
   "outputs": [],
   "source": []
  }
 ],
 "metadata": {
  "kernelspec": {
   "display_name": "Python 3",
   "language": "python",
   "name": "python3"
  },
  "language_info": {
   "codemirror_mode": {
    "name": "ipython",
    "version": 3
   },
   "file_extension": ".py",
   "mimetype": "text/x-python",
   "name": "python",
   "nbconvert_exporter": "python",
   "pygments_lexer": "ipython3",
   "version": "3.10.7"
  },
  "orig_nbformat": 4
 },
 "nbformat": 4,
 "nbformat_minor": 2
}
