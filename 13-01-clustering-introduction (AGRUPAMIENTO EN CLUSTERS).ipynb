{
  "cells": [
    {
      "attachments": {},
      "cell_type": "markdown",
      "metadata": {},
      "source": [
        "# Clustering - Introduction\n",
        "\n",
        "In contrast to *supervised* machine learning, *unsupervised* learning is used when there is no \"ground truth\" from which to train and validate label predictions. The most common form of unsupervised learning is *clustering*, which is simllar conceptually to *classification*, except that the the training data does not include known values for the class label to be predicted. Clustering works by separating the training cases based on similarities that can be determined from their feature values. Think of it this way; the numeric features of a given entity can be thought of as vector coordinates that define the entity's position in n-dimensional space. What a clustering model seeks to do is to identify groups, or *clusters*, of entities that are close to one another while being separated from other clusters.\n",
        "\n",
        "For example, let's take a look at a dataset that contains measurements of different species of wheat seed.\n",
        "\n",
        "> **Citation**: The seeds dataset used in the this exercise was originally published by the Institute of Agrophysics of the Polish Academy of Sciences in Lublin, and can be downloaded from the UCI dataset repository (Dua, D. and Graff, C. (2019). UCI Machine Learning Repository [http://archive.ics.uci.edu/ml]. Irvine, CA: University of California, School of Information and Computer Science).\n",
        "\n",
        "# Clustering - Introducción\n",
        "A diferencia del aprendizaje automático supervisado , el aprendizaje no supervisado se usa cuando no hay una \"verdad básica\" a partir de la cual entrenar y validar las predicciones de las etiquetas. La forma más común de aprendizaje no supervisado es el agrupamiento , que es conceptualmente similar a la clasificación , excepto que los datos de entrenamiento no incluyen valores conocidos para la predicción de la etiqueta de clase. La agrupación en clústeres funciona separando los casos de entrenamiento en función de las similitudes que se pueden determinar a partir de sus valores de características. Piénsalo de esta manera; las características numéricas de una entidad determinada se pueden considerar como coordenadas vectoriales que definen la posición de la entidad en el espacio n-dimensional. Lo que busca hacer un modelo de agrupamiento es identificar grupos o conglomerados, de entidades que están cerca unas de otras mientras están separadas de otros clústeres.\n",
        "\n",
        "Por ejemplo, echemos un vistazo a un conjunto de datos que contiene medidas de diferentes especies de semillas de trigo."
      ]
    },
    {
      "cell_type": "code",
      "execution_count": 2,
      "metadata": {},
      "outputs": [
        {
          "data": {
            "text/html": [
              "<div>\n",
              "<style scoped>\n",
              "    .dataframe tbody tr th:only-of-type {\n",
              "        vertical-align: middle;\n",
              "    }\n",
              "\n",
              "    .dataframe tbody tr th {\n",
              "        vertical-align: top;\n",
              "    }\n",
              "\n",
              "    .dataframe thead th {\n",
              "        text-align: right;\n",
              "    }\n",
              "</style>\n",
              "<table border=\"1\" class=\"dataframe\">\n",
              "  <thead>\n",
              "    <tr style=\"text-align: right;\">\n",
              "      <th></th>\n",
              "      <th>area</th>\n",
              "      <th>perimeter</th>\n",
              "      <th>compactness</th>\n",
              "      <th>kernel_length</th>\n",
              "      <th>kernel_width</th>\n",
              "      <th>asymmetry_coefficient</th>\n",
              "    </tr>\n",
              "  </thead>\n",
              "  <tbody>\n",
              "    <tr>\n",
              "      <th>86</th>\n",
              "      <td>18.88</td>\n",
              "      <td>16.26</td>\n",
              "      <td>0.8969</td>\n",
              "      <td>6.084</td>\n",
              "      <td>3.764</td>\n",
              "      <td>1.649</td>\n",
              "    </tr>\n",
              "    <tr>\n",
              "      <th>61</th>\n",
              "      <td>11.23</td>\n",
              "      <td>12.63</td>\n",
              "      <td>0.8840</td>\n",
              "      <td>4.902</td>\n",
              "      <td>2.879</td>\n",
              "      <td>2.269</td>\n",
              "    </tr>\n",
              "    <tr>\n",
              "      <th>34</th>\n",
              "      <td>15.05</td>\n",
              "      <td>14.68</td>\n",
              "      <td>0.8779</td>\n",
              "      <td>5.712</td>\n",
              "      <td>3.328</td>\n",
              "      <td>2.129</td>\n",
              "    </tr>\n",
              "    <tr>\n",
              "      <th>122</th>\n",
              "      <td>16.17</td>\n",
              "      <td>15.38</td>\n",
              "      <td>0.8588</td>\n",
              "      <td>5.762</td>\n",
              "      <td>3.387</td>\n",
              "      <td>4.286</td>\n",
              "    </tr>\n",
              "    <tr>\n",
              "      <th>204</th>\n",
              "      <td>12.37</td>\n",
              "      <td>13.47</td>\n",
              "      <td>0.8567</td>\n",
              "      <td>5.204</td>\n",
              "      <td>2.960</td>\n",
              "      <td>3.919</td>\n",
              "    </tr>\n",
              "    <tr>\n",
              "      <th>10</th>\n",
              "      <td>15.26</td>\n",
              "      <td>14.85</td>\n",
              "      <td>0.8696</td>\n",
              "      <td>5.714</td>\n",
              "      <td>3.242</td>\n",
              "      <td>4.543</td>\n",
              "    </tr>\n",
              "    <tr>\n",
              "      <th>97</th>\n",
              "      <td>18.98</td>\n",
              "      <td>16.57</td>\n",
              "      <td>0.8687</td>\n",
              "      <td>6.449</td>\n",
              "      <td>3.552</td>\n",
              "      <td>2.144</td>\n",
              "    </tr>\n",
              "    <tr>\n",
              "      <th>165</th>\n",
              "      <td>12.10</td>\n",
              "      <td>13.15</td>\n",
              "      <td>0.8793</td>\n",
              "      <td>5.105</td>\n",
              "      <td>2.941</td>\n",
              "      <td>2.201</td>\n",
              "    </tr>\n",
              "    <tr>\n",
              "      <th>174</th>\n",
              "      <td>10.83</td>\n",
              "      <td>12.96</td>\n",
              "      <td>0.8099</td>\n",
              "      <td>5.278</td>\n",
              "      <td>2.641</td>\n",
              "      <td>5.182</td>\n",
              "    </tr>\n",
              "    <tr>\n",
              "      <th>94</th>\n",
              "      <td>18.36</td>\n",
              "      <td>16.52</td>\n",
              "      <td>0.8452</td>\n",
              "      <td>6.666</td>\n",
              "      <td>3.485</td>\n",
              "      <td>4.933</td>\n",
              "    </tr>\n",
              "  </tbody>\n",
              "</table>\n",
              "</div>"
            ],
            "text/plain": [
              "      area  perimeter  compactness  kernel_length  kernel_width  \\\n",
              "86   18.88      16.26       0.8969          6.084         3.764   \n",
              "61   11.23      12.63       0.8840          4.902         2.879   \n",
              "34   15.05      14.68       0.8779          5.712         3.328   \n",
              "122  16.17      15.38       0.8588          5.762         3.387   \n",
              "204  12.37      13.47       0.8567          5.204         2.960   \n",
              "10   15.26      14.85       0.8696          5.714         3.242   \n",
              "97   18.98      16.57       0.8687          6.449         3.552   \n",
              "165  12.10      13.15       0.8793          5.105         2.941   \n",
              "174  10.83      12.96       0.8099          5.278         2.641   \n",
              "94   18.36      16.52       0.8452          6.666         3.485   \n",
              "\n",
              "     asymmetry_coefficient  \n",
              "86                   1.649  \n",
              "61                   2.269  \n",
              "34                   2.129  \n",
              "122                  4.286  \n",
              "204                  3.919  \n",
              "10                   4.543  \n",
              "97                   2.144  \n",
              "165                  2.201  \n",
              "174                  5.182  \n",
              "94                   4.933  "
            ]
          },
          "execution_count": 2,
          "metadata": {},
          "output_type": "execute_result"
        }
      ],
      "source": [
        "import pandas as pd \n",
        "import wget     \n",
        "\n",
        "# cargmos los datos de entrenamiento \n",
        "wget.download('https://raw.githubusercontent.com/MicrosoftDocs/mslearn-introduction-to-machine-learning/main/Data/ml-basics/seeds.csv')\n",
        "data = pd.read_csv('seeds.csv')\n",
        "\n",
        "# Visualizamos 10 muestras aleatorias (solo las caracteristicas)\n",
        "features = data[data.columns[0:6]]\n",
        "features.sample(10)\n"
      ]
    },
    {
      "cell_type": "code",
      "execution_count": 3,
      "metadata": {},
      "outputs": [
        {
          "data": {
            "text/html": [
              "<div>\n",
              "<style scoped>\n",
              "    .dataframe tbody tr th:only-of-type {\n",
              "        vertical-align: middle;\n",
              "    }\n",
              "\n",
              "    .dataframe tbody tr th {\n",
              "        vertical-align: top;\n",
              "    }\n",
              "\n",
              "    .dataframe thead th {\n",
              "        text-align: right;\n",
              "    }\n",
              "</style>\n",
              "<table border=\"1\" class=\"dataframe\">\n",
              "  <thead>\n",
              "    <tr style=\"text-align: right;\">\n",
              "      <th></th>\n",
              "      <th>area</th>\n",
              "      <th>perimeter</th>\n",
              "      <th>compactness</th>\n",
              "      <th>kernel_length</th>\n",
              "      <th>kernel_width</th>\n",
              "      <th>asymmetry_coefficient</th>\n",
              "      <th>groove_length</th>\n",
              "      <th>species</th>\n",
              "    </tr>\n",
              "  </thead>\n",
              "  <tbody>\n",
              "    <tr>\n",
              "      <th>0</th>\n",
              "      <td>15.26</td>\n",
              "      <td>14.84</td>\n",
              "      <td>0.8710</td>\n",
              "      <td>5.763</td>\n",
              "      <td>3.312</td>\n",
              "      <td>2.221</td>\n",
              "      <td>5.220</td>\n",
              "      <td>0</td>\n",
              "    </tr>\n",
              "    <tr>\n",
              "      <th>1</th>\n",
              "      <td>14.88</td>\n",
              "      <td>14.57</td>\n",
              "      <td>0.8811</td>\n",
              "      <td>5.554</td>\n",
              "      <td>3.333</td>\n",
              "      <td>1.018</td>\n",
              "      <td>4.956</td>\n",
              "      <td>0</td>\n",
              "    </tr>\n",
              "  </tbody>\n",
              "</table>\n",
              "</div>"
            ],
            "text/plain": [
              "    area  perimeter  compactness  kernel_length  kernel_width  \\\n",
              "0  15.26      14.84       0.8710          5.763         3.312   \n",
              "1  14.88      14.57       0.8811          5.554         3.333   \n",
              "\n",
              "   asymmetry_coefficient  groove_length  species  \n",
              "0                  2.221          5.220        0  \n",
              "1                  1.018          4.956        0  "
            ]
          },
          "execution_count": 3,
          "metadata": {},
          "output_type": "execute_result"
        }
      ],
      "source": [
        "data.head(2)"
      ]
    },
    {
      "attachments": {},
      "cell_type": "markdown",
      "metadata": {},
      "source": [
        "As you can see, the dataset contains six data points (or *features*) for each instance (*observation*) of a seed. So you could interpret these as coordinates that describe each instance's location in six-dimensional space.\n",
        "\n",
        "Now, of course six-dimensional space is difficult to visualise in a three-dimensional world, or on a two-dimensional plot; so we'll take advantage of a mathematical technique called *Principal Component Analysis* (PCA) to analyze the relationships between the features and summarize each observation as coordinates for two principal components - in other words, we'll translate the six-dimensional feature values into two-dimensional coordinates.\n",
        "### *Spain*\n",
        "\n",
        "Como puede ver, el conjunto de datos contiene seis puntos de datos (o características ) para cada instancia ( observación ) de una semilla. Entonces podría interpretarlos como coordenadas que describen la ubicación de cada instancia en un espacio de seis dimensiones.\n",
        "\n",
        "Ahora, por supuesto, el espacio de seis dimensiones es difícil de visualizar en un mundo tridimensional, o en una trama de dos dimensiones; por lo tanto, aprovecharemos una técnica matemática llamada *Análisis de componentes principales (PCA)* para analizar las relaciones entre las características y resumir cada observación como coordenadas para dos componentes principales; en otras palabras, traduciremos los valores de características de seis dimensiones en coordenadas bidimensionales."
      ]
    },
    {
      "cell_type": "code",
      "execution_count": 9,
      "metadata": {},
      "outputs": [
        {
          "data": {
            "text/plain": [
              "array([[ 0.11883593, -0.09382469],\n",
              "       [ 0.0696878 , -0.31077233],\n",
              "       [-0.03499184, -0.37044705],\n",
              "       [-0.06582089, -0.36365235],\n",
              "       [ 0.32594892, -0.37695797],\n",
              "       [-0.02455447, -0.31060184],\n",
              "       [-0.00769646, -0.07594931],\n",
              "       [-0.05646955, -0.26696284],\n",
              "       [ 0.38196305, -0.05149471],\n",
              "       [ 0.35701044, -0.17697998]])"
            ]
          },
          "execution_count": 9,
          "metadata": {},
          "output_type": "execute_result"
        }
      ],
      "source": [
        "# Codificacion para uso de PCA\n",
        "from sklearn.preprocessing import MinMaxScaler  # Para realizar el escalado de datos\n",
        "from sklearn.decomposition import PCA           # Analisis de componentes principales\n",
        "\n",
        "# Normalizamos las caracteristicas numericas para que esten en la misma escala\n",
        "scaled_features = MinMaxScaler().fit_transform(features[data.columns[0:6]])     # Escalamos las 6 caracteristicas numericas\n",
        "\n",
        "# Obtenemos las dos componentes principales (PCA)\n",
        "pca = PCA(n_components=2).fit(scaled_features)\n",
        "features_2d = pca.transform(scaled_features)\n",
        "\n",
        "features_2d[0:10]       # 10 primeros cc. de datos obtenidos "
      ]
    },
    {
      "attachments": {},
      "cell_type": "markdown",
      "metadata": {},
      "source": [
        "Now that we have the data points translated to two dimensions, we can visualize them in a plot:\n",
        "\n",
        "### *spain*\n",
        "Ahora que tenemos los puntos de datos traducidos a dos dimensiones, podemos visualizarlos en un gráfico:"
      ]
    },
    {
      "cell_type": "code",
      "execution_count": 11,
      "metadata": {},
      "outputs": [
        {
          "data": {
            "image/png": "[encoded data removed]",
            "text/plain": [
              "<Figure size 640x480 with 1 Axes>"
            ]
          },
          "metadata": {},
          "output_type": "display_data"
        }
      ],
      "source": [
        "import matplotlib.pyplot as plt\n",
        "%matplotlib inline\n",
        "\n",
        "plt.scatter(features_2d[:,0],features_2d[:,1])\n",
        "plt.xlabel('Dimension 1')\n",
        "plt.ylabel('Dimension 2')\n",
        "plt.title('Data')\n",
        "plt.show()"
      ]
    },
    {
      "attachments": {},
      "cell_type": "markdown",
      "metadata": {},
      "source": [
        "Hopefully you can see at least two, arguably three, reasonably distinct groups of data points; but here lies one of the fundamental problems with clustering - without known class labels, how do you know how many clusters to separate your data into?\n",
        "\n",
        "One way we can try to find out is to use a data sample to create a series of clustering models with an incrementing number of clusters, and measure how tightly the data points are grouped within each cluster. A metric often used to measure this tightness is the *within cluster sum of squares* (WCSS), with lower values meaning that the data points are closer. You can then plot the WCSS for each model.\n",
        "\n",
        "### *spain*:\n",
        "Es de esperar que pueda ver al menos dos, posiblemente tres, grupos razonablemente distintos de puntos de datos; pero aquí radica uno de los problemas fundamentales con la agrupación en clústeres: sin etiquetas de clase conocidas, ¿cómo sabe en cuántos clústeres debe separar sus datos?\n",
        "\n",
        "Una forma en que podemos intentar averiguarlo es usar una muestra de datos para crear una serie de modelos de agrupamiento con un número creciente de grupos y medir qué tan estrechamente se agrupan los puntos de datos dentro de cada grupo. Una métrica que se usa a menudo para medir este ajuste es la *suma de cuadrados dentro del grupo (WCSS)*, con valores más bajos que significan que los puntos de datos están más cerca. A continuación, puede trazar el WCSS para cada modelo."
      ]
    },
    {
      "cell_type": "code",
      "execution_count": 18,
      "metadata": {},
      "outputs": [
        {
          "data": {
            "image/png": "[encoded data removed]",
            "text/plain": [
              "<Figure size 640x480 with 1 Axes>"
            ]
          },
          "metadata": {},
          "output_type": "display_data"
        }
      ],
      "source": [
        "# importamos las librerias \n",
        "import numpy as np\n",
        "import matplotlib.pyplot as plt\n",
        "from sklearn.cluster import KMeans      # Modelo de K-means clusters\n",
        "%matplotlib inline\n",
        "\n",
        "# Creamos 10 modelos de 1 a 10 clusters\n",
        "wcss = []   # Vector para guardar los valores wcss de cada modelo\n",
        "\n",
        "for i in range(1,11):\n",
        "    kmeans = KMeans(n_clusters=i)\n",
        "    kmeans.fit(features.values)     # Entrenamos el modelo creado \n",
        "    wcss.append(kmeans.inertia_)\n",
        "\n",
        "# Graficamos los valores WCSS por cantidad de clusters\n",
        "plt.plot(range(1, 11), wcss)\n",
        "plt.title('WCSS por Clusters')\n",
        "plt.xlabel('Numero de clusters')\n",
        "plt.ylabel('WCSS')\n",
        "plt.show()\n",
        "\n"
      ]
    },
    {
      "attachments": {},
      "cell_type": "markdown",
      "metadata": {},
      "source": [
        "The plot shows a large reduction in WCSS (so greater *tightness*) as the number of clusters increases from one to two, and a further noticable reduction from two to three clusters. After that, the reduction is less pronounced, resulting in an \"elbow\" in the chart at around three clusters. This is a good indication that there are two to three reasonably well separated clusters of data points.\n",
        "\n",
        "## Summary\n",
        "\n",
        "Here we looked at what clustering means, and how to determine whether clustering might be appropriate for your data. In the next notebook, we will look at two ways of \n",
        "labelling the data automatically.\n",
        "\n",
        "\n",
        "### *spain*:\n",
        "El gráfico muestra una gran reducción en WCSS (por lo tanto, mayor rigidez ) a medida que el número de grupos aumenta de uno a dos, y una reducción más notable de dos a tres grupos. Después de eso, la reducción es menos pronunciada, lo que da como resultado un \"codo\" en el gráfico de alrededor de tres grupos. Esta es una buena indicación de que hay dos o tres grupos de puntos de datos razonablemente bien separados.\n",
        "\n",
        "## Resumen\n",
        "Aquí analizamos qué significa la agrupación en clústeres y cómo determinar si la agrupación en clústeres podría ser adecuada para sus datos. En el siguiente cuaderno, veremos dos formas de etiquetar los datos automáticamente."
      ]
    },
    {
      "cell_type": "code",
      "execution_count": null,
      "metadata": {},
      "outputs": [],
      "source": []
    }
  ],
  "metadata": {
    "kernel_info": {
      "name": "conda-env-py38_default-py"
    },
    "kernelspec": {
      "display_name": "Python 3",
      "language": "python",
      "name": "python3"
    },
    "language_info": {
      "codemirror_mode": {
        "name": "ipython",
        "version": 3
      },
      "file_extension": ".py",
      "mimetype": "text/x-python",
      "name": "python",
      "nbconvert_exporter": "python",
      "pygments_lexer": "ipython3",
      "version": "3.10.7"
    },
    "nteract": {
      "version": "nteract-front-end@1.0.0"
    }
  },
  "nbformat": 4,
  "nbformat_minor": 2
}
